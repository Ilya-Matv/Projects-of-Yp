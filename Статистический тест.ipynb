{
 "cells": [
  {
   "cell_type": "markdown",
   "metadata": {},
   "source": [
    "<div style=\"border:solid green 2px; padding: 20px\"> <h1 style=\"color:green; margin-bottom:20px\">Комментарий ревьювера</h1>\n",
    "\n",
    "### <font color='green'>  Привет, меня зовут Сергей Морозов, я буду делать ревью твоей работы. Для начала я раскажу как я буду маркировать свои комментарии в твоей тетардке. Я буду использовать комментарии в ячейках \"markdown\" и при необходимости комментарии в коде. Пожалуйста не удаляй комментарии в работе, они еще пригодятся и тебе и мне. Спасибо!:\n",
    "\n",
    "\n",
    "\n",
    "<div class=\"alert alert-block alert-success\">\n",
    "<b>Все ОК:</b> Зеленный блок указывает на то, что задание решено корректно\n",
    "</div>\n",
    "\n",
    "\n",
    "\n",
    "    \n",
    "<div class=\"alert alert-block alert-warning\">\n",
    "<b>Можно улучшить:</b> Желтый блок указывает на то, что задание решено корректно, но какие-то вещи можно улучшить для большей эффективности работы, чистоты кода, поддержки и пр. В коде будет использовано обозначение #TODO\n",
    "</div>\n",
    "\n",
    "\n",
    "\n",
    "\n",
    "<div class=\"alert alert-block alert-danger\">\n",
    "<b>Нужно исправить:</b> Красный блок указывает на то, то в задании допещена ошибка, которая влияете на итоговые результаты и ее необходимо исправить. В коде будет использовано обозначение #FIXIT\n",
    "</div>\n",
    "\n",
    "\n",
    "\n",
    "<div class=\"alert alert-block alert-info\">\n",
    "<b>Для размышления:</b> В синем блоке, я буду указывать полезные рекомендации и ссылки на дополнительные материалы, надеюсь тебя они заинтересуют :).\n",
    "</div>\n",
    "    \n",
    "    \n",
    "### <font color='green'> Это очень интересный проект, надеюсь тебе понравилось работать с ним, давай посмотрим к каким выводам ты пришел:"
   ]
  },
  {
   "cell_type": "markdown",
   "metadata": {},
   "source": [
    "<div style=\"border:solid yellow 2px; padding: 20px\"> <h1 style=\"color:orange; margin-bottom:20px\">Комментарий ревьювера</h1>\n",
    "    \n",
    "<div class=\"alert alert-block alert-warning\">\n",
    "<b>Можно улучшить:</b> Хорошей практикой является добавление в начале проекта кратокого описания целей, то позвоялет людям не знакомым с проектом вникунтуть в суть проводимого тобой анализа. Не забывай что данныей проект может стать частью твоего портфолио, и человеку которому он попадет в руки в первый раз, должно быть все понятно.\n",
    "</div>\n"
   ]
  },
  {
   "cell_type": "markdown",
   "metadata": {},
   "source": [
    "# Определение перспективного тарифа для телеком компании.\n",
    "В данном проекте рассмотрю два тарифа телеком компании с целью их сравнения.\n",
    "Выявлю зависимости, постараюсь дать им описание и выдвинуть гипотезы о применении знаний о них на практике"
   ]
  },
  {
   "cell_type": "markdown",
   "metadata": {},
   "source": [
    "Открываю файл и изучаю общую информацию"
   ]
  },
  {
   "cell_type": "code",
   "execution_count": 2,
   "metadata": {},
   "outputs": [
    {
     "name": "stdout",
     "output_type": "stream",
     "text": [
      "<class 'pandas.core.frame.DataFrame'>\n",
      "RangeIndex: 202607 entries, 0 to 202606\n",
      "Data columns (total 4 columns):\n",
      "id           202607 non-null object\n",
      "call_date    202607 non-null object\n",
      "duration     202607 non-null float64\n",
      "user_id      202607 non-null int64\n",
      "dtypes: float64(1), int64(1), object(2)\n",
      "memory usage: 6.2+ MB\n"
     ]
    }
   ],
   "source": [
    "import pandas as pd#Импортирую библиотеку пандас\n",
    "calls = pd.read_csv('/datasets/calls.csv')#Читаю файл\n",
    "calls.info()#Вывожу общую информацию о файле на экран"
   ]
  },
  {
   "cell_type": "code",
   "execution_count": 3,
   "metadata": {},
   "outputs": [
    {
     "data": {
      "text/plain": [
       "2018-12-31    1435\n",
       "2018-12-29    1202\n",
       "2018-12-30    1192\n",
       "2018-12-22    1158\n",
       "2018-12-26    1149\n",
       "              ... \n",
       "2018-01-05      20\n",
       "2018-01-07      18\n",
       "2018-01-02       9\n",
       "2018-01-03       7\n",
       "2018-01-01       5\n",
       "Name: call_date, Length: 365, dtype: int64"
      ]
     },
     "execution_count": 3,
     "metadata": {},
     "output_type": "execute_result"
    }
   ],
   "source": [
    "calls['call_date'].value_counts()#Проверяю столбец дат\n",
    "#Как видно, 365 дат на 365 дней в году"
   ]
  },
  {
   "cell_type": "code",
   "execution_count": 4,
   "metadata": {},
   "outputs": [
    {
     "data": {
      "image/png": "[encoded data removed]",
      "text/plain": [
       "<Figure size 432x288 with 1 Axes>"
      ]
     },
     "metadata": {
      "needs_background": "light"
     },
     "output_type": "display_data"
    }
   ],
   "source": [
    "import matplotlib.pyplot as plt#импорт библиотеки матплотлиб\n",
    "calls.boxplot(column='duration')#Строим ящик с усами\n",
    "plt.show()#Как видим- основная часть данных ложиться до 35 мин, что вполне реально"
   ]
  },
  {
   "cell_type": "markdown",
   "metadata": {},
   "source": [
    "В таблице звонков все столци заполнены, пропусков нет"
   ]
  },
  {
   "cell_type": "code",
   "execution_count": 5,
   "metadata": {},
   "outputs": [
    {
     "name": "stdout",
     "output_type": "stream",
     "text": [
      "<class 'pandas.core.frame.DataFrame'>\n",
      "RangeIndex: 149396 entries, 0 to 149395\n",
      "Data columns (total 5 columns):\n",
      "Unnamed: 0      149396 non-null int64\n",
      "id              149396 non-null object\n",
      "mb_used         149396 non-null float64\n",
      "session_date    149396 non-null object\n",
      "user_id         149396 non-null int64\n",
      "dtypes: float64(1), int64(2), object(2)\n",
      "memory usage: 5.7+ MB\n"
     ]
    }
   ],
   "source": [
    "internet = pd.read_csv('/datasets/internet.csv')#Читаю файл\n",
    "internet.info()#Вывожу общую информацию о файле на экран"
   ]
  },
  {
   "cell_type": "code",
   "execution_count": 6,
   "metadata": {},
   "outputs": [
    {
     "data": {
      "image/png": "[encoded data removed]",
      "text/plain": [
       "<Figure size 432x288 with 1 Axes>"
      ]
     },
     "metadata": {
      "needs_background": "light"
     },
     "output_type": "display_data"
    }
   ],
   "source": [
    "internet.boxplot(column='mb_used')#Строим ящик с усами\n",
    "plt.show()#Как видим- основная часть данных ложиться до 1750 мб, что вполне реально за день"
   ]
  },
  {
   "cell_type": "code",
   "execution_count": 7,
   "metadata": {},
   "outputs": [
    {
     "data": {
      "text/plain": [
       "2018-12-31    1057\n",
       "2018-12-30     903\n",
       "2018-12-25     859\n",
       "2018-12-26     844\n",
       "2018-12-22     834\n",
       "              ... \n",
       "2018-01-05      14\n",
       "2018-01-04       9\n",
       "2018-01-03       6\n",
       "2018-01-02       3\n",
       "2018-01-01       3\n",
       "Name: session_date, Length: 365, dtype: int64"
      ]
     },
     "execution_count": 7,
     "metadata": {},
     "output_type": "execute_result"
    }
   ],
   "source": [
    "internet['session_date'].value_counts()#Проверяю столбец дат\n",
    "#Как видно, 365 дат на 365 дней в году"
   ]
  },
  {
   "cell_type": "markdown",
   "metadata": {},
   "source": [
    "В таблице интернета все столци заполнены, пропусков нет"
   ]
  },
  {
   "cell_type": "code",
   "execution_count": 8,
   "metadata": {},
   "outputs": [
    {
     "name": "stdout",
     "output_type": "stream",
     "text": [
      "<class 'pandas.core.frame.DataFrame'>\n",
      "RangeIndex: 123036 entries, 0 to 123035\n",
      "Data columns (total 3 columns):\n",
      "id              123036 non-null object\n",
      "message_date    123036 non-null object\n",
      "user_id         123036 non-null int64\n",
      "dtypes: int64(1), object(2)\n",
      "memory usage: 2.8+ MB\n"
     ]
    }
   ],
   "source": [
    "messages = pd.read_csv('/datasets/messages.csv')#Читаю файл\n",
    "messages.info()#Вывожу общую информацию о файле на экран"
   ]
  },
  {
   "cell_type": "code",
   "execution_count": 9,
   "metadata": {},
   "outputs": [
    {
     "data": {
      "text/plain": [
       "2018-12-31    859\n",
       "2018-12-30    765\n",
       "2018-12-21    712\n",
       "2018-12-29    702\n",
       "2018-12-26    699\n",
       "             ... \n",
       "2018-01-07     12\n",
       "2018-01-02     10\n",
       "2018-01-04     10\n",
       "2018-01-05     10\n",
       "2018-01-03      4\n",
       "Name: message_date, Length: 364, dtype: int64"
      ]
     },
     "execution_count": 9,
     "metadata": {},
     "output_type": "execute_result"
    }
   ],
   "source": [
    "messages['message_date'].value_counts()#Проверяю столбец дат\n",
    "#Как видно, 364 дат на 365 дней в году, не превышает значение"
   ]
  },
  {
   "cell_type": "markdown",
   "metadata": {},
   "source": [
    "В таблице сообщений все столци заполнены, пропусков нет"
   ]
  },
  {
   "cell_type": "code",
   "execution_count": 10,
   "metadata": {},
   "outputs": [
    {
     "name": "stdout",
     "output_type": "stream",
     "text": [
      "<class 'pandas.core.frame.DataFrame'>\n",
      "RangeIndex: 2 entries, 0 to 1\n",
      "Data columns (total 8 columns):\n",
      "messages_included        2 non-null int64\n",
      "mb_per_month_included    2 non-null int64\n",
      "minutes_included         2 non-null int64\n",
      "rub_monthly_fee          2 non-null int64\n",
      "rub_per_gb               2 non-null int64\n",
      "rub_per_message          2 non-null int64\n",
      "rub_per_minute           2 non-null int64\n",
      "tariff_name              2 non-null object\n",
      "dtypes: int64(7), object(1)\n",
      "memory usage: 256.0+ bytes\n"
     ]
    }
   ],
   "source": [
    "tariffs = pd.read_csv('/datasets/tariffs.csv')#Читаю файл\n",
    "tariffs.info()#Вывожу общую информацию о файле на экран"
   ]
  },
  {
   "cell_type": "code",
   "execution_count": 11,
   "metadata": {},
   "outputs": [
    {
     "data": {
      "text/html": [
       "<div>\n",
       "<style scoped>\n",
       "    .dataframe tbody tr th:only-of-type {\n",
       "        vertical-align: middle;\n",
       "    }\n",
       "\n",
       "    .dataframe tbody tr th {\n",
       "        vertical-align: top;\n",
       "    }\n",
       "\n",
       "    .dataframe thead th {\n",
       "        text-align: right;\n",
       "    }\n",
       "</style>\n",
       "<table border=\"1\" class=\"dataframe\">\n",
       "  <thead>\n",
       "    <tr style=\"text-align: right;\">\n",
       "      <th></th>\n",
       "      <th>messages_included</th>\n",
       "      <th>mb_per_month_included</th>\n",
       "      <th>minutes_included</th>\n",
       "      <th>rub_monthly_fee</th>\n",
       "      <th>rub_per_gb</th>\n",
       "      <th>rub_per_message</th>\n",
       "      <th>rub_per_minute</th>\n",
       "      <th>tariff_name</th>\n",
       "    </tr>\n",
       "  </thead>\n",
       "  <tbody>\n",
       "    <tr>\n",
       "      <td>0</td>\n",
       "      <td>50</td>\n",
       "      <td>15360</td>\n",
       "      <td>500</td>\n",
       "      <td>550</td>\n",
       "      <td>200</td>\n",
       "      <td>3</td>\n",
       "      <td>3</td>\n",
       "      <td>smart</td>\n",
       "    </tr>\n",
       "    <tr>\n",
       "      <td>1</td>\n",
       "      <td>1000</td>\n",
       "      <td>30720</td>\n",
       "      <td>3000</td>\n",
       "      <td>1950</td>\n",
       "      <td>150</td>\n",
       "      <td>1</td>\n",
       "      <td>1</td>\n",
       "      <td>ultra</td>\n",
       "    </tr>\n",
       "  </tbody>\n",
       "</table>\n",
       "</div>"
      ],
      "text/plain": [
       "   messages_included  mb_per_month_included  minutes_included  \\\n",
       "0                 50                  15360               500   \n",
       "1               1000                  30720              3000   \n",
       "\n",
       "   rub_monthly_fee  rub_per_gb  rub_per_message  rub_per_minute tariff_name  \n",
       "0              550         200                3               3       smart  \n",
       "1             1950         150                1               1       ultra  "
      ]
     },
     "execution_count": 11,
     "metadata": {},
     "output_type": "execute_result"
    }
   ],
   "source": [
    "tariffs#Данные совпадают с заданием"
   ]
  },
  {
   "cell_type": "markdown",
   "metadata": {},
   "source": [
    "В таблице тарифов все столбци заполнены, пропусков нет"
   ]
  },
  {
   "cell_type": "code",
   "execution_count": 12,
   "metadata": {},
   "outputs": [
    {
     "name": "stdout",
     "output_type": "stream",
     "text": [
      "<class 'pandas.core.frame.DataFrame'>\n",
      "RangeIndex: 500 entries, 0 to 499\n",
      "Data columns (total 8 columns):\n",
      "user_id       500 non-null int64\n",
      "age           500 non-null int64\n",
      "churn_date    38 non-null object\n",
      "city          500 non-null object\n",
      "first_name    500 non-null object\n",
      "last_name     500 non-null object\n",
      "reg_date      500 non-null object\n",
      "tariff        500 non-null object\n",
      "dtypes: int64(2), object(6)\n",
      "memory usage: 31.4+ KB\n"
     ]
    }
   ],
   "source": [
    "users = pd.read_csv('/datasets/users.csv')#Читаю файл\n",
    "users.info()#Вывожу общую информацию о файле на экран"
   ]
  },
  {
   "cell_type": "code",
   "execution_count": 13,
   "metadata": {},
   "outputs": [
    {
     "data": {
      "image/png": "[encoded data removed]",
      "text/plain": [
       "<Figure size 432x288 with 1 Axes>"
      ]
     },
     "metadata": {
      "needs_background": "light"
     },
     "output_type": "display_data"
    }
   ],
   "source": [
    "users.boxplot(column='age')#Строим ящик с усами\n",
    "plt.show()#Как видим- основная часть данных ложиться до 70 лет, что вполне реально, выбросов нет"
   ]
  },
  {
   "cell_type": "code",
   "execution_count": 14,
   "metadata": {},
   "outputs": [
    {
     "data": {
      "text/plain": [
       "Москва              99\n",
       "Санкт-Петербург     39\n",
       "Новосибирск         16\n",
       "Омск                14\n",
       "Казань              14\n",
       "Уфа                 12\n",
       "Екатеринбург        11\n",
       "Набережные Челны    11\n",
       "Ульяновск           11\n",
       "Краснодар           11\n",
       "Самара               9\n",
       "Челябинск            9\n",
       "Пермь                8\n",
       "Нижний Новгород      8\n",
       "Волгоград            8\n",
       "Красноярск           7\n",
       "Вологда              7\n",
       "Улан-Удэ             7\n",
       "Новокузнецк          7\n",
       "Пенза                6\n",
       "Сочи                 6\n",
       "Иркутск              6\n",
       "Ростов-на-Дону       6\n",
       "Тюмень               6\n",
       "Киров                6\n",
       "Воронеж              6\n",
       "Томск                6\n",
       "Балашиха             5\n",
       "Владивосток          5\n",
       "Махачкала            5\n",
       "Name: city, dtype: int64"
      ]
     },
     "execution_count": 14,
     "metadata": {},
     "output_type": "execute_result"
    }
   ],
   "source": [
    "users['city'].value_counts().head(30)#Проверяю столбец названий населенных пунктов\n",
    "#Как видим в основном населенные пункты с большой буквы, на русском языке- все ок"
   ]
  },
  {
   "cell_type": "code",
   "execution_count": 15,
   "metadata": {},
   "outputs": [
    {
     "data": {
      "text/plain": [
       "Радим         6\n",
       "Пётр          5\n",
       "Леонид        5\n",
       "Александр     4\n",
       "Мариетта      4\n",
       "Всеволод      4\n",
       "Леон          4\n",
       "Тамара        4\n",
       "Лола          4\n",
       "Рауль         4\n",
       "Алиса         4\n",
       "Руслан        4\n",
       "Рубен         4\n",
       "Матвей        4\n",
       "Андрей        4\n",
       "Габриель      4\n",
       "Веселина      4\n",
       "Артём         4\n",
       "Лолита        4\n",
       "Кристина      4\n",
       "Клавдия       4\n",
       "Марта         4\n",
       "Адам          4\n",
       "Инна          3\n",
       "Исак          3\n",
       "Гектор        3\n",
       "Евгений       3\n",
       "Аурелия       3\n",
       "Ириней        3\n",
       "Александра    3\n",
       "Олег          3\n",
       "Дана          3\n",
       "Святослав     3\n",
       "Геральд       3\n",
       "Рузана        3\n",
       "Мстислав      3\n",
       "Таисия        3\n",
       "Нелли         3\n",
       "Юна           3\n",
       "Снежана       3\n",
       "Name: first_name, dtype: int64"
      ]
     },
     "execution_count": 15,
     "metadata": {},
     "output_type": "execute_result"
    }
   ],
   "source": [
    "users['first_name'].value_counts().head(40)#Проверяю столбец имен пользователей\n",
    "#Как видим в основном имена с большой буквы, на русском языке- все ок"
   ]
  },
  {
   "cell_type": "code",
   "execution_count": 16,
   "metadata": {},
   "outputs": [
    {
     "data": {
      "text/plain": [
       "Андреенко        5\n",
       "Озерова          3\n",
       "Соловьев         3\n",
       "Булгаков         3\n",
       "Аркадьев         3\n",
       "Анищенко         3\n",
       "Алексеенко       3\n",
       "Аничкина         3\n",
       "Абашкина         3\n",
       "Березина         3\n",
       "Азимова          2\n",
       "Александрович    2\n",
       "Латышева         2\n",
       "Тетерина         2\n",
       "Наумов           2\n",
       "Фетисова         2\n",
       "Левин            2\n",
       "Колесова         2\n",
       "Алиев            2\n",
       "Касьянова        2\n",
       "Ларина           2\n",
       "Белякова         2\n",
       "Галкин           2\n",
       "Кошелева         2\n",
       "Гончаров         2\n",
       "Зубкова          2\n",
       "Воронин          2\n",
       "Голованова       2\n",
       "Серебрякова      2\n",
       "Чижова           2\n",
       "Демьянов         2\n",
       "Суслов           2\n",
       "Меркулова        2\n",
       "Авроров          2\n",
       "Алешин           2\n",
       "Макарова         2\n",
       "Киреева          2\n",
       "Авринский        2\n",
       "Игнатьева        2\n",
       "Вишневский       2\n",
       "Name: last_name, dtype: int64"
      ]
     },
     "execution_count": 16,
     "metadata": {},
     "output_type": "execute_result"
    }
   ],
   "source": [
    "users['last_name'].value_counts().head(40)#Проверяю столбец фамилий пользователей\n",
    "#Как видим в основном фамилии с большой буквы, на русском языке- все ок"
   ]
  },
  {
   "cell_type": "code",
   "execution_count": 17,
   "metadata": {},
   "outputs": [
    {
     "data": {
      "text/plain": [
       "2018-05-28    8\n",
       "2018-11-16    5\n",
       "2018-07-16    5\n",
       "2018-04-03    5\n",
       "2018-10-05    5\n",
       "             ..\n",
       "2018-07-30    1\n",
       "2018-12-13    1\n",
       "2018-04-25    1\n",
       "2018-02-03    1\n",
       "2018-12-18    1\n",
       "Name: reg_date, Length: 270, dtype: int64"
      ]
     },
     "execution_count": 17,
     "metadata": {},
     "output_type": "execute_result"
    }
   ],
   "source": [
    "users['reg_date'].value_counts()#Проверяю столбец дат\n",
    "#Как видно, 270 дат на 365 дней в году, не превышает значение"
   ]
  },
  {
   "cell_type": "code",
   "execution_count": 18,
   "metadata": {},
   "outputs": [
    {
     "data": {
      "text/plain": [
       "smart    351\n",
       "ultra    149\n",
       "Name: tariff, dtype: int64"
      ]
     },
     "execution_count": 18,
     "metadata": {},
     "output_type": "execute_result"
    }
   ],
   "source": [
    "users['tariff'].value_counts()#Проверяю столбец тарифов\n",
    "#Как видно других тарифов, кроме данных в задании- нет"
   ]
  },
  {
   "cell_type": "markdown",
   "metadata": {},
   "source": [
    "Есть пропуски в churn_date, но это означает что тарифом еще пользуются. Для проверки столбца айди сообщения,звонка или пользователя- необходимо разработать специальный алгоритм, думаю сейчас это не требуется, но если необходимо будеть опираться на конкретные значения, то они будут выявлены уже по факту, наша задача на данном этапе- увидеть зависмости, а не конкретизировать данные"
   ]
  },
  {
   "cell_type": "markdown",
   "metadata": {},
   "source": [
    "Вывод: все таблици прочитальсь нормально, данные без пропусков."
   ]
  },
  {
   "cell_type": "markdown",
   "metadata": {},
   "source": [
    "<div style=\"border:solid yellow 2px; padding: 20px\"> <h1 style=\"color:orange; margin-bottom:20px\">Комментарий ревьювера</h1>\n",
    "    \n",
    "<div class=\"alert alert-block alert-warning\">\n",
    "<b>Можно улучшить:</b> Также при загрузке данных всегда бывает полезно посмотрет на распределнеия численных переменных, так можно выявить недопустимые значения для переменных или проверить наличие выбросов и ошибок.\n",
    "</div>\n"
   ]
  },
  {
   "cell_type": "markdown",
   "metadata": {},
   "source": [
    "# Шаг 2. Подготовка данных."
   ]
  },
  {
   "cell_type": "markdown",
   "metadata": {},
   "source": [
    "Замена типов данных"
   ]
  },
  {
   "cell_type": "code",
   "execution_count": 19,
   "metadata": {},
   "outputs": [
    {
     "data": {
      "text/html": [
       "<div>\n",
       "<style scoped>\n",
       "    .dataframe tbody tr th:only-of-type {\n",
       "        vertical-align: middle;\n",
       "    }\n",
       "\n",
       "    .dataframe tbody tr th {\n",
       "        vertical-align: top;\n",
       "    }\n",
       "\n",
       "    .dataframe thead th {\n",
       "        text-align: right;\n",
       "    }\n",
       "</style>\n",
       "<table border=\"1\" class=\"dataframe\">\n",
       "  <thead>\n",
       "    <tr style=\"text-align: right;\">\n",
       "      <th></th>\n",
       "      <th>id</th>\n",
       "      <th>call_date</th>\n",
       "      <th>duration</th>\n",
       "      <th>user_id</th>\n",
       "    </tr>\n",
       "  </thead>\n",
       "  <tbody>\n",
       "    <tr>\n",
       "      <td>0</td>\n",
       "      <td>1000_0</td>\n",
       "      <td>2018-07-25</td>\n",
       "      <td>0.00</td>\n",
       "      <td>1000</td>\n",
       "    </tr>\n",
       "    <tr>\n",
       "      <td>1</td>\n",
       "      <td>1000_1</td>\n",
       "      <td>2018-08-17</td>\n",
       "      <td>0.00</td>\n",
       "      <td>1000</td>\n",
       "    </tr>\n",
       "    <tr>\n",
       "      <td>2</td>\n",
       "      <td>1000_2</td>\n",
       "      <td>2018-06-11</td>\n",
       "      <td>2.85</td>\n",
       "      <td>1000</td>\n",
       "    </tr>\n",
       "    <tr>\n",
       "      <td>3</td>\n",
       "      <td>1000_3</td>\n",
       "      <td>2018-09-21</td>\n",
       "      <td>13.80</td>\n",
       "      <td>1000</td>\n",
       "    </tr>\n",
       "    <tr>\n",
       "      <td>4</td>\n",
       "      <td>1000_4</td>\n",
       "      <td>2018-12-15</td>\n",
       "      <td>5.18</td>\n",
       "      <td>1000</td>\n",
       "    </tr>\n",
       "    <tr>\n",
       "      <td>...</td>\n",
       "      <td>...</td>\n",
       "      <td>...</td>\n",
       "      <td>...</td>\n",
       "      <td>...</td>\n",
       "    </tr>\n",
       "    <tr>\n",
       "      <td>202602</td>\n",
       "      <td>1499_215</td>\n",
       "      <td>2018-12-26</td>\n",
       "      <td>0.76</td>\n",
       "      <td>1499</td>\n",
       "    </tr>\n",
       "    <tr>\n",
       "      <td>202603</td>\n",
       "      <td>1499_216</td>\n",
       "      <td>2018-10-18</td>\n",
       "      <td>18.83</td>\n",
       "      <td>1499</td>\n",
       "    </tr>\n",
       "    <tr>\n",
       "      <td>202604</td>\n",
       "      <td>1499_217</td>\n",
       "      <td>2018-11-10</td>\n",
       "      <td>10.81</td>\n",
       "      <td>1499</td>\n",
       "    </tr>\n",
       "    <tr>\n",
       "      <td>202605</td>\n",
       "      <td>1499_218</td>\n",
       "      <td>2018-10-06</td>\n",
       "      <td>4.27</td>\n",
       "      <td>1499</td>\n",
       "    </tr>\n",
       "    <tr>\n",
       "      <td>202606</td>\n",
       "      <td>1499_219</td>\n",
       "      <td>2018-12-14</td>\n",
       "      <td>19.62</td>\n",
       "      <td>1499</td>\n",
       "    </tr>\n",
       "  </tbody>\n",
       "</table>\n",
       "<p>202607 rows × 4 columns</p>\n",
       "</div>"
      ],
      "text/plain": [
       "              id   call_date  duration  user_id\n",
       "0         1000_0  2018-07-25      0.00     1000\n",
       "1         1000_1  2018-08-17      0.00     1000\n",
       "2         1000_2  2018-06-11      2.85     1000\n",
       "3         1000_3  2018-09-21     13.80     1000\n",
       "4         1000_4  2018-12-15      5.18     1000\n",
       "...          ...         ...       ...      ...\n",
       "202602  1499_215  2018-12-26      0.76     1499\n",
       "202603  1499_216  2018-10-18     18.83     1499\n",
       "202604  1499_217  2018-11-10     10.81     1499\n",
       "202605  1499_218  2018-10-06      4.27     1499\n",
       "202606  1499_219  2018-12-14     19.62     1499\n",
       "\n",
       "[202607 rows x 4 columns]"
      ]
     },
     "execution_count": 19,
     "metadata": {},
     "output_type": "execute_result"
    }
   ],
   "source": [
    "calls#Взглянем на таблицу"
   ]
  },
  {
   "cell_type": "markdown",
   "metadata": {},
   "source": [
    "«Мегалайн» всегда округляет вверх значения минут и мегабайтов, по этому данный столбец можно округлить вверх и сделать целочисленным типом."
   ]
  },
  {
   "cell_type": "code",
   "execution_count": 20,
   "metadata": {},
   "outputs": [],
   "source": [
    "import math#Импортирую библиотеку мат. операций\n",
    "def rouu(x):#Пишу функцию для оеругления значений строк\n",
    "    return math.ceil(x)#Округляю\n",
    "calls['duration'] = calls['duration'].apply(rouu)#Применяю округление"
   ]
  },
  {
   "cell_type": "code",
   "execution_count": 21,
   "metadata": {},
   "outputs": [],
   "source": [
    "calls['duration'] = calls['duration'].astype('int')#Привел столбец к целочисленному типу"
   ]
  },
  {
   "cell_type": "code",
   "execution_count": 22,
   "metadata": {},
   "outputs": [
    {
     "name": "stdout",
     "output_type": "stream",
     "text": [
      "<class 'pandas.core.frame.DataFrame'>\n",
      "RangeIndex: 202607 entries, 0 to 202606\n",
      "Data columns (total 4 columns):\n",
      "id           202607 non-null object\n",
      "call_date    202607 non-null datetime64[ns]\n",
      "duration     202607 non-null int64\n",
      "user_id      202607 non-null int64\n",
      "dtypes: datetime64[ns](1), int64(2), object(1)\n",
      "memory usage: 6.2+ MB\n"
     ]
    }
   ],
   "source": [
    "calls['call_date'] = pd.to_datetime(calls['call_date'], format='%Y-%m-%dT')#Перевожу даты в удобный формат\n",
    "calls.info()#Проверяю"
   ]
  },
  {
   "cell_type": "code",
   "execution_count": 23,
   "metadata": {
    "scrolled": true
   },
   "outputs": [
    {
     "data": {
      "text/plain": [
       "0     39613\n",
       "7     11510\n",
       "6     11457\n",
       "5     11411\n",
       "8     11272\n",
       "9     10973\n",
       "4     10918\n",
       "3     10362\n",
       "10    10186\n",
       "11     9385\n",
       "2      9194\n",
       "12     8448\n",
       "1      8402\n",
       "13     7486\n",
       "14     6554\n",
       "15     5505\n",
       "16     4551\n",
       "17     3671\n",
       "18     2984\n",
       "19     2411\n",
       "20     1806\n",
       "21     1304\n",
       "22      975\n",
       "23      720\n",
       "24      468\n",
       "25      363\n",
       "26      257\n",
       "27      151\n",
       "28      104\n",
       "29       56\n",
       "30       39\n",
       "31       30\n",
       "32       17\n",
       "33       10\n",
       "35        5\n",
       "34        3\n",
       "36        2\n",
       "37        2\n",
       "38        2\n",
       "Name: duration, dtype: int64"
      ]
     },
     "execution_count": 23,
     "metadata": {},
     "output_type": "execute_result"
    }
   ],
   "source": [
    "calls['duration'].value_counts()#Проверим как много 0 длительности звонков\n",
    "#Нулей достаточномного, но я пока оставлю их"
   ]
  },
  {
   "cell_type": "markdown",
   "metadata": {},
   "source": [
    "Данная таблица готова для работы с ней"
   ]
  },
  {
   "cell_type": "code",
   "execution_count": 24,
   "metadata": {},
   "outputs": [
    {
     "data": {
      "text/html": [
       "<div>\n",
       "<style scoped>\n",
       "    .dataframe tbody tr th:only-of-type {\n",
       "        vertical-align: middle;\n",
       "    }\n",
       "\n",
       "    .dataframe tbody tr th {\n",
       "        vertical-align: top;\n",
       "    }\n",
       "\n",
       "    .dataframe thead th {\n",
       "        text-align: right;\n",
       "    }\n",
       "</style>\n",
       "<table border=\"1\" class=\"dataframe\">\n",
       "  <thead>\n",
       "    <tr style=\"text-align: right;\">\n",
       "      <th></th>\n",
       "      <th>Unnamed: 0</th>\n",
       "      <th>id</th>\n",
       "      <th>mb_used</th>\n",
       "      <th>session_date</th>\n",
       "      <th>user_id</th>\n",
       "    </tr>\n",
       "  </thead>\n",
       "  <tbody>\n",
       "    <tr>\n",
       "      <td>0</td>\n",
       "      <td>0</td>\n",
       "      <td>1000_0</td>\n",
       "      <td>112.95</td>\n",
       "      <td>2018-11-25</td>\n",
       "      <td>1000</td>\n",
       "    </tr>\n",
       "    <tr>\n",
       "      <td>1</td>\n",
       "      <td>1</td>\n",
       "      <td>1000_1</td>\n",
       "      <td>1052.81</td>\n",
       "      <td>2018-09-07</td>\n",
       "      <td>1000</td>\n",
       "    </tr>\n",
       "    <tr>\n",
       "      <td>2</td>\n",
       "      <td>2</td>\n",
       "      <td>1000_2</td>\n",
       "      <td>1197.26</td>\n",
       "      <td>2018-06-25</td>\n",
       "      <td>1000</td>\n",
       "    </tr>\n",
       "    <tr>\n",
       "      <td>3</td>\n",
       "      <td>3</td>\n",
       "      <td>1000_3</td>\n",
       "      <td>550.27</td>\n",
       "      <td>2018-08-22</td>\n",
       "      <td>1000</td>\n",
       "    </tr>\n",
       "    <tr>\n",
       "      <td>4</td>\n",
       "      <td>4</td>\n",
       "      <td>1000_4</td>\n",
       "      <td>302.56</td>\n",
       "      <td>2018-09-24</td>\n",
       "      <td>1000</td>\n",
       "    </tr>\n",
       "    <tr>\n",
       "      <td>...</td>\n",
       "      <td>...</td>\n",
       "      <td>...</td>\n",
       "      <td>...</td>\n",
       "      <td>...</td>\n",
       "      <td>...</td>\n",
       "    </tr>\n",
       "    <tr>\n",
       "      <td>149391</td>\n",
       "      <td>149391</td>\n",
       "      <td>1499_152</td>\n",
       "      <td>318.90</td>\n",
       "      <td>2018-10-03</td>\n",
       "      <td>1499</td>\n",
       "    </tr>\n",
       "    <tr>\n",
       "      <td>149392</td>\n",
       "      <td>149392</td>\n",
       "      <td>1499_153</td>\n",
       "      <td>490.13</td>\n",
       "      <td>2018-12-14</td>\n",
       "      <td>1499</td>\n",
       "    </tr>\n",
       "    <tr>\n",
       "      <td>149393</td>\n",
       "      <td>149393</td>\n",
       "      <td>1499_154</td>\n",
       "      <td>0.00</td>\n",
       "      <td>2018-10-27</td>\n",
       "      <td>1499</td>\n",
       "    </tr>\n",
       "    <tr>\n",
       "      <td>149394</td>\n",
       "      <td>149394</td>\n",
       "      <td>1499_155</td>\n",
       "      <td>1246.32</td>\n",
       "      <td>2018-11-26</td>\n",
       "      <td>1499</td>\n",
       "    </tr>\n",
       "    <tr>\n",
       "      <td>149395</td>\n",
       "      <td>149395</td>\n",
       "      <td>1499_156</td>\n",
       "      <td>544.37</td>\n",
       "      <td>2018-10-26</td>\n",
       "      <td>1499</td>\n",
       "    </tr>\n",
       "  </tbody>\n",
       "</table>\n",
       "<p>149396 rows × 5 columns</p>\n",
       "</div>"
      ],
      "text/plain": [
       "        Unnamed: 0        id  mb_used session_date  user_id\n",
       "0                0    1000_0   112.95   2018-11-25     1000\n",
       "1                1    1000_1  1052.81   2018-09-07     1000\n",
       "2                2    1000_2  1197.26   2018-06-25     1000\n",
       "3                3    1000_3   550.27   2018-08-22     1000\n",
       "4                4    1000_4   302.56   2018-09-24     1000\n",
       "...            ...       ...      ...          ...      ...\n",
       "149391      149391  1499_152   318.90   2018-10-03     1499\n",
       "149392      149392  1499_153   490.13   2018-12-14     1499\n",
       "149393      149393  1499_154     0.00   2018-10-27     1499\n",
       "149394      149394  1499_155  1246.32   2018-11-26     1499\n",
       "149395      149395  1499_156   544.37   2018-10-26     1499\n",
       "\n",
       "[149396 rows x 5 columns]"
      ]
     },
     "execution_count": 24,
     "metadata": {},
     "output_type": "execute_result"
    }
   ],
   "source": [
    "internet#Проверяю таблицу"
   ]
  },
  {
   "cell_type": "code",
   "execution_count": 25,
   "metadata": {},
   "outputs": [
    {
     "data": {
      "text/html": [
       "<div>\n",
       "<style scoped>\n",
       "    .dataframe tbody tr th:only-of-type {\n",
       "        vertical-align: middle;\n",
       "    }\n",
       "\n",
       "    .dataframe tbody tr th {\n",
       "        vertical-align: top;\n",
       "    }\n",
       "\n",
       "    .dataframe thead th {\n",
       "        text-align: right;\n",
       "    }\n",
       "</style>\n",
       "<table border=\"1\" class=\"dataframe\">\n",
       "  <thead>\n",
       "    <tr style=\"text-align: right;\">\n",
       "      <th></th>\n",
       "      <th>id</th>\n",
       "      <th>mb_used</th>\n",
       "      <th>session_date</th>\n",
       "      <th>user_id</th>\n",
       "    </tr>\n",
       "  </thead>\n",
       "  <tbody>\n",
       "    <tr>\n",
       "      <td>0</td>\n",
       "      <td>1000_0</td>\n",
       "      <td>112.95</td>\n",
       "      <td>2018-11-25</td>\n",
       "      <td>1000</td>\n",
       "    </tr>\n",
       "    <tr>\n",
       "      <td>1</td>\n",
       "      <td>1000_1</td>\n",
       "      <td>1052.81</td>\n",
       "      <td>2018-09-07</td>\n",
       "      <td>1000</td>\n",
       "    </tr>\n",
       "    <tr>\n",
       "      <td>2</td>\n",
       "      <td>1000_2</td>\n",
       "      <td>1197.26</td>\n",
       "      <td>2018-06-25</td>\n",
       "      <td>1000</td>\n",
       "    </tr>\n",
       "    <tr>\n",
       "      <td>3</td>\n",
       "      <td>1000_3</td>\n",
       "      <td>550.27</td>\n",
       "      <td>2018-08-22</td>\n",
       "      <td>1000</td>\n",
       "    </tr>\n",
       "    <tr>\n",
       "      <td>4</td>\n",
       "      <td>1000_4</td>\n",
       "      <td>302.56</td>\n",
       "      <td>2018-09-24</td>\n",
       "      <td>1000</td>\n",
       "    </tr>\n",
       "    <tr>\n",
       "      <td>...</td>\n",
       "      <td>...</td>\n",
       "      <td>...</td>\n",
       "      <td>...</td>\n",
       "      <td>...</td>\n",
       "    </tr>\n",
       "    <tr>\n",
       "      <td>149391</td>\n",
       "      <td>1499_152</td>\n",
       "      <td>318.90</td>\n",
       "      <td>2018-10-03</td>\n",
       "      <td>1499</td>\n",
       "    </tr>\n",
       "    <tr>\n",
       "      <td>149392</td>\n",
       "      <td>1499_153</td>\n",
       "      <td>490.13</td>\n",
       "      <td>2018-12-14</td>\n",
       "      <td>1499</td>\n",
       "    </tr>\n",
       "    <tr>\n",
       "      <td>149393</td>\n",
       "      <td>1499_154</td>\n",
       "      <td>0.00</td>\n",
       "      <td>2018-10-27</td>\n",
       "      <td>1499</td>\n",
       "    </tr>\n",
       "    <tr>\n",
       "      <td>149394</td>\n",
       "      <td>1499_155</td>\n",
       "      <td>1246.32</td>\n",
       "      <td>2018-11-26</td>\n",
       "      <td>1499</td>\n",
       "    </tr>\n",
       "    <tr>\n",
       "      <td>149395</td>\n",
       "      <td>1499_156</td>\n",
       "      <td>544.37</td>\n",
       "      <td>2018-10-26</td>\n",
       "      <td>1499</td>\n",
       "    </tr>\n",
       "  </tbody>\n",
       "</table>\n",
       "<p>149396 rows × 4 columns</p>\n",
       "</div>"
      ],
      "text/plain": [
       "              id  mb_used session_date  user_id\n",
       "0         1000_0   112.95   2018-11-25     1000\n",
       "1         1000_1  1052.81   2018-09-07     1000\n",
       "2         1000_2  1197.26   2018-06-25     1000\n",
       "3         1000_3   550.27   2018-08-22     1000\n",
       "4         1000_4   302.56   2018-09-24     1000\n",
       "...          ...      ...          ...      ...\n",
       "149391  1499_152   318.90   2018-10-03     1499\n",
       "149392  1499_153   490.13   2018-12-14     1499\n",
       "149393  1499_154     0.00   2018-10-27     1499\n",
       "149394  1499_155  1246.32   2018-11-26     1499\n",
       "149395  1499_156   544.37   2018-10-26     1499\n",
       "\n",
       "[149396 rows x 4 columns]"
      ]
     },
     "execution_count": 25,
     "metadata": {},
     "output_type": "execute_result"
    }
   ],
   "source": [
    "internet = internet.loc[:,['id', 'mb_used', 'session_date', 'user_id']]#Удаляю ненужный столбец индексов\n",
    "internet#Проверяю"
   ]
  },
  {
   "cell_type": "code",
   "execution_count": 26,
   "metadata": {},
   "outputs": [
    {
     "name": "stdout",
     "output_type": "stream",
     "text": [
      "<class 'pandas.core.frame.DataFrame'>\n",
      "RangeIndex: 149396 entries, 0 to 149395\n",
      "Data columns (total 4 columns):\n",
      "id              149396 non-null object\n",
      "mb_used         149396 non-null float64\n",
      "session_date    149396 non-null datetime64[ns]\n",
      "user_id         149396 non-null int64\n",
      "dtypes: datetime64[ns](1), float64(1), int64(1), object(1)\n",
      "memory usage: 4.6+ MB\n"
     ]
    }
   ],
   "source": [
    "internet['session_date'] = pd.to_datetime(internet['session_date'], format='%Y-%m-%dT')#Перевожу даты в удобный формат\n",
    "internet.info()#Проверяю"
   ]
  },
  {
   "cell_type": "code",
   "execution_count": 27,
   "metadata": {},
   "outputs": [
    {
     "data": {
      "text/html": [
       "<div>\n",
       "<style scoped>\n",
       "    .dataframe tbody tr th:only-of-type {\n",
       "        vertical-align: middle;\n",
       "    }\n",
       "\n",
       "    .dataframe tbody tr th {\n",
       "        vertical-align: top;\n",
       "    }\n",
       "\n",
       "    .dataframe thead th {\n",
       "        text-align: right;\n",
       "    }\n",
       "</style>\n",
       "<table border=\"1\" class=\"dataframe\">\n",
       "  <thead>\n",
       "    <tr style=\"text-align: right;\">\n",
       "      <th></th>\n",
       "      <th>id</th>\n",
       "      <th>message_date</th>\n",
       "      <th>user_id</th>\n",
       "    </tr>\n",
       "  </thead>\n",
       "  <tbody>\n",
       "    <tr>\n",
       "      <td>0</td>\n",
       "      <td>1000_0</td>\n",
       "      <td>2018-06-27</td>\n",
       "      <td>1000</td>\n",
       "    </tr>\n",
       "    <tr>\n",
       "      <td>1</td>\n",
       "      <td>1000_1</td>\n",
       "      <td>2018-10-08</td>\n",
       "      <td>1000</td>\n",
       "    </tr>\n",
       "    <tr>\n",
       "      <td>2</td>\n",
       "      <td>1000_2</td>\n",
       "      <td>2018-08-04</td>\n",
       "      <td>1000</td>\n",
       "    </tr>\n",
       "    <tr>\n",
       "      <td>3</td>\n",
       "      <td>1000_3</td>\n",
       "      <td>2018-06-16</td>\n",
       "      <td>1000</td>\n",
       "    </tr>\n",
       "    <tr>\n",
       "      <td>4</td>\n",
       "      <td>1000_4</td>\n",
       "      <td>2018-12-05</td>\n",
       "      <td>1000</td>\n",
       "    </tr>\n",
       "    <tr>\n",
       "      <td>...</td>\n",
       "      <td>...</td>\n",
       "      <td>...</td>\n",
       "      <td>...</td>\n",
       "    </tr>\n",
       "    <tr>\n",
       "      <td>123031</td>\n",
       "      <td>1499_179</td>\n",
       "      <td>2018-12-12</td>\n",
       "      <td>1499</td>\n",
       "    </tr>\n",
       "    <tr>\n",
       "      <td>123032</td>\n",
       "      <td>1499_180</td>\n",
       "      <td>2018-09-28</td>\n",
       "      <td>1499</td>\n",
       "    </tr>\n",
       "    <tr>\n",
       "      <td>123033</td>\n",
       "      <td>1499_181</td>\n",
       "      <td>2018-09-27</td>\n",
       "      <td>1499</td>\n",
       "    </tr>\n",
       "    <tr>\n",
       "      <td>123034</td>\n",
       "      <td>1499_182</td>\n",
       "      <td>2018-11-15</td>\n",
       "      <td>1499</td>\n",
       "    </tr>\n",
       "    <tr>\n",
       "      <td>123035</td>\n",
       "      <td>1499_183</td>\n",
       "      <td>2018-11-16</td>\n",
       "      <td>1499</td>\n",
       "    </tr>\n",
       "  </tbody>\n",
       "</table>\n",
       "<p>123036 rows × 3 columns</p>\n",
       "</div>"
      ],
      "text/plain": [
       "              id message_date  user_id\n",
       "0         1000_0   2018-06-27     1000\n",
       "1         1000_1   2018-10-08     1000\n",
       "2         1000_2   2018-08-04     1000\n",
       "3         1000_3   2018-06-16     1000\n",
       "4         1000_4   2018-12-05     1000\n",
       "...          ...          ...      ...\n",
       "123031  1499_179   2018-12-12     1499\n",
       "123032  1499_180   2018-09-28     1499\n",
       "123033  1499_181   2018-09-27     1499\n",
       "123034  1499_182   2018-11-15     1499\n",
       "123035  1499_183   2018-11-16     1499\n",
       "\n",
       "[123036 rows x 3 columns]"
      ]
     },
     "execution_count": 27,
     "metadata": {},
     "output_type": "execute_result"
    }
   ],
   "source": [
    "messages#Проверяю таблицу"
   ]
  },
  {
   "cell_type": "code",
   "execution_count": 28,
   "metadata": {},
   "outputs": [
    {
     "name": "stdout",
     "output_type": "stream",
     "text": [
      "<class 'pandas.core.frame.DataFrame'>\n",
      "RangeIndex: 123036 entries, 0 to 123035\n",
      "Data columns (total 3 columns):\n",
      "id              123036 non-null object\n",
      "message_date    123036 non-null datetime64[ns]\n",
      "user_id         123036 non-null int64\n",
      "dtypes: datetime64[ns](1), int64(1), object(1)\n",
      "memory usage: 2.8+ MB\n"
     ]
    }
   ],
   "source": [
    "messages['message_date'] = pd.to_datetime(messages['message_date'], format='%Y-%m-%dT')#Перевожу даты в удобный формат\n",
    "messages.info()#Проверяю"
   ]
  },
  {
   "cell_type": "code",
   "execution_count": 29,
   "metadata": {},
   "outputs": [
    {
     "data": {
      "text/html": [
       "<div>\n",
       "<style scoped>\n",
       "    .dataframe tbody tr th:only-of-type {\n",
       "        vertical-align: middle;\n",
       "    }\n",
       "\n",
       "    .dataframe tbody tr th {\n",
       "        vertical-align: top;\n",
       "    }\n",
       "\n",
       "    .dataframe thead th {\n",
       "        text-align: right;\n",
       "    }\n",
       "</style>\n",
       "<table border=\"1\" class=\"dataframe\">\n",
       "  <thead>\n",
       "    <tr style=\"text-align: right;\">\n",
       "      <th></th>\n",
       "      <th>messages_included</th>\n",
       "      <th>mb_per_month_included</th>\n",
       "      <th>minutes_included</th>\n",
       "      <th>rub_monthly_fee</th>\n",
       "      <th>rub_per_gb</th>\n",
       "      <th>rub_per_message</th>\n",
       "      <th>rub_per_minute</th>\n",
       "      <th>tariff_name</th>\n",
       "    </tr>\n",
       "  </thead>\n",
       "  <tbody>\n",
       "    <tr>\n",
       "      <td>0</td>\n",
       "      <td>50</td>\n",
       "      <td>15360</td>\n",
       "      <td>500</td>\n",
       "      <td>550</td>\n",
       "      <td>200</td>\n",
       "      <td>3</td>\n",
       "      <td>3</td>\n",
       "      <td>smart</td>\n",
       "    </tr>\n",
       "    <tr>\n",
       "      <td>1</td>\n",
       "      <td>1000</td>\n",
       "      <td>30720</td>\n",
       "      <td>3000</td>\n",
       "      <td>1950</td>\n",
       "      <td>150</td>\n",
       "      <td>1</td>\n",
       "      <td>1</td>\n",
       "      <td>ultra</td>\n",
       "    </tr>\n",
       "  </tbody>\n",
       "</table>\n",
       "</div>"
      ],
      "text/plain": [
       "   messages_included  mb_per_month_included  minutes_included  \\\n",
       "0                 50                  15360               500   \n",
       "1               1000                  30720              3000   \n",
       "\n",
       "   rub_monthly_fee  rub_per_gb  rub_per_message  rub_per_minute tariff_name  \n",
       "0              550         200                3               3       smart  \n",
       "1             1950         150                1               1       ultra  "
      ]
     },
     "execution_count": 29,
     "metadata": {},
     "output_type": "execute_result"
    }
   ],
   "source": [
    "tariffs#Проверяю таблицу\n",
    "#Типы данных определились хорошо, таблица в порядке"
   ]
  },
  {
   "cell_type": "code",
   "execution_count": 30,
   "metadata": {},
   "outputs": [
    {
     "data": {
      "text/html": [
       "<div>\n",
       "<style scoped>\n",
       "    .dataframe tbody tr th:only-of-type {\n",
       "        vertical-align: middle;\n",
       "    }\n",
       "\n",
       "    .dataframe tbody tr th {\n",
       "        vertical-align: top;\n",
       "    }\n",
       "\n",
       "    .dataframe thead th {\n",
       "        text-align: right;\n",
       "    }\n",
       "</style>\n",
       "<table border=\"1\" class=\"dataframe\">\n",
       "  <thead>\n",
       "    <tr style=\"text-align: right;\">\n",
       "      <th></th>\n",
       "      <th>user_id</th>\n",
       "      <th>age</th>\n",
       "      <th>churn_date</th>\n",
       "      <th>city</th>\n",
       "      <th>first_name</th>\n",
       "      <th>last_name</th>\n",
       "      <th>reg_date</th>\n",
       "      <th>tariff</th>\n",
       "    </tr>\n",
       "  </thead>\n",
       "  <tbody>\n",
       "    <tr>\n",
       "      <td>0</td>\n",
       "      <td>1000</td>\n",
       "      <td>52</td>\n",
       "      <td>NaN</td>\n",
       "      <td>Краснодар</td>\n",
       "      <td>Рафаил</td>\n",
       "      <td>Верещагин</td>\n",
       "      <td>2018-05-25</td>\n",
       "      <td>ultra</td>\n",
       "    </tr>\n",
       "    <tr>\n",
       "      <td>1</td>\n",
       "      <td>1001</td>\n",
       "      <td>41</td>\n",
       "      <td>NaN</td>\n",
       "      <td>Москва</td>\n",
       "      <td>Иван</td>\n",
       "      <td>Ежов</td>\n",
       "      <td>2018-11-01</td>\n",
       "      <td>smart</td>\n",
       "    </tr>\n",
       "    <tr>\n",
       "      <td>2</td>\n",
       "      <td>1002</td>\n",
       "      <td>59</td>\n",
       "      <td>NaN</td>\n",
       "      <td>Стерлитамак</td>\n",
       "      <td>Евгений</td>\n",
       "      <td>Абрамович</td>\n",
       "      <td>2018-06-17</td>\n",
       "      <td>smart</td>\n",
       "    </tr>\n",
       "    <tr>\n",
       "      <td>3</td>\n",
       "      <td>1003</td>\n",
       "      <td>23</td>\n",
       "      <td>NaN</td>\n",
       "      <td>Москва</td>\n",
       "      <td>Белла</td>\n",
       "      <td>Белякова</td>\n",
       "      <td>2018-08-17</td>\n",
       "      <td>ultra</td>\n",
       "    </tr>\n",
       "    <tr>\n",
       "      <td>4</td>\n",
       "      <td>1004</td>\n",
       "      <td>68</td>\n",
       "      <td>NaN</td>\n",
       "      <td>Новокузнецк</td>\n",
       "      <td>Татьяна</td>\n",
       "      <td>Авдеенко</td>\n",
       "      <td>2018-05-14</td>\n",
       "      <td>ultra</td>\n",
       "    </tr>\n",
       "    <tr>\n",
       "      <td>...</td>\n",
       "      <td>...</td>\n",
       "      <td>...</td>\n",
       "      <td>...</td>\n",
       "      <td>...</td>\n",
       "      <td>...</td>\n",
       "      <td>...</td>\n",
       "      <td>...</td>\n",
       "      <td>...</td>\n",
       "    </tr>\n",
       "    <tr>\n",
       "      <td>495</td>\n",
       "      <td>1495</td>\n",
       "      <td>65</td>\n",
       "      <td>NaN</td>\n",
       "      <td>Иркутск</td>\n",
       "      <td>Авксентий</td>\n",
       "      <td>Фокин</td>\n",
       "      <td>2018-08-28</td>\n",
       "      <td>ultra</td>\n",
       "    </tr>\n",
       "    <tr>\n",
       "      <td>496</td>\n",
       "      <td>1496</td>\n",
       "      <td>36</td>\n",
       "      <td>NaN</td>\n",
       "      <td>Вологда</td>\n",
       "      <td>Трифон</td>\n",
       "      <td>Блохин</td>\n",
       "      <td>2018-01-27</td>\n",
       "      <td>smart</td>\n",
       "    </tr>\n",
       "    <tr>\n",
       "      <td>497</td>\n",
       "      <td>1497</td>\n",
       "      <td>32</td>\n",
       "      <td>NaN</td>\n",
       "      <td>Челябинск</td>\n",
       "      <td>Каролина</td>\n",
       "      <td>Агеева</td>\n",
       "      <td>2018-10-09</td>\n",
       "      <td>smart</td>\n",
       "    </tr>\n",
       "    <tr>\n",
       "      <td>498</td>\n",
       "      <td>1498</td>\n",
       "      <td>68</td>\n",
       "      <td>2018-10-25</td>\n",
       "      <td>Владикавказ</td>\n",
       "      <td>Всеволод</td>\n",
       "      <td>Акимчин</td>\n",
       "      <td>2018-07-19</td>\n",
       "      <td>smart</td>\n",
       "    </tr>\n",
       "    <tr>\n",
       "      <td>499</td>\n",
       "      <td>1499</td>\n",
       "      <td>35</td>\n",
       "      <td>NaN</td>\n",
       "      <td>Пермь</td>\n",
       "      <td>Гектор</td>\n",
       "      <td>Корнилов</td>\n",
       "      <td>2018-09-27</td>\n",
       "      <td>smart</td>\n",
       "    </tr>\n",
       "  </tbody>\n",
       "</table>\n",
       "<p>500 rows × 8 columns</p>\n",
       "</div>"
      ],
      "text/plain": [
       "     user_id  age  churn_date         city first_name  last_name    reg_date  \\\n",
       "0       1000   52         NaN    Краснодар     Рафаил  Верещагин  2018-05-25   \n",
       "1       1001   41         NaN       Москва       Иван       Ежов  2018-11-01   \n",
       "2       1002   59         NaN  Стерлитамак    Евгений  Абрамович  2018-06-17   \n",
       "3       1003   23         NaN       Москва      Белла   Белякова  2018-08-17   \n",
       "4       1004   68         NaN  Новокузнецк    Татьяна   Авдеенко  2018-05-14   \n",
       "..       ...  ...         ...          ...        ...        ...         ...   \n",
       "495     1495   65         NaN      Иркутск  Авксентий      Фокин  2018-08-28   \n",
       "496     1496   36         NaN      Вологда     Трифон     Блохин  2018-01-27   \n",
       "497     1497   32         NaN    Челябинск   Каролина     Агеева  2018-10-09   \n",
       "498     1498   68  2018-10-25  Владикавказ   Всеволод    Акимчин  2018-07-19   \n",
       "499     1499   35         NaN        Пермь     Гектор   Корнилов  2018-09-27   \n",
       "\n",
       "    tariff  \n",
       "0    ultra  \n",
       "1    smart  \n",
       "2    smart  \n",
       "3    ultra  \n",
       "4    ultra  \n",
       "..     ...  \n",
       "495  ultra  \n",
       "496  smart  \n",
       "497  smart  \n",
       "498  smart  \n",
       "499  smart  \n",
       "\n",
       "[500 rows x 8 columns]"
      ]
     },
     "execution_count": 30,
     "metadata": {},
     "output_type": "execute_result"
    }
   ],
   "source": [
    "users#Проверяю таблицу"
   ]
  },
  {
   "cell_type": "code",
   "execution_count": 31,
   "metadata": {},
   "outputs": [
    {
     "name": "stdout",
     "output_type": "stream",
     "text": [
      "<class 'pandas.core.frame.DataFrame'>\n",
      "RangeIndex: 500 entries, 0 to 499\n",
      "Data columns (total 8 columns):\n",
      "user_id       500 non-null int64\n",
      "age           500 non-null int64\n",
      "churn_date    38 non-null object\n",
      "city          500 non-null object\n",
      "first_name    500 non-null object\n",
      "last_name     500 non-null object\n",
      "reg_date      500 non-null datetime64[ns]\n",
      "tariff        500 non-null object\n",
      "dtypes: datetime64[ns](1), int64(2), object(5)\n",
      "memory usage: 31.4+ KB\n"
     ]
    }
   ],
   "source": [
    "users['reg_date'] = pd.to_datetime(users['reg_date'], format='%Y-%m-%dT')#Перевожу даты в удобный формат\n",
    "users.info()#Проверяю"
   ]
  },
  {
   "cell_type": "markdown",
   "metadata": {},
   "source": [
    "Таблици были подготовлены для удобства работы с ними. Основной проблемой было определие формата даты, еще был один лишний столбец.Пропусков нет. В целом на мой взгляд данные хорошо собранны, по этому предобработка с ними была не сложной."
   ]
  },
  {
   "cell_type": "markdown",
   "metadata": {},
   "source": [
    "Посчитаю количество сделанных звонков и израсходованных минут разговора по месяцам"
   ]
  },
  {
   "cell_type": "code",
   "execution_count": 32,
   "metadata": {},
   "outputs": [
    {
     "data": {
      "text/plain": [
       "492"
      ]
     },
     "execution_count": 32,
     "metadata": {},
     "output_type": "execute_result"
    }
   ],
   "source": [
    "len(calls['user_id'].unique())#Проверяю количество пользователей в таблице звонков, как видно их на 8 меньше чем в остальных таблицах"
   ]
  },
  {
   "cell_type": "code",
   "execution_count": 33,
   "metadata": {},
   "outputs": [
    {
     "data": {
      "text/html": [
       "<div>\n",
       "<style scoped>\n",
       "    .dataframe tbody tr th:only-of-type {\n",
       "        vertical-align: middle;\n",
       "    }\n",
       "\n",
       "    .dataframe tbody tr th {\n",
       "        vertical-align: top;\n",
       "    }\n",
       "\n",
       "    .dataframe thead th {\n",
       "        text-align: right;\n",
       "    }\n",
       "</style>\n",
       "<table border=\"1\" class=\"dataframe\">\n",
       "  <thead>\n",
       "    <tr style=\"text-align: right;\">\n",
       "      <th></th>\n",
       "      <th>user_id</th>\n",
       "      <th>month</th>\n",
       "      <th>id_count</th>\n",
       "      <th>sum_dur</th>\n",
       "    </tr>\n",
       "  </thead>\n",
       "  <tbody>\n",
       "    <tr>\n",
       "      <td>0</td>\n",
       "      <td>1000</td>\n",
       "      <td>5</td>\n",
       "      <td>22</td>\n",
       "      <td>159</td>\n",
       "    </tr>\n",
       "    <tr>\n",
       "      <td>1</td>\n",
       "      <td>1000</td>\n",
       "      <td>6</td>\n",
       "      <td>43</td>\n",
       "      <td>172</td>\n",
       "    </tr>\n",
       "    <tr>\n",
       "      <td>2</td>\n",
       "      <td>1000</td>\n",
       "      <td>7</td>\n",
       "      <td>47</td>\n",
       "      <td>340</td>\n",
       "    </tr>\n",
       "    <tr>\n",
       "      <td>3</td>\n",
       "      <td>1000</td>\n",
       "      <td>8</td>\n",
       "      <td>52</td>\n",
       "      <td>408</td>\n",
       "    </tr>\n",
       "    <tr>\n",
       "      <td>4</td>\n",
       "      <td>1000</td>\n",
       "      <td>9</td>\n",
       "      <td>58</td>\n",
       "      <td>466</td>\n",
       "    </tr>\n",
       "    <tr>\n",
       "      <td>...</td>\n",
       "      <td>...</td>\n",
       "      <td>...</td>\n",
       "      <td>...</td>\n",
       "      <td>...</td>\n",
       "    </tr>\n",
       "    <tr>\n",
       "      <td>3169</td>\n",
       "      <td>1498</td>\n",
       "      <td>10</td>\n",
       "      <td>41</td>\n",
       "      <td>247</td>\n",
       "    </tr>\n",
       "    <tr>\n",
       "      <td>3170</td>\n",
       "      <td>1499</td>\n",
       "      <td>9</td>\n",
       "      <td>9</td>\n",
       "      <td>70</td>\n",
       "    </tr>\n",
       "    <tr>\n",
       "      <td>3171</td>\n",
       "      <td>1499</td>\n",
       "      <td>10</td>\n",
       "      <td>68</td>\n",
       "      <td>449</td>\n",
       "    </tr>\n",
       "    <tr>\n",
       "      <td>3172</td>\n",
       "      <td>1499</td>\n",
       "      <td>11</td>\n",
       "      <td>74</td>\n",
       "      <td>612</td>\n",
       "    </tr>\n",
       "    <tr>\n",
       "      <td>3173</td>\n",
       "      <td>1499</td>\n",
       "      <td>12</td>\n",
       "      <td>69</td>\n",
       "      <td>492</td>\n",
       "    </tr>\n",
       "  </tbody>\n",
       "</table>\n",
       "<p>3174 rows × 4 columns</p>\n",
       "</div>"
      ],
      "text/plain": [
       "      user_id  month  id_count  sum_dur\n",
       "0        1000      5        22      159\n",
       "1        1000      6        43      172\n",
       "2        1000      7        47      340\n",
       "3        1000      8        52      408\n",
       "4        1000      9        58      466\n",
       "...       ...    ...       ...      ...\n",
       "3169     1498     10        41      247\n",
       "3170     1499      9         9       70\n",
       "3171     1499     10        68      449\n",
       "3172     1499     11        74      612\n",
       "3173     1499     12        69      492\n",
       "\n",
       "[3174 rows x 4 columns]"
      ]
     },
     "execution_count": 33,
     "metadata": {},
     "output_type": "execute_result"
    }
   ],
   "source": [
    "calls['month'] = calls['call_date'].dt.month#Создаю столбец с месяцами\n",
    "calls_f = calls.pivot_table(index = ['user_id', 'month'], values=['id', 'duration'], aggfunc=['count','sum'])#Создаю сводную таблицу\n",
    "calls_f.columns = ['dl', 'id_count', 'sum_dur']#Переименовываю стоблци\n",
    "calls_f = calls_f.loc[:,['id_count', 'sum_dur']]#Удаляю ненужный\n",
    "calls_f = calls_f.reset_index()#Избавляюсь от мультииндексов для удобства работы\n",
    "calls_f#Вывожу на экран"
   ]
  },
  {
   "cell_type": "code",
   "execution_count": 34,
   "metadata": {},
   "outputs": [
    {
     "data": {
      "text/plain": [
       "492"
      ]
     },
     "execution_count": 34,
     "metadata": {},
     "output_type": "execute_result"
    }
   ],
   "source": [
    "len(calls_f['user_id'].unique())#Я решил обратить совпадает ли число пользователей с таблицей о пользователсях, как видим- нет"
   ]
  },
  {
   "cell_type": "markdown",
   "metadata": {},
   "source": [
    "Здесть id_count- это количество сделанных звонков в месяц, а sum_dur- этоколичество израсходованых минут в месяц"
   ]
  },
  {
   "cell_type": "markdown",
   "metadata": {},
   "source": [
    "Посчитаю количество отправленных сообщений по месяцам"
   ]
  },
  {
   "cell_type": "code",
   "execution_count": 35,
   "metadata": {},
   "outputs": [
    {
     "data": {
      "text/html": [
       "<div>\n",
       "<style scoped>\n",
       "    .dataframe tbody tr th:only-of-type {\n",
       "        vertical-align: middle;\n",
       "    }\n",
       "\n",
       "    .dataframe tbody tr th {\n",
       "        vertical-align: top;\n",
       "    }\n",
       "\n",
       "    .dataframe thead th {\n",
       "        text-align: right;\n",
       "    }\n",
       "</style>\n",
       "<table border=\"1\" class=\"dataframe\">\n",
       "  <thead>\n",
       "    <tr style=\"text-align: right;\">\n",
       "      <th></th>\n",
       "      <th>user_id</th>\n",
       "      <th>month</th>\n",
       "      <th>id_count_sms</th>\n",
       "    </tr>\n",
       "  </thead>\n",
       "  <tbody>\n",
       "    <tr>\n",
       "      <td>0</td>\n",
       "      <td>1000</td>\n",
       "      <td>5</td>\n",
       "      <td>22</td>\n",
       "    </tr>\n",
       "    <tr>\n",
       "      <td>1</td>\n",
       "      <td>1000</td>\n",
       "      <td>6</td>\n",
       "      <td>60</td>\n",
       "    </tr>\n",
       "    <tr>\n",
       "      <td>2</td>\n",
       "      <td>1000</td>\n",
       "      <td>7</td>\n",
       "      <td>75</td>\n",
       "    </tr>\n",
       "    <tr>\n",
       "      <td>3</td>\n",
       "      <td>1000</td>\n",
       "      <td>8</td>\n",
       "      <td>81</td>\n",
       "    </tr>\n",
       "    <tr>\n",
       "      <td>4</td>\n",
       "      <td>1000</td>\n",
       "      <td>9</td>\n",
       "      <td>57</td>\n",
       "    </tr>\n",
       "    <tr>\n",
       "      <td>...</td>\n",
       "      <td>...</td>\n",
       "      <td>...</td>\n",
       "      <td>...</td>\n",
       "    </tr>\n",
       "    <tr>\n",
       "      <td>2712</td>\n",
       "      <td>1498</td>\n",
       "      <td>10</td>\n",
       "      <td>42</td>\n",
       "    </tr>\n",
       "    <tr>\n",
       "      <td>2713</td>\n",
       "      <td>1499</td>\n",
       "      <td>9</td>\n",
       "      <td>11</td>\n",
       "    </tr>\n",
       "    <tr>\n",
       "      <td>2714</td>\n",
       "      <td>1499</td>\n",
       "      <td>10</td>\n",
       "      <td>48</td>\n",
       "    </tr>\n",
       "    <tr>\n",
       "      <td>2715</td>\n",
       "      <td>1499</td>\n",
       "      <td>11</td>\n",
       "      <td>59</td>\n",
       "    </tr>\n",
       "    <tr>\n",
       "      <td>2716</td>\n",
       "      <td>1499</td>\n",
       "      <td>12</td>\n",
       "      <td>66</td>\n",
       "    </tr>\n",
       "  </tbody>\n",
       "</table>\n",
       "<p>2717 rows × 3 columns</p>\n",
       "</div>"
      ],
      "text/plain": [
       "      user_id  month  id_count_sms\n",
       "0        1000      5            22\n",
       "1        1000      6            60\n",
       "2        1000      7            75\n",
       "3        1000      8            81\n",
       "4        1000      9            57\n",
       "...       ...    ...           ...\n",
       "2712     1498     10            42\n",
       "2713     1499      9            11\n",
       "2714     1499     10            48\n",
       "2715     1499     11            59\n",
       "2716     1499     12            66\n",
       "\n",
       "[2717 rows x 3 columns]"
      ]
     },
     "execution_count": 35,
     "metadata": {},
     "output_type": "execute_result"
    }
   ],
   "source": [
    "messages['month'] = messages['message_date'].dt.month#Создаю столбец с месяцами\n",
    "messages_f = messages.pivot_table(index = ['user_id', 'month'], values=['id'], aggfunc=['count'])#Создаю сводную таблицу\n",
    "messages_f.columns = ['id_count_sms']#Переименовываю стоблци\n",
    "messages_f = messages_f.reset_index()#Избавляюсь от мультииндексов для удобства работы\n",
    "messages_f#Вывожу на экран"
   ]
  },
  {
   "cell_type": "code",
   "execution_count": 36,
   "metadata": {},
   "outputs": [
    {
     "data": {
      "text/plain": [
       "426"
      ]
     },
     "execution_count": 36,
     "metadata": {},
     "output_type": "execute_result"
    }
   ],
   "source": [
    "len(messages_f['user_id'].unique())#Число пользователей не полгое, всего их 500"
   ]
  },
  {
   "cell_type": "markdown",
   "metadata": {},
   "source": [
    "Здесь id_count_sms- это количество отправленных сообщений по месяцам"
   ]
  },
  {
   "cell_type": "markdown",
   "metadata": {},
   "source": [
    "Посчитаю объем израсходованного интернет-трафика по месяцам"
   ]
  },
  {
   "cell_type": "code",
   "execution_count": 37,
   "metadata": {},
   "outputs": [
    {
     "data": {
      "text/html": [
       "<div>\n",
       "<style scoped>\n",
       "    .dataframe tbody tr th:only-of-type {\n",
       "        vertical-align: middle;\n",
       "    }\n",
       "\n",
       "    .dataframe tbody tr th {\n",
       "        vertical-align: top;\n",
       "    }\n",
       "\n",
       "    .dataframe thead th {\n",
       "        text-align: right;\n",
       "    }\n",
       "</style>\n",
       "<table border=\"1\" class=\"dataframe\">\n",
       "  <thead>\n",
       "    <tr style=\"text-align: right;\">\n",
       "      <th></th>\n",
       "      <th>user_id</th>\n",
       "      <th>month</th>\n",
       "      <th>mb_sum</th>\n",
       "    </tr>\n",
       "  </thead>\n",
       "  <tbody>\n",
       "    <tr>\n",
       "      <td>0</td>\n",
       "      <td>1000</td>\n",
       "      <td>5</td>\n",
       "      <td>2253.49</td>\n",
       "    </tr>\n",
       "    <tr>\n",
       "      <td>1</td>\n",
       "      <td>1000</td>\n",
       "      <td>6</td>\n",
       "      <td>23233.77</td>\n",
       "    </tr>\n",
       "    <tr>\n",
       "      <td>2</td>\n",
       "      <td>1000</td>\n",
       "      <td>7</td>\n",
       "      <td>14003.64</td>\n",
       "    </tr>\n",
       "    <tr>\n",
       "      <td>3</td>\n",
       "      <td>1000</td>\n",
       "      <td>8</td>\n",
       "      <td>14055.93</td>\n",
       "    </tr>\n",
       "    <tr>\n",
       "      <td>4</td>\n",
       "      <td>1000</td>\n",
       "      <td>9</td>\n",
       "      <td>14568.91</td>\n",
       "    </tr>\n",
       "    <tr>\n",
       "      <td>...</td>\n",
       "      <td>...</td>\n",
       "      <td>...</td>\n",
       "      <td>...</td>\n",
       "    </tr>\n",
       "    <tr>\n",
       "      <td>3198</td>\n",
       "      <td>1498</td>\n",
       "      <td>10</td>\n",
       "      <td>20579.36</td>\n",
       "    </tr>\n",
       "    <tr>\n",
       "      <td>3199</td>\n",
       "      <td>1499</td>\n",
       "      <td>9</td>\n",
       "      <td>1845.75</td>\n",
       "    </tr>\n",
       "    <tr>\n",
       "      <td>3200</td>\n",
       "      <td>1499</td>\n",
       "      <td>10</td>\n",
       "      <td>17788.51</td>\n",
       "    </tr>\n",
       "    <tr>\n",
       "      <td>3201</td>\n",
       "      <td>1499</td>\n",
       "      <td>11</td>\n",
       "      <td>17963.31</td>\n",
       "    </tr>\n",
       "    <tr>\n",
       "      <td>3202</td>\n",
       "      <td>1499</td>\n",
       "      <td>12</td>\n",
       "      <td>13055.58</td>\n",
       "    </tr>\n",
       "  </tbody>\n",
       "</table>\n",
       "<p>3203 rows × 3 columns</p>\n",
       "</div>"
      ],
      "text/plain": [
       "      user_id  month    mb_sum\n",
       "0        1000      5   2253.49\n",
       "1        1000      6  23233.77\n",
       "2        1000      7  14003.64\n",
       "3        1000      8  14055.93\n",
       "4        1000      9  14568.91\n",
       "...       ...    ...       ...\n",
       "3198     1498     10  20579.36\n",
       "3199     1499      9   1845.75\n",
       "3200     1499     10  17788.51\n",
       "3201     1499     11  17963.31\n",
       "3202     1499     12  13055.58\n",
       "\n",
       "[3203 rows x 3 columns]"
      ]
     },
     "execution_count": 37,
     "metadata": {},
     "output_type": "execute_result"
    }
   ],
   "source": [
    "internet['month'] = internet['session_date'].dt.month#Создаю столбец с месяцами\n",
    "internet_f = internet.pivot_table(index = ['user_id', 'month'], values=['mb_used'], aggfunc=['sum'])#Создаю сводную таблицу\n",
    "internet_f.columns = ['mb_sum']#Переименовываю стоблци\n",
    "internet_f = internet_f.reset_index()#Избавляюсь от мультииндексов для удобства работы\n",
    "internet_f#Вывожу на экран"
   ]
  },
  {
   "cell_type": "code",
   "execution_count": 38,
   "metadata": {},
   "outputs": [
    {
     "data": {
      "text/plain": [
       "497"
      ]
     },
     "execution_count": 38,
     "metadata": {},
     "output_type": "execute_result"
    }
   ],
   "source": [
    "len(internet_f['user_id'].unique())#Число пользователей не полгое, всего их 500"
   ]
  },
  {
   "cell_type": "markdown",
   "metadata": {},
   "source": [
    "Здесь mb_sum-число израсходованного интернет- трафика в месяц"
   ]
  },
  {
   "cell_type": "markdown",
   "metadata": {},
   "source": [
    "Посчитаю помесячную выручку с каждого пользователя. Я решил посчитать отдельно выручки от звонков, сообщений и интернет трафика. Важно заметить, что не все пользователи есть в таблицах и данные пропуски я не буду заменять ибо точно не ясно почему там пропуски, возможно пользователи просто не использовали какие-то опции оператора вообще, а возможно просто потеря данных. В любом случае нужно обсудить этот вопрос с заказчиком, но заполнять пропуски будет некорректно (непонятно как 0 или медианой? и сколько месяцев брать?), тем более что там для кажого месяца...."
   ]
  },
  {
   "cell_type": "code",
   "execution_count": 39,
   "metadata": {},
   "outputs": [
    {
     "data": {
      "text/html": [
       "<div>\n",
       "<style scoped>\n",
       "    .dataframe tbody tr th:only-of-type {\n",
       "        vertical-align: middle;\n",
       "    }\n",
       "\n",
       "    .dataframe tbody tr th {\n",
       "        vertical-align: top;\n",
       "    }\n",
       "\n",
       "    .dataframe thead th {\n",
       "        text-align: right;\n",
       "    }\n",
       "</style>\n",
       "<table border=\"1\" class=\"dataframe\">\n",
       "  <thead>\n",
       "    <tr style=\"text-align: right;\">\n",
       "      <th></th>\n",
       "      <th>messages_included</th>\n",
       "      <th>mb_per_month_included</th>\n",
       "      <th>minutes_included</th>\n",
       "      <th>rub_monthly_fee</th>\n",
       "      <th>rub_per_gb</th>\n",
       "      <th>rub_per_message</th>\n",
       "      <th>rub_per_minute</th>\n",
       "      <th>tariff_name</th>\n",
       "    </tr>\n",
       "  </thead>\n",
       "  <tbody>\n",
       "    <tr>\n",
       "      <td>0</td>\n",
       "      <td>50</td>\n",
       "      <td>15360</td>\n",
       "      <td>500</td>\n",
       "      <td>550</td>\n",
       "      <td>200</td>\n",
       "      <td>3</td>\n",
       "      <td>3</td>\n",
       "      <td>smart</td>\n",
       "    </tr>\n",
       "    <tr>\n",
       "      <td>1</td>\n",
       "      <td>1000</td>\n",
       "      <td>30720</td>\n",
       "      <td>3000</td>\n",
       "      <td>1950</td>\n",
       "      <td>150</td>\n",
       "      <td>1</td>\n",
       "      <td>1</td>\n",
       "      <td>ultra</td>\n",
       "    </tr>\n",
       "  </tbody>\n",
       "</table>\n",
       "</div>"
      ],
      "text/plain": [
       "   messages_included  mb_per_month_included  minutes_included  \\\n",
       "0                 50                  15360               500   \n",
       "1               1000                  30720              3000   \n",
       "\n",
       "   rub_monthly_fee  rub_per_gb  rub_per_message  rub_per_minute tariff_name  \n",
       "0              550         200                3               3       smart  \n",
       "1             1950         150                1               1       ultra  "
      ]
     },
     "execution_count": 39,
     "metadata": {},
     "output_type": "execute_result"
    }
   ],
   "source": [
    "tariffs#Выведу таблицу тарифов для просмотра и использования информации в ней"
   ]
  },
  {
   "cell_type": "code",
   "execution_count": 40,
   "metadata": {},
   "outputs": [
    {
     "data": {
      "text/html": [
       "<div>\n",
       "<style scoped>\n",
       "    .dataframe tbody tr th:only-of-type {\n",
       "        vertical-align: middle;\n",
       "    }\n",
       "\n",
       "    .dataframe tbody tr th {\n",
       "        vertical-align: top;\n",
       "    }\n",
       "\n",
       "    .dataframe thead th {\n",
       "        text-align: right;\n",
       "    }\n",
       "</style>\n",
       "<table border=\"1\" class=\"dataframe\">\n",
       "  <thead>\n",
       "    <tr style=\"text-align: right;\">\n",
       "      <th></th>\n",
       "      <th>user_id</th>\n",
       "      <th>age</th>\n",
       "      <th>churn_date</th>\n",
       "      <th>city</th>\n",
       "      <th>first_name</th>\n",
       "      <th>last_name</th>\n",
       "      <th>reg_date</th>\n",
       "      <th>tariff</th>\n",
       "      <th>month</th>\n",
       "      <th>id_count</th>\n",
       "      <th>sum_dur</th>\n",
       "      <th>cll_coin</th>\n",
       "      <th>rub</th>\n",
       "      <th>cll+</th>\n",
       "    </tr>\n",
       "  </thead>\n",
       "  <tbody>\n",
       "    <tr>\n",
       "      <td>0</td>\n",
       "      <td>1000</td>\n",
       "      <td>52</td>\n",
       "      <td>NaN</td>\n",
       "      <td>Краснодар</td>\n",
       "      <td>Рафаил</td>\n",
       "      <td>Верещагин</td>\n",
       "      <td>2018-05-25</td>\n",
       "      <td>ultra</td>\n",
       "      <td>5.0</td>\n",
       "      <td>22.0</td>\n",
       "      <td>159.0</td>\n",
       "      <td>3000</td>\n",
       "      <td>1</td>\n",
       "      <td>0.0</td>\n",
       "    </tr>\n",
       "    <tr>\n",
       "      <td>1</td>\n",
       "      <td>1000</td>\n",
       "      <td>52</td>\n",
       "      <td>NaN</td>\n",
       "      <td>Краснодар</td>\n",
       "      <td>Рафаил</td>\n",
       "      <td>Верещагин</td>\n",
       "      <td>2018-05-25</td>\n",
       "      <td>ultra</td>\n",
       "      <td>6.0</td>\n",
       "      <td>43.0</td>\n",
       "      <td>172.0</td>\n",
       "      <td>3000</td>\n",
       "      <td>1</td>\n",
       "      <td>0.0</td>\n",
       "    </tr>\n",
       "    <tr>\n",
       "      <td>2</td>\n",
       "      <td>1000</td>\n",
       "      <td>52</td>\n",
       "      <td>NaN</td>\n",
       "      <td>Краснодар</td>\n",
       "      <td>Рафаил</td>\n",
       "      <td>Верещагин</td>\n",
       "      <td>2018-05-25</td>\n",
       "      <td>ultra</td>\n",
       "      <td>7.0</td>\n",
       "      <td>47.0</td>\n",
       "      <td>340.0</td>\n",
       "      <td>3000</td>\n",
       "      <td>1</td>\n",
       "      <td>0.0</td>\n",
       "    </tr>\n",
       "    <tr>\n",
       "      <td>3</td>\n",
       "      <td>1000</td>\n",
       "      <td>52</td>\n",
       "      <td>NaN</td>\n",
       "      <td>Краснодар</td>\n",
       "      <td>Рафаил</td>\n",
       "      <td>Верещагин</td>\n",
       "      <td>2018-05-25</td>\n",
       "      <td>ultra</td>\n",
       "      <td>8.0</td>\n",
       "      <td>52.0</td>\n",
       "      <td>408.0</td>\n",
       "      <td>3000</td>\n",
       "      <td>1</td>\n",
       "      <td>0.0</td>\n",
       "    </tr>\n",
       "    <tr>\n",
       "      <td>4</td>\n",
       "      <td>1000</td>\n",
       "      <td>52</td>\n",
       "      <td>NaN</td>\n",
       "      <td>Краснодар</td>\n",
       "      <td>Рафаил</td>\n",
       "      <td>Верещагин</td>\n",
       "      <td>2018-05-25</td>\n",
       "      <td>ultra</td>\n",
       "      <td>9.0</td>\n",
       "      <td>58.0</td>\n",
       "      <td>466.0</td>\n",
       "      <td>3000</td>\n",
       "      <td>1</td>\n",
       "      <td>0.0</td>\n",
       "    </tr>\n",
       "    <tr>\n",
       "      <td>...</td>\n",
       "      <td>...</td>\n",
       "      <td>...</td>\n",
       "      <td>...</td>\n",
       "      <td>...</td>\n",
       "      <td>...</td>\n",
       "      <td>...</td>\n",
       "      <td>...</td>\n",
       "      <td>...</td>\n",
       "      <td>...</td>\n",
       "      <td>...</td>\n",
       "      <td>...</td>\n",
       "      <td>...</td>\n",
       "      <td>...</td>\n",
       "      <td>...</td>\n",
       "    </tr>\n",
       "    <tr>\n",
       "      <td>3177</td>\n",
       "      <td>1498</td>\n",
       "      <td>68</td>\n",
       "      <td>2018-10-25</td>\n",
       "      <td>Владикавказ</td>\n",
       "      <td>Всеволод</td>\n",
       "      <td>Акимчин</td>\n",
       "      <td>2018-07-19</td>\n",
       "      <td>smart</td>\n",
       "      <td>10.0</td>\n",
       "      <td>41.0</td>\n",
       "      <td>247.0</td>\n",
       "      <td>500</td>\n",
       "      <td>3</td>\n",
       "      <td>0.0</td>\n",
       "    </tr>\n",
       "    <tr>\n",
       "      <td>3178</td>\n",
       "      <td>1499</td>\n",
       "      <td>35</td>\n",
       "      <td>NaN</td>\n",
       "      <td>Пермь</td>\n",
       "      <td>Гектор</td>\n",
       "      <td>Корнилов</td>\n",
       "      <td>2018-09-27</td>\n",
       "      <td>smart</td>\n",
       "      <td>9.0</td>\n",
       "      <td>9.0</td>\n",
       "      <td>70.0</td>\n",
       "      <td>500</td>\n",
       "      <td>3</td>\n",
       "      <td>0.0</td>\n",
       "    </tr>\n",
       "    <tr>\n",
       "      <td>3179</td>\n",
       "      <td>1499</td>\n",
       "      <td>35</td>\n",
       "      <td>NaN</td>\n",
       "      <td>Пермь</td>\n",
       "      <td>Гектор</td>\n",
       "      <td>Корнилов</td>\n",
       "      <td>2018-09-27</td>\n",
       "      <td>smart</td>\n",
       "      <td>10.0</td>\n",
       "      <td>68.0</td>\n",
       "      <td>449.0</td>\n",
       "      <td>500</td>\n",
       "      <td>3</td>\n",
       "      <td>0.0</td>\n",
       "    </tr>\n",
       "    <tr>\n",
       "      <td>3180</td>\n",
       "      <td>1499</td>\n",
       "      <td>35</td>\n",
       "      <td>NaN</td>\n",
       "      <td>Пермь</td>\n",
       "      <td>Гектор</td>\n",
       "      <td>Корнилов</td>\n",
       "      <td>2018-09-27</td>\n",
       "      <td>smart</td>\n",
       "      <td>11.0</td>\n",
       "      <td>74.0</td>\n",
       "      <td>612.0</td>\n",
       "      <td>500</td>\n",
       "      <td>3</td>\n",
       "      <td>336.0</td>\n",
       "    </tr>\n",
       "    <tr>\n",
       "      <td>3181</td>\n",
       "      <td>1499</td>\n",
       "      <td>35</td>\n",
       "      <td>NaN</td>\n",
       "      <td>Пермь</td>\n",
       "      <td>Гектор</td>\n",
       "      <td>Корнилов</td>\n",
       "      <td>2018-09-27</td>\n",
       "      <td>smart</td>\n",
       "      <td>12.0</td>\n",
       "      <td>69.0</td>\n",
       "      <td>492.0</td>\n",
       "      <td>500</td>\n",
       "      <td>3</td>\n",
       "      <td>0.0</td>\n",
       "    </tr>\n",
       "  </tbody>\n",
       "</table>\n",
       "<p>3182 rows × 14 columns</p>\n",
       "</div>"
      ],
      "text/plain": [
       "      user_id  age  churn_date         city first_name  last_name   reg_date  \\\n",
       "0        1000   52         NaN    Краснодар     Рафаил  Верещагин 2018-05-25   \n",
       "1        1000   52         NaN    Краснодар     Рафаил  Верещагин 2018-05-25   \n",
       "2        1000   52         NaN    Краснодар     Рафаил  Верещагин 2018-05-25   \n",
       "3        1000   52         NaN    Краснодар     Рафаил  Верещагин 2018-05-25   \n",
       "4        1000   52         NaN    Краснодар     Рафаил  Верещагин 2018-05-25   \n",
       "...       ...  ...         ...          ...        ...        ...        ...   \n",
       "3177     1498   68  2018-10-25  Владикавказ   Всеволод    Акимчин 2018-07-19   \n",
       "3178     1499   35         NaN        Пермь     Гектор   Корнилов 2018-09-27   \n",
       "3179     1499   35         NaN        Пермь     Гектор   Корнилов 2018-09-27   \n",
       "3180     1499   35         NaN        Пермь     Гектор   Корнилов 2018-09-27   \n",
       "3181     1499   35         NaN        Пермь     Гектор   Корнилов 2018-09-27   \n",
       "\n",
       "     tariff  month  id_count  sum_dur  cll_coin  rub   cll+  \n",
       "0     ultra    5.0      22.0    159.0      3000    1    0.0  \n",
       "1     ultra    6.0      43.0    172.0      3000    1    0.0  \n",
       "2     ultra    7.0      47.0    340.0      3000    1    0.0  \n",
       "3     ultra    8.0      52.0    408.0      3000    1    0.0  \n",
       "4     ultra    9.0      58.0    466.0      3000    1    0.0  \n",
       "...     ...    ...       ...      ...       ...  ...    ...  \n",
       "3177  smart   10.0      41.0    247.0       500    3    0.0  \n",
       "3178  smart    9.0       9.0     70.0       500    3    0.0  \n",
       "3179  smart   10.0      68.0    449.0       500    3    0.0  \n",
       "3180  smart   11.0      74.0    612.0       500    3  336.0  \n",
       "3181  smart   12.0      69.0    492.0       500    3    0.0  \n",
       "\n",
       "[3182 rows x 14 columns]"
      ]
     },
     "execution_count": 40,
     "metadata": {},
     "output_type": "execute_result"
    }
   ],
   "source": [
    "import numpy as np#Импортирую библиотеку нампи\n",
    "cll=users.merge(calls_f, on='user_id', how='left')#Обьеденяю таблицу пользователей и звонков по столбцу айди пользователя, чтоб узнать какие у кого тарифы\n",
    "cll['cll_coin'] = np.where((cll['tariff'] == 'smart'), 500, 3000)#Создаю столбец с лимитом для звонков по тарифу\n",
    "cll['rub'] = np.where((cll['tariff'] == 'smart'), 3, 1)#Создаю столбец со стоимостью минуты звонка сверх тарифного лимита\n",
    "cll['cll+'] = (cll['sum_dur'] - cll['cll_coin']) * cll['rub']#Создаю столбец,считающий разность по илмиту и использованным минутам, помноженную на цену сверх лимита\n",
    "cll['cll+'] = np.where((cll['cll+'] > 0), cll['cll+'], 0)#Так как лимит по тарифу стоит вторым в урвнении, то если он больше- получится отрицательное значение, это означает что пользователь не привысил лимит\n",
    "cll#Проверяю полученную таблицу"
   ]
  },
  {
   "cell_type": "code",
   "execution_count": 41,
   "metadata": {},
   "outputs": [
    {
     "name": "stdout",
     "output_type": "stream",
     "text": [
      "<class 'pandas.core.frame.DataFrame'>\n",
      "Int64Index: 3182 entries, 0 to 3181\n",
      "Data columns (total 14 columns):\n",
      "user_id       3182 non-null int64\n",
      "age           3182 non-null int64\n",
      "churn_date    189 non-null object\n",
      "city          3182 non-null object\n",
      "first_name    3182 non-null object\n",
      "last_name     3182 non-null object\n",
      "reg_date      3182 non-null datetime64[ns]\n",
      "tariff        3182 non-null object\n",
      "month         3174 non-null float64\n",
      "id_count      3174 non-null float64\n",
      "sum_dur       3174 non-null float64\n",
      "cll_coin      3182 non-null int64\n",
      "rub           3182 non-null int64\n",
      "cll+          3182 non-null float64\n",
      "dtypes: datetime64[ns](1), float64(4), int64(4), object(5)\n",
      "memory usage: 372.9+ KB\n"
     ]
    }
   ],
   "source": [
    "cll.info()#Проверяю полученную таблицу"
   ]
  },
  {
   "cell_type": "code",
   "execution_count": 42,
   "metadata": {},
   "outputs": [
    {
     "data": {
      "text/html": [
       "<div>\n",
       "<style scoped>\n",
       "    .dataframe tbody tr th:only-of-type {\n",
       "        vertical-align: middle;\n",
       "    }\n",
       "\n",
       "    .dataframe tbody tr th {\n",
       "        vertical-align: top;\n",
       "    }\n",
       "\n",
       "    .dataframe thead th {\n",
       "        text-align: right;\n",
       "    }\n",
       "</style>\n",
       "<table border=\"1\" class=\"dataframe\">\n",
       "  <thead>\n",
       "    <tr style=\"text-align: right;\">\n",
       "      <th></th>\n",
       "      <th>user_id</th>\n",
       "      <th>age</th>\n",
       "      <th>churn_date</th>\n",
       "      <th>city</th>\n",
       "      <th>first_name</th>\n",
       "      <th>last_name</th>\n",
       "      <th>reg_date</th>\n",
       "      <th>tariff</th>\n",
       "      <th>month</th>\n",
       "      <th>id_count_sms</th>\n",
       "      <th>sms_coin</th>\n",
       "      <th>rub_sms</th>\n",
       "      <th>sms+</th>\n",
       "    </tr>\n",
       "  </thead>\n",
       "  <tbody>\n",
       "    <tr>\n",
       "      <td>0</td>\n",
       "      <td>1000</td>\n",
       "      <td>52</td>\n",
       "      <td>NaN</td>\n",
       "      <td>Краснодар</td>\n",
       "      <td>Рафаил</td>\n",
       "      <td>Верещагин</td>\n",
       "      <td>2018-05-25</td>\n",
       "      <td>ultra</td>\n",
       "      <td>5.0</td>\n",
       "      <td>22.0</td>\n",
       "      <td>1000</td>\n",
       "      <td>1</td>\n",
       "      <td>0.0</td>\n",
       "    </tr>\n",
       "    <tr>\n",
       "      <td>1</td>\n",
       "      <td>1000</td>\n",
       "      <td>52</td>\n",
       "      <td>NaN</td>\n",
       "      <td>Краснодар</td>\n",
       "      <td>Рафаил</td>\n",
       "      <td>Верещагин</td>\n",
       "      <td>2018-05-25</td>\n",
       "      <td>ultra</td>\n",
       "      <td>6.0</td>\n",
       "      <td>60.0</td>\n",
       "      <td>1000</td>\n",
       "      <td>1</td>\n",
       "      <td>0.0</td>\n",
       "    </tr>\n",
       "    <tr>\n",
       "      <td>2</td>\n",
       "      <td>1000</td>\n",
       "      <td>52</td>\n",
       "      <td>NaN</td>\n",
       "      <td>Краснодар</td>\n",
       "      <td>Рафаил</td>\n",
       "      <td>Верещагин</td>\n",
       "      <td>2018-05-25</td>\n",
       "      <td>ultra</td>\n",
       "      <td>7.0</td>\n",
       "      <td>75.0</td>\n",
       "      <td>1000</td>\n",
       "      <td>1</td>\n",
       "      <td>0.0</td>\n",
       "    </tr>\n",
       "    <tr>\n",
       "      <td>3</td>\n",
       "      <td>1000</td>\n",
       "      <td>52</td>\n",
       "      <td>NaN</td>\n",
       "      <td>Краснодар</td>\n",
       "      <td>Рафаил</td>\n",
       "      <td>Верещагин</td>\n",
       "      <td>2018-05-25</td>\n",
       "      <td>ultra</td>\n",
       "      <td>8.0</td>\n",
       "      <td>81.0</td>\n",
       "      <td>1000</td>\n",
       "      <td>1</td>\n",
       "      <td>0.0</td>\n",
       "    </tr>\n",
       "    <tr>\n",
       "      <td>4</td>\n",
       "      <td>1000</td>\n",
       "      <td>52</td>\n",
       "      <td>NaN</td>\n",
       "      <td>Краснодар</td>\n",
       "      <td>Рафаил</td>\n",
       "      <td>Верещагин</td>\n",
       "      <td>2018-05-25</td>\n",
       "      <td>ultra</td>\n",
       "      <td>9.0</td>\n",
       "      <td>57.0</td>\n",
       "      <td>1000</td>\n",
       "      <td>1</td>\n",
       "      <td>0.0</td>\n",
       "    </tr>\n",
       "    <tr>\n",
       "      <td>...</td>\n",
       "      <td>...</td>\n",
       "      <td>...</td>\n",
       "      <td>...</td>\n",
       "      <td>...</td>\n",
       "      <td>...</td>\n",
       "      <td>...</td>\n",
       "      <td>...</td>\n",
       "      <td>...</td>\n",
       "      <td>...</td>\n",
       "      <td>...</td>\n",
       "      <td>...</td>\n",
       "      <td>...</td>\n",
       "      <td>...</td>\n",
       "    </tr>\n",
       "    <tr>\n",
       "      <td>2786</td>\n",
       "      <td>1498</td>\n",
       "      <td>68</td>\n",
       "      <td>2018-10-25</td>\n",
       "      <td>Владикавказ</td>\n",
       "      <td>Всеволод</td>\n",
       "      <td>Акимчин</td>\n",
       "      <td>2018-07-19</td>\n",
       "      <td>smart</td>\n",
       "      <td>10.0</td>\n",
       "      <td>42.0</td>\n",
       "      <td>50</td>\n",
       "      <td>3</td>\n",
       "      <td>0.0</td>\n",
       "    </tr>\n",
       "    <tr>\n",
       "      <td>2787</td>\n",
       "      <td>1499</td>\n",
       "      <td>35</td>\n",
       "      <td>NaN</td>\n",
       "      <td>Пермь</td>\n",
       "      <td>Гектор</td>\n",
       "      <td>Корнилов</td>\n",
       "      <td>2018-09-27</td>\n",
       "      <td>smart</td>\n",
       "      <td>9.0</td>\n",
       "      <td>11.0</td>\n",
       "      <td>50</td>\n",
       "      <td>3</td>\n",
       "      <td>0.0</td>\n",
       "    </tr>\n",
       "    <tr>\n",
       "      <td>2788</td>\n",
       "      <td>1499</td>\n",
       "      <td>35</td>\n",
       "      <td>NaN</td>\n",
       "      <td>Пермь</td>\n",
       "      <td>Гектор</td>\n",
       "      <td>Корнилов</td>\n",
       "      <td>2018-09-27</td>\n",
       "      <td>smart</td>\n",
       "      <td>10.0</td>\n",
       "      <td>48.0</td>\n",
       "      <td>50</td>\n",
       "      <td>3</td>\n",
       "      <td>0.0</td>\n",
       "    </tr>\n",
       "    <tr>\n",
       "      <td>2789</td>\n",
       "      <td>1499</td>\n",
       "      <td>35</td>\n",
       "      <td>NaN</td>\n",
       "      <td>Пермь</td>\n",
       "      <td>Гектор</td>\n",
       "      <td>Корнилов</td>\n",
       "      <td>2018-09-27</td>\n",
       "      <td>smart</td>\n",
       "      <td>11.0</td>\n",
       "      <td>59.0</td>\n",
       "      <td>50</td>\n",
       "      <td>3</td>\n",
       "      <td>27.0</td>\n",
       "    </tr>\n",
       "    <tr>\n",
       "      <td>2790</td>\n",
       "      <td>1499</td>\n",
       "      <td>35</td>\n",
       "      <td>NaN</td>\n",
       "      <td>Пермь</td>\n",
       "      <td>Гектор</td>\n",
       "      <td>Корнилов</td>\n",
       "      <td>2018-09-27</td>\n",
       "      <td>smart</td>\n",
       "      <td>12.0</td>\n",
       "      <td>66.0</td>\n",
       "      <td>50</td>\n",
       "      <td>3</td>\n",
       "      <td>48.0</td>\n",
       "    </tr>\n",
       "  </tbody>\n",
       "</table>\n",
       "<p>2791 rows × 13 columns</p>\n",
       "</div>"
      ],
      "text/plain": [
       "      user_id  age  churn_date         city first_name  last_name   reg_date  \\\n",
       "0        1000   52         NaN    Краснодар     Рафаил  Верещагин 2018-05-25   \n",
       "1        1000   52         NaN    Краснодар     Рафаил  Верещагин 2018-05-25   \n",
       "2        1000   52         NaN    Краснодар     Рафаил  Верещагин 2018-05-25   \n",
       "3        1000   52         NaN    Краснодар     Рафаил  Верещагин 2018-05-25   \n",
       "4        1000   52         NaN    Краснодар     Рафаил  Верещагин 2018-05-25   \n",
       "...       ...  ...         ...          ...        ...        ...        ...   \n",
       "2786     1498   68  2018-10-25  Владикавказ   Всеволод    Акимчин 2018-07-19   \n",
       "2787     1499   35         NaN        Пермь     Гектор   Корнилов 2018-09-27   \n",
       "2788     1499   35         NaN        Пермь     Гектор   Корнилов 2018-09-27   \n",
       "2789     1499   35         NaN        Пермь     Гектор   Корнилов 2018-09-27   \n",
       "2790     1499   35         NaN        Пермь     Гектор   Корнилов 2018-09-27   \n",
       "\n",
       "     tariff  month  id_count_sms  sms_coin  rub_sms  sms+  \n",
       "0     ultra    5.0          22.0      1000        1   0.0  \n",
       "1     ultra    6.0          60.0      1000        1   0.0  \n",
       "2     ultra    7.0          75.0      1000        1   0.0  \n",
       "3     ultra    8.0          81.0      1000        1   0.0  \n",
       "4     ultra    9.0          57.0      1000        1   0.0  \n",
       "...     ...    ...           ...       ...      ...   ...  \n",
       "2786  smart   10.0          42.0        50        3   0.0  \n",
       "2787  smart    9.0          11.0        50        3   0.0  \n",
       "2788  smart   10.0          48.0        50        3   0.0  \n",
       "2789  smart   11.0          59.0        50        3  27.0  \n",
       "2790  smart   12.0          66.0        50        3  48.0  \n",
       "\n",
       "[2791 rows x 13 columns]"
      ]
     },
     "execution_count": 42,
     "metadata": {},
     "output_type": "execute_result"
    }
   ],
   "source": [
    "sms=users.merge(messages_f, on='user_id', how='left')#Обьеденяю таблицу пользователей и сообщений по столбцу айди пользователя, чтоб узнать какие у кого тарифы\n",
    "sms['sms_coin'] = np.where((sms['tariff'] == 'smart'), 50, 1000)#Создаю столбец с лимитом для сообщений по тарифу\n",
    "sms['rub_sms'] = np.where((sms['tariff'] == 'smart'), 3, 1)#Создаю столбец со стоимостью сообщения сверх тарифного лимита\n",
    "sms['sms+'] = (sms['id_count_sms'] - sms['sms_coin']) * sms['rub_sms']#Создаю столбец,считающий разность по лмиту и использованным сообщениям, помноженную на цену сверх лимита\n",
    "sms['sms+'] = np.where((sms['sms+'] > 0), sms['sms+'], 0)#Так как лимит по тарифу стоит вторым в урвнении, то если он больше- получится отрицательное значение, это означает что пользователь не привысил лимит\n",
    "sms#Проверяю полученную таблицу"
   ]
  },
  {
   "cell_type": "code",
   "execution_count": 43,
   "metadata": {},
   "outputs": [
    {
     "data": {
      "text/html": [
       "<div>\n",
       "<style scoped>\n",
       "    .dataframe tbody tr th:only-of-type {\n",
       "        vertical-align: middle;\n",
       "    }\n",
       "\n",
       "    .dataframe tbody tr th {\n",
       "        vertical-align: top;\n",
       "    }\n",
       "\n",
       "    .dataframe thead th {\n",
       "        text-align: right;\n",
       "    }\n",
       "</style>\n",
       "<table border=\"1\" class=\"dataframe\">\n",
       "  <thead>\n",
       "    <tr style=\"text-align: right;\">\n",
       "      <th></th>\n",
       "      <th>user_id</th>\n",
       "      <th>age</th>\n",
       "      <th>churn_date</th>\n",
       "      <th>city</th>\n",
       "      <th>first_name</th>\n",
       "      <th>last_name</th>\n",
       "      <th>reg_date</th>\n",
       "      <th>tariff</th>\n",
       "      <th>month</th>\n",
       "      <th>mb_sum</th>\n",
       "      <th>in_coin</th>\n",
       "      <th>rub_in</th>\n",
       "      <th>in+</th>\n",
       "    </tr>\n",
       "  </thead>\n",
       "  <tbody>\n",
       "    <tr>\n",
       "      <td>0</td>\n",
       "      <td>1000</td>\n",
       "      <td>52</td>\n",
       "      <td>NaN</td>\n",
       "      <td>Краснодар</td>\n",
       "      <td>Рафаил</td>\n",
       "      <td>Верещагин</td>\n",
       "      <td>2018-05-25</td>\n",
       "      <td>ultra</td>\n",
       "      <td>5.0</td>\n",
       "      <td>2253.49</td>\n",
       "      <td>30720</td>\n",
       "      <td>150</td>\n",
       "      <td>0.0</td>\n",
       "    </tr>\n",
       "    <tr>\n",
       "      <td>1</td>\n",
       "      <td>1000</td>\n",
       "      <td>52</td>\n",
       "      <td>NaN</td>\n",
       "      <td>Краснодар</td>\n",
       "      <td>Рафаил</td>\n",
       "      <td>Верещагин</td>\n",
       "      <td>2018-05-25</td>\n",
       "      <td>ultra</td>\n",
       "      <td>6.0</td>\n",
       "      <td>23233.77</td>\n",
       "      <td>30720</td>\n",
       "      <td>150</td>\n",
       "      <td>0.0</td>\n",
       "    </tr>\n",
       "    <tr>\n",
       "      <td>2</td>\n",
       "      <td>1000</td>\n",
       "      <td>52</td>\n",
       "      <td>NaN</td>\n",
       "      <td>Краснодар</td>\n",
       "      <td>Рафаил</td>\n",
       "      <td>Верещагин</td>\n",
       "      <td>2018-05-25</td>\n",
       "      <td>ultra</td>\n",
       "      <td>7.0</td>\n",
       "      <td>14003.64</td>\n",
       "      <td>30720</td>\n",
       "      <td>150</td>\n",
       "      <td>0.0</td>\n",
       "    </tr>\n",
       "    <tr>\n",
       "      <td>3</td>\n",
       "      <td>1000</td>\n",
       "      <td>52</td>\n",
       "      <td>NaN</td>\n",
       "      <td>Краснодар</td>\n",
       "      <td>Рафаил</td>\n",
       "      <td>Верещагин</td>\n",
       "      <td>2018-05-25</td>\n",
       "      <td>ultra</td>\n",
       "      <td>8.0</td>\n",
       "      <td>14055.93</td>\n",
       "      <td>30720</td>\n",
       "      <td>150</td>\n",
       "      <td>0.0</td>\n",
       "    </tr>\n",
       "    <tr>\n",
       "      <td>4</td>\n",
       "      <td>1000</td>\n",
       "      <td>52</td>\n",
       "      <td>NaN</td>\n",
       "      <td>Краснодар</td>\n",
       "      <td>Рафаил</td>\n",
       "      <td>Верещагин</td>\n",
       "      <td>2018-05-25</td>\n",
       "      <td>ultra</td>\n",
       "      <td>9.0</td>\n",
       "      <td>14568.91</td>\n",
       "      <td>30720</td>\n",
       "      <td>150</td>\n",
       "      <td>0.0</td>\n",
       "    </tr>\n",
       "    <tr>\n",
       "      <td>...</td>\n",
       "      <td>...</td>\n",
       "      <td>...</td>\n",
       "      <td>...</td>\n",
       "      <td>...</td>\n",
       "      <td>...</td>\n",
       "      <td>...</td>\n",
       "      <td>...</td>\n",
       "      <td>...</td>\n",
       "      <td>...</td>\n",
       "      <td>...</td>\n",
       "      <td>...</td>\n",
       "      <td>...</td>\n",
       "      <td>...</td>\n",
       "    </tr>\n",
       "    <tr>\n",
       "      <td>3201</td>\n",
       "      <td>1498</td>\n",
       "      <td>68</td>\n",
       "      <td>2018-10-25</td>\n",
       "      <td>Владикавказ</td>\n",
       "      <td>Всеволод</td>\n",
       "      <td>Акимчин</td>\n",
       "      <td>2018-07-19</td>\n",
       "      <td>smart</td>\n",
       "      <td>10.0</td>\n",
       "      <td>20579.36</td>\n",
       "      <td>15360</td>\n",
       "      <td>200</td>\n",
       "      <td>1000.0</td>\n",
       "    </tr>\n",
       "    <tr>\n",
       "      <td>3202</td>\n",
       "      <td>1499</td>\n",
       "      <td>35</td>\n",
       "      <td>NaN</td>\n",
       "      <td>Пермь</td>\n",
       "      <td>Гектор</td>\n",
       "      <td>Корнилов</td>\n",
       "      <td>2018-09-27</td>\n",
       "      <td>smart</td>\n",
       "      <td>9.0</td>\n",
       "      <td>1845.75</td>\n",
       "      <td>15360</td>\n",
       "      <td>200</td>\n",
       "      <td>0.0</td>\n",
       "    </tr>\n",
       "    <tr>\n",
       "      <td>3203</td>\n",
       "      <td>1499</td>\n",
       "      <td>35</td>\n",
       "      <td>NaN</td>\n",
       "      <td>Пермь</td>\n",
       "      <td>Гектор</td>\n",
       "      <td>Корнилов</td>\n",
       "      <td>2018-09-27</td>\n",
       "      <td>smart</td>\n",
       "      <td>10.0</td>\n",
       "      <td>17788.51</td>\n",
       "      <td>15360</td>\n",
       "      <td>200</td>\n",
       "      <td>400.0</td>\n",
       "    </tr>\n",
       "    <tr>\n",
       "      <td>3204</td>\n",
       "      <td>1499</td>\n",
       "      <td>35</td>\n",
       "      <td>NaN</td>\n",
       "      <td>Пермь</td>\n",
       "      <td>Гектор</td>\n",
       "      <td>Корнилов</td>\n",
       "      <td>2018-09-27</td>\n",
       "      <td>smart</td>\n",
       "      <td>11.0</td>\n",
       "      <td>17963.31</td>\n",
       "      <td>15360</td>\n",
       "      <td>200</td>\n",
       "      <td>600.0</td>\n",
       "    </tr>\n",
       "    <tr>\n",
       "      <td>3205</td>\n",
       "      <td>1499</td>\n",
       "      <td>35</td>\n",
       "      <td>NaN</td>\n",
       "      <td>Пермь</td>\n",
       "      <td>Гектор</td>\n",
       "      <td>Корнилов</td>\n",
       "      <td>2018-09-27</td>\n",
       "      <td>smart</td>\n",
       "      <td>12.0</td>\n",
       "      <td>13055.58</td>\n",
       "      <td>15360</td>\n",
       "      <td>200</td>\n",
       "      <td>0.0</td>\n",
       "    </tr>\n",
       "  </tbody>\n",
       "</table>\n",
       "<p>3206 rows × 13 columns</p>\n",
       "</div>"
      ],
      "text/plain": [
       "      user_id  age  churn_date         city first_name  last_name   reg_date  \\\n",
       "0        1000   52         NaN    Краснодар     Рафаил  Верещагин 2018-05-25   \n",
       "1        1000   52         NaN    Краснодар     Рафаил  Верещагин 2018-05-25   \n",
       "2        1000   52         NaN    Краснодар     Рафаил  Верещагин 2018-05-25   \n",
       "3        1000   52         NaN    Краснодар     Рафаил  Верещагин 2018-05-25   \n",
       "4        1000   52         NaN    Краснодар     Рафаил  Верещагин 2018-05-25   \n",
       "...       ...  ...         ...          ...        ...        ...        ...   \n",
       "3201     1498   68  2018-10-25  Владикавказ   Всеволод    Акимчин 2018-07-19   \n",
       "3202     1499   35         NaN        Пермь     Гектор   Корнилов 2018-09-27   \n",
       "3203     1499   35         NaN        Пермь     Гектор   Корнилов 2018-09-27   \n",
       "3204     1499   35         NaN        Пермь     Гектор   Корнилов 2018-09-27   \n",
       "3205     1499   35         NaN        Пермь     Гектор   Корнилов 2018-09-27   \n",
       "\n",
       "     tariff  month    mb_sum  in_coin  rub_in     in+  \n",
       "0     ultra    5.0   2253.49    30720     150     0.0  \n",
       "1     ultra    6.0  23233.77    30720     150     0.0  \n",
       "2     ultra    7.0  14003.64    30720     150     0.0  \n",
       "3     ultra    8.0  14055.93    30720     150     0.0  \n",
       "4     ultra    9.0  14568.91    30720     150     0.0  \n",
       "...     ...    ...       ...      ...     ...     ...  \n",
       "3201  smart   10.0  20579.36    15360     200  1000.0  \n",
       "3202  smart    9.0   1845.75    15360     200     0.0  \n",
       "3203  smart   10.0  17788.51    15360     200   400.0  \n",
       "3204  smart   11.0  17963.31    15360     200   600.0  \n",
       "3205  smart   12.0  13055.58    15360     200     0.0  \n",
       "\n",
       "[3206 rows x 13 columns]"
      ]
     },
     "execution_count": 43,
     "metadata": {},
     "output_type": "execute_result"
    }
   ],
   "source": [
    "inter=users.merge(internet_f, on='user_id', how='left')#Обьеденяю таблицу пользователей и интернет трафика по столбцу айди пользователя, чтоб узнать какие у кого тарифы\n",
    "inter['in_coin'] = np.where((inter['tariff'] == 'smart'), 15360, 30720)#Создаю столбец с лимитом для трафика по тарифу\n",
    "inter['rub_in'] = np.where((inter['tariff'] == 'smart'), 200, 150)#Создаю столбец со стоимостью гигабайта трафика сверх тарифного лимита\n",
    "inter['in+'] = (inter['mb_sum'] - inter['in_coin'])#Создаю столбец,считающий разность по лмиту и использованным мегабайтам\n",
    "inter['in+'] = np.where((inter['in+'] > 1024), (round(inter['in+'] / 1024) * inter['rub_in']), 0)#Штраф взимается только с гигабайта трафика, поэтому пересчитываем все для целых гигабайтов\n",
    "inter#Проверяю полученную таблицу"
   ]
  },
  {
   "cell_type": "code",
   "execution_count": 44,
   "metadata": {},
   "outputs": [
    {
     "name": "stdout",
     "output_type": "stream",
     "text": [
      "<class 'pandas.core.frame.DataFrame'>\n",
      "Int64Index: 3206 entries, 0 to 3205\n",
      "Data columns (total 13 columns):\n",
      "user_id       3206 non-null int64\n",
      "age           3206 non-null int64\n",
      "churn_date    188 non-null object\n",
      "city          3206 non-null object\n",
      "first_name    3206 non-null object\n",
      "last_name     3206 non-null object\n",
      "reg_date      3206 non-null datetime64[ns]\n",
      "tariff        3206 non-null object\n",
      "month         3203 non-null float64\n",
      "mb_sum        3203 non-null float64\n",
      "in_coin       3206 non-null int64\n",
      "rub_in        3206 non-null int64\n",
      "in+           3206 non-null float64\n",
      "dtypes: datetime64[ns](1), float64(3), int64(4), object(5)\n",
      "memory usage: 350.7+ KB\n"
     ]
    }
   ],
   "source": [
    "inter.info()#Проверяю полученную таблицу"
   ]
  },
  {
   "cell_type": "markdown",
   "metadata": {},
   "source": [
    "Так как в ранее созданных таблицах количетсво строк отличается, то для точного определения всех месяцев использования тарифа для всех пользователей,- составлю таблицу по пользователям"
   ]
  },
  {
   "cell_type": "markdown",
   "metadata": {},
   "source": [
    "Чтобы охватить весь спектр пользователей создам базовую таблицу, включающую в себя все данные о месяцах пользования тарифом пользователей от даты регистрации до конца 2018 года."
   ]
  },
  {
   "cell_type": "code",
   "execution_count": 45,
   "metadata": {},
   "outputs": [
    {
     "name": "stdout",
     "output_type": "stream",
     "text": [
      "<class 'pandas.core.frame.DataFrame'>\n",
      "RangeIndex: 500 entries, 0 to 499\n",
      "Data columns (total 8 columns):\n",
      "user_id       500 non-null int64\n",
      "age           500 non-null int64\n",
      "churn_date    500 non-null datetime64[ns]\n",
      "city          500 non-null object\n",
      "first_name    500 non-null object\n",
      "last_name     500 non-null object\n",
      "reg_date      500 non-null datetime64[ns]\n",
      "tariff        500 non-null object\n",
      "dtypes: datetime64[ns](2), int64(2), object(4)\n",
      "memory usage: 31.4+ KB\n"
     ]
    }
   ],
   "source": [
    "users['churn_date']=users['churn_date'].fillna('2018-12-31')#Так как мы рассматриваем даты за 2018 год, а пропуски в данной таблице- означают что тарифом пользуются до момента выгрузки данных, то для наших расчетов можно заполнить пропуски последней датой 2018 года\n",
    "users['churn_date'] = pd.to_datetime(users['churn_date'], format='%Y-%m-%dT')#Теперь, когда пропусков больше нет - перевожу даты в удобный формат\n",
    "users.info()#Проверяю полученную таблицу"
   ]
  },
  {
   "cell_type": "code",
   "execution_count": 46,
   "metadata": {},
   "outputs": [
    {
     "data": {
      "text/html": [
       "<div>\n",
       "<style scoped>\n",
       "    .dataframe tbody tr th:only-of-type {\n",
       "        vertical-align: middle;\n",
       "    }\n",
       "\n",
       "    .dataframe tbody tr th {\n",
       "        vertical-align: top;\n",
       "    }\n",
       "\n",
       "    .dataframe thead th {\n",
       "        text-align: right;\n",
       "    }\n",
       "</style>\n",
       "<table border=\"1\" class=\"dataframe\">\n",
       "  <thead>\n",
       "    <tr style=\"text-align: right;\">\n",
       "      <th></th>\n",
       "      <th>user_id</th>\n",
       "      <th>age</th>\n",
       "      <th>churn_date</th>\n",
       "      <th>city</th>\n",
       "      <th>first_name</th>\n",
       "      <th>last_name</th>\n",
       "      <th>reg_date</th>\n",
       "      <th>tariff</th>\n",
       "      <th>month__1</th>\n",
       "      <th>month</th>\n",
       "      <th>rrr</th>\n",
       "    </tr>\n",
       "  </thead>\n",
       "  <tbody>\n",
       "    <tr>\n",
       "      <td>0</td>\n",
       "      <td>1000</td>\n",
       "      <td>52</td>\n",
       "      <td>2018-12-31</td>\n",
       "      <td>Краснодар</td>\n",
       "      <td>Рафаил</td>\n",
       "      <td>Верещагин</td>\n",
       "      <td>2018-05-25</td>\n",
       "      <td>ultra</td>\n",
       "      <td>12</td>\n",
       "      <td>5</td>\n",
       "      <td>8</td>\n",
       "    </tr>\n",
       "    <tr>\n",
       "      <td>1</td>\n",
       "      <td>1001</td>\n",
       "      <td>41</td>\n",
       "      <td>2018-12-31</td>\n",
       "      <td>Москва</td>\n",
       "      <td>Иван</td>\n",
       "      <td>Ежов</td>\n",
       "      <td>2018-11-01</td>\n",
       "      <td>smart</td>\n",
       "      <td>12</td>\n",
       "      <td>11</td>\n",
       "      <td>2</td>\n",
       "    </tr>\n",
       "    <tr>\n",
       "      <td>2</td>\n",
       "      <td>1002</td>\n",
       "      <td>59</td>\n",
       "      <td>2018-12-31</td>\n",
       "      <td>Стерлитамак</td>\n",
       "      <td>Евгений</td>\n",
       "      <td>Абрамович</td>\n",
       "      <td>2018-06-17</td>\n",
       "      <td>smart</td>\n",
       "      <td>12</td>\n",
       "      <td>6</td>\n",
       "      <td>7</td>\n",
       "    </tr>\n",
       "    <tr>\n",
       "      <td>3</td>\n",
       "      <td>1003</td>\n",
       "      <td>23</td>\n",
       "      <td>2018-12-31</td>\n",
       "      <td>Москва</td>\n",
       "      <td>Белла</td>\n",
       "      <td>Белякова</td>\n",
       "      <td>2018-08-17</td>\n",
       "      <td>ultra</td>\n",
       "      <td>12</td>\n",
       "      <td>8</td>\n",
       "      <td>5</td>\n",
       "    </tr>\n",
       "    <tr>\n",
       "      <td>4</td>\n",
       "      <td>1004</td>\n",
       "      <td>68</td>\n",
       "      <td>2018-12-31</td>\n",
       "      <td>Новокузнецк</td>\n",
       "      <td>Татьяна</td>\n",
       "      <td>Авдеенко</td>\n",
       "      <td>2018-05-14</td>\n",
       "      <td>ultra</td>\n",
       "      <td>12</td>\n",
       "      <td>5</td>\n",
       "      <td>8</td>\n",
       "    </tr>\n",
       "    <tr>\n",
       "      <td>...</td>\n",
       "      <td>...</td>\n",
       "      <td>...</td>\n",
       "      <td>...</td>\n",
       "      <td>...</td>\n",
       "      <td>...</td>\n",
       "      <td>...</td>\n",
       "      <td>...</td>\n",
       "      <td>...</td>\n",
       "      <td>...</td>\n",
       "      <td>...</td>\n",
       "      <td>...</td>\n",
       "    </tr>\n",
       "    <tr>\n",
       "      <td>495</td>\n",
       "      <td>1495</td>\n",
       "      <td>65</td>\n",
       "      <td>2018-12-31</td>\n",
       "      <td>Иркутск</td>\n",
       "      <td>Авксентий</td>\n",
       "      <td>Фокин</td>\n",
       "      <td>2018-08-28</td>\n",
       "      <td>ultra</td>\n",
       "      <td>12</td>\n",
       "      <td>8</td>\n",
       "      <td>5</td>\n",
       "    </tr>\n",
       "    <tr>\n",
       "      <td>496</td>\n",
       "      <td>1496</td>\n",
       "      <td>36</td>\n",
       "      <td>2018-12-31</td>\n",
       "      <td>Вологда</td>\n",
       "      <td>Трифон</td>\n",
       "      <td>Блохин</td>\n",
       "      <td>2018-01-27</td>\n",
       "      <td>smart</td>\n",
       "      <td>12</td>\n",
       "      <td>1</td>\n",
       "      <td>12</td>\n",
       "    </tr>\n",
       "    <tr>\n",
       "      <td>497</td>\n",
       "      <td>1497</td>\n",
       "      <td>32</td>\n",
       "      <td>2018-12-31</td>\n",
       "      <td>Челябинск</td>\n",
       "      <td>Каролина</td>\n",
       "      <td>Агеева</td>\n",
       "      <td>2018-10-09</td>\n",
       "      <td>smart</td>\n",
       "      <td>12</td>\n",
       "      <td>10</td>\n",
       "      <td>3</td>\n",
       "    </tr>\n",
       "    <tr>\n",
       "      <td>498</td>\n",
       "      <td>1498</td>\n",
       "      <td>68</td>\n",
       "      <td>2018-10-25</td>\n",
       "      <td>Владикавказ</td>\n",
       "      <td>Всеволод</td>\n",
       "      <td>Акимчин</td>\n",
       "      <td>2018-07-19</td>\n",
       "      <td>smart</td>\n",
       "      <td>10</td>\n",
       "      <td>7</td>\n",
       "      <td>4</td>\n",
       "    </tr>\n",
       "    <tr>\n",
       "      <td>499</td>\n",
       "      <td>1499</td>\n",
       "      <td>35</td>\n",
       "      <td>2018-12-31</td>\n",
       "      <td>Пермь</td>\n",
       "      <td>Гектор</td>\n",
       "      <td>Корнилов</td>\n",
       "      <td>2018-09-27</td>\n",
       "      <td>smart</td>\n",
       "      <td>12</td>\n",
       "      <td>9</td>\n",
       "      <td>4</td>\n",
       "    </tr>\n",
       "  </tbody>\n",
       "</table>\n",
       "<p>500 rows × 11 columns</p>\n",
       "</div>"
      ],
      "text/plain": [
       "     user_id  age churn_date         city first_name  last_name   reg_date  \\\n",
       "0       1000   52 2018-12-31    Краснодар     Рафаил  Верещагин 2018-05-25   \n",
       "1       1001   41 2018-12-31       Москва       Иван       Ежов 2018-11-01   \n",
       "2       1002   59 2018-12-31  Стерлитамак    Евгений  Абрамович 2018-06-17   \n",
       "3       1003   23 2018-12-31       Москва      Белла   Белякова 2018-08-17   \n",
       "4       1004   68 2018-12-31  Новокузнецк    Татьяна   Авдеенко 2018-05-14   \n",
       "..       ...  ...        ...          ...        ...        ...        ...   \n",
       "495     1495   65 2018-12-31      Иркутск  Авксентий      Фокин 2018-08-28   \n",
       "496     1496   36 2018-12-31      Вологда     Трифон     Блохин 2018-01-27   \n",
       "497     1497   32 2018-12-31    Челябинск   Каролина     Агеева 2018-10-09   \n",
       "498     1498   68 2018-10-25  Владикавказ   Всеволод    Акимчин 2018-07-19   \n",
       "499     1499   35 2018-12-31        Пермь     Гектор   Корнилов 2018-09-27   \n",
       "\n",
       "    tariff  month__1  month  rrr  \n",
       "0    ultra        12      5    8  \n",
       "1    smart        12     11    2  \n",
       "2    smart        12      6    7  \n",
       "3    ultra        12      8    5  \n",
       "4    ultra        12      5    8  \n",
       "..     ...       ...    ...  ...  \n",
       "495  ultra        12      8    5  \n",
       "496  smart        12      1   12  \n",
       "497  smart        12     10    3  \n",
       "498  smart        10      7    4  \n",
       "499  smart        12      9    4  \n",
       "\n",
       "[500 rows x 11 columns]"
      ]
     },
     "execution_count": 46,
     "metadata": {},
     "output_type": "execute_result"
    }
   ],
   "source": [
    "users['month__1'] = users['churn_date'].dt.month#Создаю месяци в которых была закончена подписка на тариф\n",
    "users['month'] = users['reg_date'].dt.month#Создаю столбец с месяцами старта использования тарифа\n",
    "users['rrr'] = (users['month__1'] - users['month']) + 1#Стоздаю столбец суммы месяцев пользования тарифом, где +1- означает, что первый месяц включен в стоимость\n",
    "users#Проверяю полученную таблицу"
   ]
  },
  {
   "cell_type": "markdown",
   "metadata": {},
   "source": [
    "Создаю новую таблицу, включающую в себя все возможные месяци пользования тарифом для всех пользователей"
   ]
  },
  {
   "cell_type": "code",
   "execution_count": 47,
   "metadata": {},
   "outputs": [],
   "source": [
    "basic = []#Создаю пустой список, куда будут вноситься индексы будущей таблици\n",
    "fgg = []#Создаю пустой список, куда будут вноситься данные новой таблици\n",
    "for row in users.index:#Для всех индексов из таблици пользователей\n",
    "    basic.append(users.loc[row,'user_id'])#В базовую таблицу заношу строку user_id\n",
    "    rww = users.loc[row,'reg_date']#В переменнй rww сохраняю reg_date для данного индекса\n",
    "    wwr = users.loc[row,'rrr']#В переменнй wwr сохраняю суммы месяцев пользования тарифом для данного пользователя по индексу\n",
    "    fg = pd.Series(pd.period_range(rww, freq='M', periods=wwr))#В переменнй fg сохраняю период от даты регистрации, с количеством месяцев, равным wwr, не включая последний\n",
    "    fgg.append(fg)#В созданный список добавляю список месяцев\n",
    "    \n",
    "gh = pd.DataFrame(index=basic,data=fgg)#Создаю Датафрейм из сгенерированного списка индексов и периодов дат\n",
    "gh = gh.stack()#Перевожу столбци в индексы, но полученная таблица уже не датафрейм\n",
    "hg = pd.DataFrame(data=gh)#Перевожу получившуюся таблицу в датафрейм\n",
    "hg = hg.reset_index()#Избавляюсь от мультииндекса"
   ]
  },
  {
   "cell_type": "code",
   "execution_count": 48,
   "metadata": {},
   "outputs": [
    {
     "name": "stdout",
     "output_type": "stream",
     "text": [
      "<class 'pandas.core.frame.DataFrame'>\n",
      "RangeIndex: 3216 entries, 0 to 3215\n",
      "Data columns (total 3 columns):\n",
      "level_0    3216 non-null int64\n",
      "level_1    3216 non-null int64\n",
      "0          3216 non-null period[M]\n",
      "dtypes: int64(2), period[M](1)\n",
      "memory usage: 75.5 KB\n"
     ]
    }
   ],
   "source": [
    "hg.info()#Проверяю получившуюся таблицу"
   ]
  },
  {
   "cell_type": "code",
   "execution_count": 49,
   "metadata": {},
   "outputs": [
    {
     "data": {
      "text/html": [
       "<div>\n",
       "<style scoped>\n",
       "    .dataframe tbody tr th:only-of-type {\n",
       "        vertical-align: middle;\n",
       "    }\n",
       "\n",
       "    .dataframe tbody tr th {\n",
       "        vertical-align: top;\n",
       "    }\n",
       "\n",
       "    .dataframe thead th {\n",
       "        text-align: right;\n",
       "    }\n",
       "</style>\n",
       "<table border=\"1\" class=\"dataframe\">\n",
       "  <thead>\n",
       "    <tr style=\"text-align: right;\">\n",
       "      <th></th>\n",
       "      <th>user_id</th>\n",
       "      <th>month_m</th>\n",
       "    </tr>\n",
       "  </thead>\n",
       "  <tbody>\n",
       "    <tr>\n",
       "      <td>0</td>\n",
       "      <td>1000</td>\n",
       "      <td>2018-05</td>\n",
       "    </tr>\n",
       "    <tr>\n",
       "      <td>1</td>\n",
       "      <td>1000</td>\n",
       "      <td>2018-06</td>\n",
       "    </tr>\n",
       "    <tr>\n",
       "      <td>2</td>\n",
       "      <td>1000</td>\n",
       "      <td>2018-07</td>\n",
       "    </tr>\n",
       "    <tr>\n",
       "      <td>3</td>\n",
       "      <td>1000</td>\n",
       "      <td>2018-08</td>\n",
       "    </tr>\n",
       "    <tr>\n",
       "      <td>4</td>\n",
       "      <td>1000</td>\n",
       "      <td>2018-09</td>\n",
       "    </tr>\n",
       "    <tr>\n",
       "      <td>...</td>\n",
       "      <td>...</td>\n",
       "      <td>...</td>\n",
       "    </tr>\n",
       "    <tr>\n",
       "      <td>3211</td>\n",
       "      <td>1498</td>\n",
       "      <td>2018-10</td>\n",
       "    </tr>\n",
       "    <tr>\n",
       "      <td>3212</td>\n",
       "      <td>1499</td>\n",
       "      <td>2018-09</td>\n",
       "    </tr>\n",
       "    <tr>\n",
       "      <td>3213</td>\n",
       "      <td>1499</td>\n",
       "      <td>2018-10</td>\n",
       "    </tr>\n",
       "    <tr>\n",
       "      <td>3214</td>\n",
       "      <td>1499</td>\n",
       "      <td>2018-11</td>\n",
       "    </tr>\n",
       "    <tr>\n",
       "      <td>3215</td>\n",
       "      <td>1499</td>\n",
       "      <td>2018-12</td>\n",
       "    </tr>\n",
       "  </tbody>\n",
       "</table>\n",
       "<p>3216 rows × 2 columns</p>\n",
       "</div>"
      ],
      "text/plain": [
       "      user_id  month_m\n",
       "0        1000  2018-05\n",
       "1        1000  2018-06\n",
       "2        1000  2018-07\n",
       "3        1000  2018-08\n",
       "4        1000  2018-09\n",
       "...       ...      ...\n",
       "3211     1498  2018-10\n",
       "3212     1499  2018-09\n",
       "3213     1499  2018-10\n",
       "3214     1499  2018-11\n",
       "3215     1499  2018-12\n",
       "\n",
       "[3216 rows x 2 columns]"
      ]
     },
     "execution_count": 49,
     "metadata": {},
     "output_type": "execute_result"
    }
   ],
   "source": [
    "hg.columns = ['user_id', 'nm', 'month_m']#Задаю новые стоблци получившейся таблице\n",
    "hg = hg.loc[:,['user_id', 'month_m']]#Удаляю ненужный мне столбец\n",
    "hg#Проверяю"
   ]
  },
  {
   "cell_type": "markdown",
   "metadata": {},
   "source": [
    "Содаю таблицу с помесячной выручкой с каждого пользователя"
   ]
  },
  {
   "cell_type": "code",
   "execution_count": 50,
   "metadata": {},
   "outputs": [
    {
     "name": "stdout",
     "output_type": "stream",
     "text": [
      "<class 'pandas.core.frame.DataFrame'>\n",
      "Int64Index: 3216 entries, 0 to 3215\n",
      "Data columns (total 11 columns):\n",
      "user_id         3216 non-null int64\n",
      "month_m         3216 non-null datetime64[ns]\n",
      "tariff          3216 non-null object\n",
      "month           3216 non-null int64\n",
      "sum_dur         3174 non-null float64\n",
      "cll+            3216 non-null float64\n",
      "id_count_sms    2717 non-null float64\n",
      "sms+            3216 non-null float64\n",
      "mb_sum          3203 non-null float64\n",
      "in+             3216 non-null float64\n",
      "sum_pay         3216 non-null float64\n",
      "dtypes: datetime64[ns](1), float64(7), int64(2), object(1)\n",
      "memory usage: 301.5+ KB\n"
     ]
    }
   ],
   "source": [
    "bass = hg.merge(users.loc[:, ['user_id', 'tariff']], on='user_id', how='left')#Обьединяю предидущую таблицу с таблицей users для подсчета платы по тарифу\n",
    "bass['month_m'] = bass['month_m'].astype('str')#Чтоб перевести тип столбца в дату я прощупал такой путь: с начала перевожу в строковый тип\n",
    "bass['month_m'] = pd.to_datetime(bass['month_m'], format='%Y-%m')#Потом уже в дату, так как сразу у меня выбивало ошибку\n",
    "bass['month'] = bass['month_m'].dt.month#Создаю столбец с месяцами пользования, чтоб более качественно склеивать таблици в дальнейшем\n",
    "bass = bass.merge(cll.loc[:, ['user_id', 'month', 'sum_dur', 'cll+']], on=['user_id', 'month'], how='left')#Обьединяю базовую таблицу с таблицей переплат по звонкам\n",
    "bass = bass.merge(sms.loc[:, ['user_id', 'month', 'id_count_sms', 'sms+']], on=['user_id', 'month'], how='left')#Обьединяю базовую таблицу с таблицей переплат по сообщениям\n",
    "bass = bass.merge(inter.loc[:, ['user_id', 'month', 'mb_sum', 'in+']], on=['user_id', 'month'], how='left')#Обьединяю базовую таблицу с таблицей переплат по интернет трафику\n",
    "bass[['cll+', 'sms+', 'in+']] = bass[['cll+', 'sms+', 'in+']].fillna(0)#Заменяю пропуски сумм переплат по превышению на 0, что более очевидно, так как превышение лимита по тарифу довольно редкое явление, да и пропуски могли возникнут по причине того что данных просто небыло, небыло действий от пользователей\n",
    "\n",
    "def funcc(arg):#Описываю функцию для подсчета суммы переплат\n",
    "    if arg['tariff'] == 'smart':#Условие при котором будет осуществляться подсчет суммы для пользователей тарифа smart\n",
    "        f = 550 + arg['cll+'] + arg['sms+'] + arg['in+']#Уравнение счета\n",
    "        return f#Возвращает сумму\n",
    "    if arg['tariff'] == 'ultra':#Условие при котором будет осуществляться подсчет суммы для пользователей тарифа ultra\n",
    "        h = 1950 + arg['cll+'] + arg['sms+'] + arg['in+']#Уравнение счета\n",
    "        return h#Возвращает сумму\n",
    "bass['sum_pay'] = bass.apply(funcc, axis=1)#Применяем функцию к значениям в столбце\n",
    "bass.info()#Проверяю"
   ]
  },
  {
   "cell_type": "markdown",
   "metadata": {},
   "source": [
    "Делаю как вы, Сергей, мне посоветовали."
   ]
  },
  {
   "cell_type": "code",
   "execution_count": 51,
   "metadata": {},
   "outputs": [
    {
     "name": "stdout",
     "output_type": "stream",
     "text": [
      "<class 'pandas.core.frame.DataFrame'>\n",
      "Int64Index: 2791 entries, 0 to 2790\n",
      "Data columns (total 5 columns):\n",
      "user_id    2791 non-null int64\n",
      "month      2717 non-null float64\n",
      "sms+       2791 non-null float64\n",
      "cll+       2680 non-null float64\n",
      "in+        2708 non-null float64\n",
      "dtypes: float64(4), int64(1)\n",
      "memory usage: 130.8 KB\n"
     ]
    }
   ],
   "source": [
    "jkl = sms.loc[:, ['user_id', 'month','sms+']].merge(cll.loc[:, ['user_id', 'month','cll+']], on=['user_id', 'month'], how='left')#Обьединяю 3, заранее агрегированные таблици\n",
    "jkl = jkl.merge(inter.loc[:, ['user_id', 'month','in+']], on=['user_id', 'month'], how='left')#Обьединяю 3, заранее агрегированные таблици\n",
    "jkl.info()#Вывожу информацию"
   ]
  },
  {
   "cell_type": "code",
   "execution_count": 52,
   "metadata": {},
   "outputs": [
    {
     "data": {
      "text/html": [
       "<div>\n",
       "<style scoped>\n",
       "    .dataframe tbody tr th:only-of-type {\n",
       "        vertical-align: middle;\n",
       "    }\n",
       "\n",
       "    .dataframe tbody tr th {\n",
       "        vertical-align: top;\n",
       "    }\n",
       "\n",
       "    .dataframe thead th {\n",
       "        text-align: right;\n",
       "    }\n",
       "</style>\n",
       "<table border=\"1\" class=\"dataframe\">\n",
       "  <thead>\n",
       "    <tr style=\"text-align: right;\">\n",
       "      <th></th>\n",
       "      <th>user_id</th>\n",
       "      <th>month</th>\n",
       "      <th>sms+</th>\n",
       "      <th>cll+</th>\n",
       "      <th>in+</th>\n",
       "    </tr>\n",
       "  </thead>\n",
       "  <tbody>\n",
       "    <tr>\n",
       "      <td>8</td>\n",
       "      <td>1001</td>\n",
       "      <td>NaN</td>\n",
       "      <td>0.0</td>\n",
       "      <td>NaN</td>\n",
       "      <td>NaN</td>\n",
       "    </tr>\n",
       "    <tr>\n",
       "      <td>41</td>\n",
       "      <td>1006</td>\n",
       "      <td>NaN</td>\n",
       "      <td>0.0</td>\n",
       "      <td>NaN</td>\n",
       "      <td>NaN</td>\n",
       "    </tr>\n",
       "    <tr>\n",
       "      <td>62</td>\n",
       "      <td>1010</td>\n",
       "      <td>NaN</td>\n",
       "      <td>0.0</td>\n",
       "      <td>NaN</td>\n",
       "      <td>NaN</td>\n",
       "    </tr>\n",
       "    <tr>\n",
       "      <td>104</td>\n",
       "      <td>1017</td>\n",
       "      <td>NaN</td>\n",
       "      <td>0.0</td>\n",
       "      <td>NaN</td>\n",
       "      <td>NaN</td>\n",
       "    </tr>\n",
       "    <tr>\n",
       "      <td>136</td>\n",
       "      <td>1024</td>\n",
       "      <td>NaN</td>\n",
       "      <td>0.0</td>\n",
       "      <td>NaN</td>\n",
       "      <td>NaN</td>\n",
       "    </tr>\n",
       "    <tr>\n",
       "      <td>...</td>\n",
       "      <td>...</td>\n",
       "      <td>...</td>\n",
       "      <td>...</td>\n",
       "      <td>...</td>\n",
       "      <td>...</td>\n",
       "    </tr>\n",
       "    <tr>\n",
       "      <td>2568</td>\n",
       "      <td>1462</td>\n",
       "      <td>NaN</td>\n",
       "      <td>0.0</td>\n",
       "      <td>NaN</td>\n",
       "      <td>NaN</td>\n",
       "    </tr>\n",
       "    <tr>\n",
       "      <td>2591</td>\n",
       "      <td>1466</td>\n",
       "      <td>NaN</td>\n",
       "      <td>0.0</td>\n",
       "      <td>NaN</td>\n",
       "      <td>NaN</td>\n",
       "    </tr>\n",
       "    <tr>\n",
       "      <td>2605</td>\n",
       "      <td>1469</td>\n",
       "      <td>NaN</td>\n",
       "      <td>0.0</td>\n",
       "      <td>NaN</td>\n",
       "      <td>NaN</td>\n",
       "    </tr>\n",
       "    <tr>\n",
       "      <td>2674</td>\n",
       "      <td>1479</td>\n",
       "      <td>NaN</td>\n",
       "      <td>0.0</td>\n",
       "      <td>NaN</td>\n",
       "      <td>NaN</td>\n",
       "    </tr>\n",
       "    <tr>\n",
       "      <td>2762</td>\n",
       "      <td>1494</td>\n",
       "      <td>NaN</td>\n",
       "      <td>0.0</td>\n",
       "      <td>NaN</td>\n",
       "      <td>NaN</td>\n",
       "    </tr>\n",
       "  </tbody>\n",
       "</table>\n",
       "<p>74 rows × 5 columns</p>\n",
       "</div>"
      ],
      "text/plain": [
       "      user_id  month  sms+  cll+  in+\n",
       "8        1001    NaN   0.0   NaN  NaN\n",
       "41       1006    NaN   0.0   NaN  NaN\n",
       "62       1010    NaN   0.0   NaN  NaN\n",
       "104      1017    NaN   0.0   NaN  NaN\n",
       "136      1024    NaN   0.0   NaN  NaN\n",
       "...       ...    ...   ...   ...  ...\n",
       "2568     1462    NaN   0.0   NaN  NaN\n",
       "2591     1466    NaN   0.0   NaN  NaN\n",
       "2605     1469    NaN   0.0   NaN  NaN\n",
       "2674     1479    NaN   0.0   NaN  NaN\n",
       "2762     1494    NaN   0.0   NaN  NaN\n",
       "\n",
       "[74 rows x 5 columns]"
      ]
     },
     "execution_count": 52,
     "metadata": {},
     "output_type": "execute_result"
    }
   ],
   "source": [
    "jkl.loc[jkl['month'].isna() == True]#Проверяю пропуски"
   ]
  },
  {
   "cell_type": "markdown",
   "metadata": {},
   "source": [
    "На мой взгляд при таком подходе теряются данные и мне он, если честно не приемлем (возможно я вас не правильно понял, но я делаю так как считаю нужным, если я в корне не прав, то обьясните мне пожалуйста;) ), но с вашей помощью я грамотно модернизировал то, что проделал ранее, так что прошу обратить вниманее, на старый код выше с таблицей bass. Хочу заметить что таблицу hg я создавал- как эталон, так как в ней вся информация о пользователях, а именно- дата подключения тарифного плана и  дата прекращения пользования тарифом (напоминаю что так как мы рассматриваем 2018 год то пропуски в столбце churn_date я заменил на последний день 2018го года) итак, получается что время между датами- это то время за которое пользователи как минимум платили абонентскую плату по тарифу, они могли не звонить, не писать сообщения, не сидеть в интернете в это время, от того и могут быть пропуски, но ЖЕЛЕЗНО они платили абонентскую плату и длина такой эталонной таблици не может быть ни больше ни меньше длины таблици hg, а именно- 3216 строчек, все остальные пропуски по переплате- это нули. И даже если есть такой вариант, что пользователи просто не использовали тариф и не платили абонентскую плату- все равно им бы падали задолженности, которые они выплатят в последствии, а такого столбца, как заморозка тарифа- нет."
   ]
  },
  {
   "cell_type": "markdown",
   "metadata": {},
   "source": [
    "<div style=\"border:solid yellow 2px; padding: 20px\"> <h1 style=\"color:orange; margin-bottom:20px\">Комментарий ревьювера</h1>\n",
    "    \n",
    "<div class=\"alert alert-block alert-warning\">\n",
    "<b>Можно улучшить:</b> Согласен, твой подход имеет логичное обоснование, но хочу обратить твое внимение на следующие неточность которые ты делаешь:\n",
    "    \n",
    "1. Объединение по типу users.merge(calls_f, on='user_id', how='left') не корректно, так как в итоговой таблице возникают разрвы в значениях, поэтому необходимо в данном случае объединять таблицы наоборот: calls_f.merge(users, on='user_id', how='left')\n",
    "2. При объединении таблиц с расходами услуг для исключения потери информации необходимо использовать параметр how='outer', в таком случае ты бы избежал потери необходимой информации.\n",
    "3. Все лимиты и тарифы в коде указаны в качестве литеральных констант, при изменнеии лимитов тебе придеться переписывать весь код - гораздо лучше в таком случае сослаться на ячейки датафрейма с тарифами.\n",
    "\n",
    "</div>"
   ]
  },
  {
   "cell_type": "code",
   "execution_count": 53,
   "metadata": {},
   "outputs": [
    {
     "data": {
      "text/html": [
       "<div>\n",
       "<style scoped>\n",
       "    .dataframe tbody tr th:only-of-type {\n",
       "        vertical-align: middle;\n",
       "    }\n",
       "\n",
       "    .dataframe tbody tr th {\n",
       "        vertical-align: top;\n",
       "    }\n",
       "\n",
       "    .dataframe thead th {\n",
       "        text-align: right;\n",
       "    }\n",
       "</style>\n",
       "<table border=\"1\" class=\"dataframe\">\n",
       "  <thead>\n",
       "    <tr style=\"text-align: right;\">\n",
       "      <th></th>\n",
       "      <th>user_id</th>\n",
       "      <th>month_m</th>\n",
       "      <th>tariff</th>\n",
       "      <th>month</th>\n",
       "      <th>sum_dur</th>\n",
       "      <th>cll+</th>\n",
       "      <th>id_count_sms</th>\n",
       "      <th>sms+</th>\n",
       "      <th>mb_sum</th>\n",
       "      <th>in+</th>\n",
       "      <th>sum_pay</th>\n",
       "    </tr>\n",
       "  </thead>\n",
       "  <tbody>\n",
       "    <tr>\n",
       "      <td>0</td>\n",
       "      <td>1000</td>\n",
       "      <td>2018-05-01</td>\n",
       "      <td>ultra</td>\n",
       "      <td>5</td>\n",
       "      <td>159.0</td>\n",
       "      <td>0.0</td>\n",
       "      <td>22.0</td>\n",
       "      <td>0.0</td>\n",
       "      <td>2253.49</td>\n",
       "      <td>0.0</td>\n",
       "      <td>1950.0</td>\n",
       "    </tr>\n",
       "    <tr>\n",
       "      <td>1</td>\n",
       "      <td>1000</td>\n",
       "      <td>2018-06-01</td>\n",
       "      <td>ultra</td>\n",
       "      <td>6</td>\n",
       "      <td>172.0</td>\n",
       "      <td>0.0</td>\n",
       "      <td>60.0</td>\n",
       "      <td>0.0</td>\n",
       "      <td>23233.77</td>\n",
       "      <td>0.0</td>\n",
       "      <td>1950.0</td>\n",
       "    </tr>\n",
       "    <tr>\n",
       "      <td>2</td>\n",
       "      <td>1000</td>\n",
       "      <td>2018-07-01</td>\n",
       "      <td>ultra</td>\n",
       "      <td>7</td>\n",
       "      <td>340.0</td>\n",
       "      <td>0.0</td>\n",
       "      <td>75.0</td>\n",
       "      <td>0.0</td>\n",
       "      <td>14003.64</td>\n",
       "      <td>0.0</td>\n",
       "      <td>1950.0</td>\n",
       "    </tr>\n",
       "    <tr>\n",
       "      <td>3</td>\n",
       "      <td>1000</td>\n",
       "      <td>2018-08-01</td>\n",
       "      <td>ultra</td>\n",
       "      <td>8</td>\n",
       "      <td>408.0</td>\n",
       "      <td>0.0</td>\n",
       "      <td>81.0</td>\n",
       "      <td>0.0</td>\n",
       "      <td>14055.93</td>\n",
       "      <td>0.0</td>\n",
       "      <td>1950.0</td>\n",
       "    </tr>\n",
       "    <tr>\n",
       "      <td>4</td>\n",
       "      <td>1000</td>\n",
       "      <td>2018-09-01</td>\n",
       "      <td>ultra</td>\n",
       "      <td>9</td>\n",
       "      <td>466.0</td>\n",
       "      <td>0.0</td>\n",
       "      <td>57.0</td>\n",
       "      <td>0.0</td>\n",
       "      <td>14568.91</td>\n",
       "      <td>0.0</td>\n",
       "      <td>1950.0</td>\n",
       "    </tr>\n",
       "    <tr>\n",
       "      <td>...</td>\n",
       "      <td>...</td>\n",
       "      <td>...</td>\n",
       "      <td>...</td>\n",
       "      <td>...</td>\n",
       "      <td>...</td>\n",
       "      <td>...</td>\n",
       "      <td>...</td>\n",
       "      <td>...</td>\n",
       "      <td>...</td>\n",
       "      <td>...</td>\n",
       "      <td>...</td>\n",
       "    </tr>\n",
       "    <tr>\n",
       "      <td>3211</td>\n",
       "      <td>1498</td>\n",
       "      <td>2018-10-01</td>\n",
       "      <td>smart</td>\n",
       "      <td>10</td>\n",
       "      <td>247.0</td>\n",
       "      <td>0.0</td>\n",
       "      <td>42.0</td>\n",
       "      <td>0.0</td>\n",
       "      <td>20579.36</td>\n",
       "      <td>1000.0</td>\n",
       "      <td>1550.0</td>\n",
       "    </tr>\n",
       "    <tr>\n",
       "      <td>3212</td>\n",
       "      <td>1499</td>\n",
       "      <td>2018-09-01</td>\n",
       "      <td>smart</td>\n",
       "      <td>9</td>\n",
       "      <td>70.0</td>\n",
       "      <td>0.0</td>\n",
       "      <td>11.0</td>\n",
       "      <td>0.0</td>\n",
       "      <td>1845.75</td>\n",
       "      <td>0.0</td>\n",
       "      <td>550.0</td>\n",
       "    </tr>\n",
       "    <tr>\n",
       "      <td>3213</td>\n",
       "      <td>1499</td>\n",
       "      <td>2018-10-01</td>\n",
       "      <td>smart</td>\n",
       "      <td>10</td>\n",
       "      <td>449.0</td>\n",
       "      <td>0.0</td>\n",
       "      <td>48.0</td>\n",
       "      <td>0.0</td>\n",
       "      <td>17788.51</td>\n",
       "      <td>400.0</td>\n",
       "      <td>950.0</td>\n",
       "    </tr>\n",
       "    <tr>\n",
       "      <td>3214</td>\n",
       "      <td>1499</td>\n",
       "      <td>2018-11-01</td>\n",
       "      <td>smart</td>\n",
       "      <td>11</td>\n",
       "      <td>612.0</td>\n",
       "      <td>336.0</td>\n",
       "      <td>59.0</td>\n",
       "      <td>27.0</td>\n",
       "      <td>17963.31</td>\n",
       "      <td>600.0</td>\n",
       "      <td>1513.0</td>\n",
       "    </tr>\n",
       "    <tr>\n",
       "      <td>3215</td>\n",
       "      <td>1499</td>\n",
       "      <td>2018-12-01</td>\n",
       "      <td>smart</td>\n",
       "      <td>12</td>\n",
       "      <td>492.0</td>\n",
       "      <td>0.0</td>\n",
       "      <td>66.0</td>\n",
       "      <td>48.0</td>\n",
       "      <td>13055.58</td>\n",
       "      <td>0.0</td>\n",
       "      <td>598.0</td>\n",
       "    </tr>\n",
       "  </tbody>\n",
       "</table>\n",
       "<p>3216 rows × 11 columns</p>\n",
       "</div>"
      ],
      "text/plain": [
       "      user_id    month_m tariff  month  sum_dur   cll+  id_count_sms  sms+  \\\n",
       "0        1000 2018-05-01  ultra      5    159.0    0.0          22.0   0.0   \n",
       "1        1000 2018-06-01  ultra      6    172.0    0.0          60.0   0.0   \n",
       "2        1000 2018-07-01  ultra      7    340.0    0.0          75.0   0.0   \n",
       "3        1000 2018-08-01  ultra      8    408.0    0.0          81.0   0.0   \n",
       "4        1000 2018-09-01  ultra      9    466.0    0.0          57.0   0.0   \n",
       "...       ...        ...    ...    ...      ...    ...           ...   ...   \n",
       "3211     1498 2018-10-01  smart     10    247.0    0.0          42.0   0.0   \n",
       "3212     1499 2018-09-01  smart      9     70.0    0.0          11.0   0.0   \n",
       "3213     1499 2018-10-01  smart     10    449.0    0.0          48.0   0.0   \n",
       "3214     1499 2018-11-01  smart     11    612.0  336.0          59.0  27.0   \n",
       "3215     1499 2018-12-01  smart     12    492.0    0.0          66.0  48.0   \n",
       "\n",
       "        mb_sum     in+  sum_pay  \n",
       "0      2253.49     0.0   1950.0  \n",
       "1     23233.77     0.0   1950.0  \n",
       "2     14003.64     0.0   1950.0  \n",
       "3     14055.93     0.0   1950.0  \n",
       "4     14568.91     0.0   1950.0  \n",
       "...        ...     ...      ...  \n",
       "3211  20579.36  1000.0   1550.0  \n",
       "3212   1845.75     0.0    550.0  \n",
       "3213  17788.51   400.0    950.0  \n",
       "3214  17963.31   600.0   1513.0  \n",
       "3215  13055.58     0.0    598.0  \n",
       "\n",
       "[3216 rows x 11 columns]"
      ]
     },
     "execution_count": 53,
     "metadata": {},
     "output_type": "execute_result"
    }
   ],
   "source": [
    "bass#Вывожу таблицу на экран"
   ]
  },
  {
   "cell_type": "markdown",
   "metadata": {},
   "source": [
    "Здесь видно, что таблици переплат по сообщениям, интернет трафику, звонкам- не совпадают по длине с базовой. Это говорит о наличии пропусков, я не стану заменять пропуски, так как они итак посчитаются за 0, но думаю стоит это занотировать и не забывать"
   ]
  },
  {
   "cell_type": "code",
   "execution_count": 54,
   "metadata": {},
   "outputs": [
    {
     "data": {
      "text/plain": [
       "1950.0    904\n",
       "550.0     639\n",
       "1150.0     88\n",
       "950.0      77\n",
       "1350.0     73\n",
       "         ... \n",
       "829.0       1\n",
       "1813.0      1\n",
       "991.0       1\n",
       "1906.0      1\n",
       "1691.0      1\n",
       "Name: sum_pay, Length: 737, dtype: int64"
      ]
     },
     "execution_count": 54,
     "metadata": {},
     "output_type": "execute_result"
    }
   ],
   "source": [
    "bass['sum_pay'].value_counts()#Как видно пропусков всего явно больше 500, но сюда они не попали, так что скорее всего они просто были проигнорированы при счете"
   ]
  },
  {
   "cell_type": "markdown",
   "metadata": {},
   "source": [
    "Были посчитаны количества сделанных звонков, отправленных сообщений, израсходованного интернет трафика для каждого пользователя по месяцам. На основе этих данных и с учетом тарифных расценок были составлены конечные значения денежных взисканий с каждого пользователя за каждый месяц пользования 2018 года начиная с даты подключения тарифа."
   ]
  },
  {
   "cell_type": "markdown",
   "metadata": {},
   "source": [
    "<div style=\"border:solid yellow 2px; padding: 20px\"> <h1 style=\"color:orange; margin-bottom:20px\">Комментарий ревьювера</h1>\n",
    "    \n",
    "<div class=\"alert alert-block alert-warning\">\n",
    "<b>Можно улучшить:</b> Проводимые тобой опреации можно было бы сделать гораздо компактнее. Все что необходимо для расчета это:\n",
    "1. Сформировать таблицы для кажой из услуг агрегированные по user_id и месяцу\n",
    "2. Объединить 3 таблицы и добавить к ней таблицу users с тарифами\n",
    "3. Написать функцию которая посредством вызова через метод apply расчитывает то сколько заплатил каждый из пользоватлей.\n",
    "</div>\n"
   ]
  },
  {
   "cell_type": "markdown",
   "metadata": {},
   "source": [
    "# Шаг 3 Проанализируйте данные"
   ]
  },
  {
   "cell_type": "markdown",
   "metadata": {},
   "source": [
    "Проанализирую минуты разговора пользователей"
   ]
  },
  {
   "cell_type": "code",
   "execution_count": 55,
   "metadata": {},
   "outputs": [
    {
     "data": {
      "text/html": [
       "<div>\n",
       "<style scoped>\n",
       "    .dataframe tbody tr th:only-of-type {\n",
       "        vertical-align: middle;\n",
       "    }\n",
       "\n",
       "    .dataframe tbody tr th {\n",
       "        vertical-align: top;\n",
       "    }\n",
       "\n",
       "    .dataframe thead th {\n",
       "        text-align: right;\n",
       "    }\n",
       "</style>\n",
       "<table border=\"1\" class=\"dataframe\">\n",
       "  <thead>\n",
       "    <tr style=\"text-align: right;\">\n",
       "      <th></th>\n",
       "      <th>user_id</th>\n",
       "      <th>month_m</th>\n",
       "      <th>tariff</th>\n",
       "      <th>month</th>\n",
       "      <th>sum_dur</th>\n",
       "      <th>cll+</th>\n",
       "      <th>id_count_sms</th>\n",
       "      <th>sms+</th>\n",
       "      <th>mb_sum</th>\n",
       "      <th>in+</th>\n",
       "      <th>sum_pay</th>\n",
       "    </tr>\n",
       "  </thead>\n",
       "  <tbody>\n",
       "    <tr>\n",
       "      <td>0</td>\n",
       "      <td>1000</td>\n",
       "      <td>2018-05-01</td>\n",
       "      <td>ultra</td>\n",
       "      <td>5</td>\n",
       "      <td>159.0</td>\n",
       "      <td>0.0</td>\n",
       "      <td>22.0</td>\n",
       "      <td>0.0</td>\n",
       "      <td>2253.49</td>\n",
       "      <td>0.0</td>\n",
       "      <td>1950.0</td>\n",
       "    </tr>\n",
       "    <tr>\n",
       "      <td>1</td>\n",
       "      <td>1000</td>\n",
       "      <td>2018-06-01</td>\n",
       "      <td>ultra</td>\n",
       "      <td>6</td>\n",
       "      <td>172.0</td>\n",
       "      <td>0.0</td>\n",
       "      <td>60.0</td>\n",
       "      <td>0.0</td>\n",
       "      <td>23233.77</td>\n",
       "      <td>0.0</td>\n",
       "      <td>1950.0</td>\n",
       "    </tr>\n",
       "    <tr>\n",
       "      <td>2</td>\n",
       "      <td>1000</td>\n",
       "      <td>2018-07-01</td>\n",
       "      <td>ultra</td>\n",
       "      <td>7</td>\n",
       "      <td>340.0</td>\n",
       "      <td>0.0</td>\n",
       "      <td>75.0</td>\n",
       "      <td>0.0</td>\n",
       "      <td>14003.64</td>\n",
       "      <td>0.0</td>\n",
       "      <td>1950.0</td>\n",
       "    </tr>\n",
       "    <tr>\n",
       "      <td>3</td>\n",
       "      <td>1000</td>\n",
       "      <td>2018-08-01</td>\n",
       "      <td>ultra</td>\n",
       "      <td>8</td>\n",
       "      <td>408.0</td>\n",
       "      <td>0.0</td>\n",
       "      <td>81.0</td>\n",
       "      <td>0.0</td>\n",
       "      <td>14055.93</td>\n",
       "      <td>0.0</td>\n",
       "      <td>1950.0</td>\n",
       "    </tr>\n",
       "    <tr>\n",
       "      <td>4</td>\n",
       "      <td>1000</td>\n",
       "      <td>2018-09-01</td>\n",
       "      <td>ultra</td>\n",
       "      <td>9</td>\n",
       "      <td>466.0</td>\n",
       "      <td>0.0</td>\n",
       "      <td>57.0</td>\n",
       "      <td>0.0</td>\n",
       "      <td>14568.91</td>\n",
       "      <td>0.0</td>\n",
       "      <td>1950.0</td>\n",
       "    </tr>\n",
       "    <tr>\n",
       "      <td>...</td>\n",
       "      <td>...</td>\n",
       "      <td>...</td>\n",
       "      <td>...</td>\n",
       "      <td>...</td>\n",
       "      <td>...</td>\n",
       "      <td>...</td>\n",
       "      <td>...</td>\n",
       "      <td>...</td>\n",
       "      <td>...</td>\n",
       "      <td>...</td>\n",
       "      <td>...</td>\n",
       "    </tr>\n",
       "    <tr>\n",
       "      <td>3211</td>\n",
       "      <td>1498</td>\n",
       "      <td>2018-10-01</td>\n",
       "      <td>smart</td>\n",
       "      <td>10</td>\n",
       "      <td>247.0</td>\n",
       "      <td>0.0</td>\n",
       "      <td>42.0</td>\n",
       "      <td>0.0</td>\n",
       "      <td>20579.36</td>\n",
       "      <td>1000.0</td>\n",
       "      <td>1550.0</td>\n",
       "    </tr>\n",
       "    <tr>\n",
       "      <td>3212</td>\n",
       "      <td>1499</td>\n",
       "      <td>2018-09-01</td>\n",
       "      <td>smart</td>\n",
       "      <td>9</td>\n",
       "      <td>70.0</td>\n",
       "      <td>0.0</td>\n",
       "      <td>11.0</td>\n",
       "      <td>0.0</td>\n",
       "      <td>1845.75</td>\n",
       "      <td>0.0</td>\n",
       "      <td>550.0</td>\n",
       "    </tr>\n",
       "    <tr>\n",
       "      <td>3213</td>\n",
       "      <td>1499</td>\n",
       "      <td>2018-10-01</td>\n",
       "      <td>smart</td>\n",
       "      <td>10</td>\n",
       "      <td>449.0</td>\n",
       "      <td>0.0</td>\n",
       "      <td>48.0</td>\n",
       "      <td>0.0</td>\n",
       "      <td>17788.51</td>\n",
       "      <td>400.0</td>\n",
       "      <td>950.0</td>\n",
       "    </tr>\n",
       "    <tr>\n",
       "      <td>3214</td>\n",
       "      <td>1499</td>\n",
       "      <td>2018-11-01</td>\n",
       "      <td>smart</td>\n",
       "      <td>11</td>\n",
       "      <td>612.0</td>\n",
       "      <td>336.0</td>\n",
       "      <td>59.0</td>\n",
       "      <td>27.0</td>\n",
       "      <td>17963.31</td>\n",
       "      <td>600.0</td>\n",
       "      <td>1513.0</td>\n",
       "    </tr>\n",
       "    <tr>\n",
       "      <td>3215</td>\n",
       "      <td>1499</td>\n",
       "      <td>2018-12-01</td>\n",
       "      <td>smart</td>\n",
       "      <td>12</td>\n",
       "      <td>492.0</td>\n",
       "      <td>0.0</td>\n",
       "      <td>66.0</td>\n",
       "      <td>48.0</td>\n",
       "      <td>13055.58</td>\n",
       "      <td>0.0</td>\n",
       "      <td>598.0</td>\n",
       "    </tr>\n",
       "  </tbody>\n",
       "</table>\n",
       "<p>3216 rows × 11 columns</p>\n",
       "</div>"
      ],
      "text/plain": [
       "      user_id    month_m tariff  month  sum_dur   cll+  id_count_sms  sms+  \\\n",
       "0        1000 2018-05-01  ultra      5    159.0    0.0          22.0   0.0   \n",
       "1        1000 2018-06-01  ultra      6    172.0    0.0          60.0   0.0   \n",
       "2        1000 2018-07-01  ultra      7    340.0    0.0          75.0   0.0   \n",
       "3        1000 2018-08-01  ultra      8    408.0    0.0          81.0   0.0   \n",
       "4        1000 2018-09-01  ultra      9    466.0    0.0          57.0   0.0   \n",
       "...       ...        ...    ...    ...      ...    ...           ...   ...   \n",
       "3211     1498 2018-10-01  smart     10    247.0    0.0          42.0   0.0   \n",
       "3212     1499 2018-09-01  smart      9     70.0    0.0          11.0   0.0   \n",
       "3213     1499 2018-10-01  smart     10    449.0    0.0          48.0   0.0   \n",
       "3214     1499 2018-11-01  smart     11    612.0  336.0          59.0  27.0   \n",
       "3215     1499 2018-12-01  smart     12    492.0    0.0          66.0  48.0   \n",
       "\n",
       "        mb_sum     in+  sum_pay  \n",
       "0      2253.49     0.0   1950.0  \n",
       "1     23233.77     0.0   1950.0  \n",
       "2     14003.64     0.0   1950.0  \n",
       "3     14055.93     0.0   1950.0  \n",
       "4     14568.91     0.0   1950.0  \n",
       "...        ...     ...      ...  \n",
       "3211  20579.36  1000.0   1550.0  \n",
       "3212   1845.75     0.0    550.0  \n",
       "3213  17788.51   400.0    950.0  \n",
       "3214  17963.31   600.0   1513.0  \n",
       "3215  13055.58     0.0    598.0  \n",
       "\n",
       "[3216 rows x 11 columns]"
      ]
     },
     "execution_count": 55,
     "metadata": {},
     "output_type": "execute_result"
    }
   ],
   "source": [
    "bass#Вывожу таблицу для удобства работы"
   ]
  },
  {
   "cell_type": "code",
   "execution_count": 56,
   "metadata": {},
   "outputs": [
    {
     "name": "stdout",
     "output_type": "stream",
     "text": [
      "Данные по выборке потраченых минут за совершенные звонки у пользователей тарифом Ультра\n",
      "Всего в выборке пользователей-  986\n",
      "Стандартное отклонение- 306.926\n",
      "Среднее значение- 545.451\n",
      "Дисперсия- 94104.4\n"
     ]
    }
   ],
   "source": [
    "print('Данные по выборке потраченых минут за совершенные звонки у пользователей тарифом Ультра')#Обьявляю о том какие данные будут далее\n",
    "print('Всего в выборке пользователей- ',len(bass.loc[bass['tariff'] == 'ultra']['sum_dur']))#Подсчитываю количество звонков\n",
    "print('Стандартное отклонение- {:.3f}'.format(bass.loc[bass['tariff'] == 'ultra']['sum_dur'].std()))#Вывожу значение стандартного отклонения, предварительно округлив его до 3го знака после запятой\n",
    "print('Среднее значение- {:.3f}'.format(bass.loc[bass['tariff'] == 'ultra']['sum_dur'].mean()))#Вывожу среднее значение, предварительно округлив его до 3го знака после запятой\n",
    "print('Дисперсия- {:.1f}'.format(np.var(bass.loc[bass['tariff'] == 'ultra']['sum_dur'])))#Нахожу дисперсию значений длительности звонков для пользователей тарифа Ультра"
   ]
  },
  {
   "cell_type": "code",
   "execution_count": 57,
   "metadata": {},
   "outputs": [
    {
     "name": "stdout",
     "output_type": "stream",
     "text": [
      "Данные по выборке потраченых минут за совершенные звонки у пользователей тарифом Смарт\n",
      "Всего в выборке пользователей-  2230\n",
      "Стандартное отклонение- 189.326\n",
      "Среднее значение- 419.063\n",
      "Дисперсия- 35828.1\n"
     ]
    }
   ],
   "source": [
    "print('Данные по выборке потраченых минут за совершенные звонки у пользователей тарифом Смарт')#Обьявляю о том какие данные будут далее\n",
    "print('Всего в выборке пользователей- ',len(bass.loc[bass['tariff'] == 'smart']['sum_dur']))#Подсчитываю количество звонков\n",
    "print('Стандартное отклонение- {:.3f}'.format(bass.loc[bass['tariff'] == 'smart']['sum_dur'].std()))#Вывожу значение стандартного отклонения, предварительно округлив его до 3го знака после запятой\n",
    "print('Среднее значение- {:.3f}'.format(bass.loc[bass['tariff'] == 'smart']['sum_dur'].mean()))#Вывожу среднее значение, предварительно округлив его до 3го знака после запятой\n",
    "print('Дисперсия- {:.1f}'.format(np.var(bass.loc[bass['tariff'] == 'smart']['sum_dur'])))#Нахожу дисперсию значений длительности звонков для пользователей тарифа Смарт"
   ]
  },
  {
   "cell_type": "code",
   "execution_count": 58,
   "metadata": {},
   "outputs": [
    {
     "data": {
      "text/plain": [
       "<matplotlib.axes._subplots.AxesSubplot at 0x7f33bd233b50>"
      ]
     },
     "execution_count": 58,
     "metadata": {},
     "output_type": "execute_result"
    },
    {
     "data": {
      "image/png": "[encoded data removed]",
      "text/plain": [
       "<Figure size 1440x720 with 1 Axes>"
      ]
     },
     "metadata": {
      "needs_background": "light"
     },
     "output_type": "display_data"
    }
   ],
   "source": [
    "ax = bass.loc[bass['tariff'] == 'ultra']['sum_dur'].plot(title = 'Гистограмма частот длительности звонков для пользователей', kind ='hist', grid=True, color=\"red\", alpha=0.7, label='Тарифа Ультра', bins=50, legend=True, figsize=(20,10))#Строю гистограмму частот длительности звонков для пользователей тарифа ультра (красный график)\n",
    "bass.loc[bass['tariff'] == 'smart']['sum_dur'].plot(kind='hist', grid=True, ax=ax, alpha=0.7, label='Тарифа Смарт', bins=50, legend=True, figsize=(20,10))#Строю гистограмму частот длительности звонков для пользователей тарифа смарт"
   ]
  },
  {
   "cell_type": "code",
   "execution_count": 59,
   "metadata": {},
   "outputs": [
    {
     "data": {
      "text/plain": [
       "<matplotlib.axes._subplots.AxesSubplot at 0x7f33bdaefc50>"
      ]
     },
     "execution_count": 59,
     "metadata": {},
     "output_type": "execute_result"
    },
    {
     "data": {
      "image/png": "[encoded data removed]",
      "text/plain": [
       "<Figure size 720x720 with 1 Axes>"
      ]
     },
     "metadata": {
      "needs_background": "light"
     },
     "output_type": "display_data"
    }
   ],
   "source": [
    "ax = (bass.loc[bass['tariff'] == 'smart']#Построю медианные значения длительности звонков для разных тарифов в разные месяцы года\n",
    "      .pivot_table(index='month', values='sum_dur', aggfunc='median')#Использую медиану, так как она устойчива к выбросам\n",
    "      .plot(title = 'Медианные значения длительностей звонков по месяцам', kind='bar', figsize=(10, 10),color=\"red\", grid=True, alpha=0.7, legend=True, label='Тарифа Смарт'))#Пользователи с тарифом Смарт- отмечены красным\n",
    "(bass.loc[bass['tariff'] == 'ultra']\n",
    " .pivot_table(index='month', values='sum_dur', aggfunc='median')\n",
    " .plot(kind='bar',ax=ax, figsize=(10, 10), grid=True, alpha=0.7, legend=True, label='Тарифа Ультра'))"
   ]
  },
  {
   "cell_type": "code",
   "execution_count": 60,
   "metadata": {},
   "outputs": [
    {
     "data": {
      "image/png": "[encoded data removed]",
      "text/plain": [
       "<Figure size 432x288 with 1 Axes>"
      ]
     },
     "metadata": {
      "needs_background": "light"
     },
     "output_type": "display_data"
    },
    {
     "data": {
      "image/png": "[encoded data removed]",
      "text/plain": [
       "<Figure size 432x288 with 1 Axes>"
      ]
     },
     "metadata": {
      "needs_background": "light"
     },
     "output_type": "display_data"
    },
    {
     "data": {
      "image/png": "[encoded data removed]",
      "text/plain": [
       "<Figure size 432x288 with 1 Axes>"
      ]
     },
     "metadata": {
      "needs_background": "light"
     },
     "output_type": "display_data"
    },
    {
     "data": {
      "image/png": "[encoded data removed]",
      "text/plain": [
       "<Figure size 432x288 with 1 Axes>"
      ]
     },
     "metadata": {
      "needs_background": "light"
     },
     "output_type": "display_data"
    },
    {
     "data": {
      "image/png": "[encoded data removed]",
      "text/plain": [
       "<Figure size 432x288 with 1 Axes>"
      ]
     },
     "metadata": {
      "needs_background": "light"
     },
     "output_type": "display_data"
    },
    {
     "data": {
      "image/png": "[encoded data removed]",
      "text/plain": [
       "<Figure size 432x288 with 1 Axes>"
      ]
     },
     "metadata": {
      "needs_background": "light"
     },
     "output_type": "display_data"
    },
    {
     "data": {
      "image/png": "[encoded data removed]",
      "text/plain": [
       "<Figure size 432x288 with 1 Axes>"
      ]
     },
     "metadata": {
      "needs_background": "light"
     },
     "output_type": "display_data"
    },
    {
     "data": {
      "image/png": "[encoded data removed]",
      "text/plain": [
       "<Figure size 432x288 with 1 Axes>"
      ]
     },
     "metadata": {
      "needs_background": "light"
     },
     "output_type": "display_data"
    },
    {
     "data": {
      "image/png": "[encoded data removed]",
      "text/plain": [
       "<Figure size 432x288 with 1 Axes>"
      ]
     },
     "metadata": {
      "needs_background": "light"
     },
     "output_type": "display_data"
    },
    {
     "data": {
      "image/png": "[encoded data removed]",
      "text/plain": [
       "<Figure size 432x288 with 1 Axes>"
      ]
     },
     "metadata": {
      "needs_background": "light"
     },
     "output_type": "display_data"
    },
    {
     "data": {
      "image/png": "[encoded data removed]",
      "text/plain": [
       "<Figure size 432x288 with 1 Axes>"
      ]
     },
     "metadata": {
      "needs_background": "light"
     },
     "output_type": "display_data"
    },
    {
     "data": {
      "image/png": "[encoded data removed]",
      "text/plain": [
       "<Figure size 432x288 with 1 Axes>"
      ]
     },
     "metadata": {
      "needs_background": "light"
     },
     "output_type": "display_data"
    }
   ],
   "source": [
    "for i in range(1,13):#Добавляю информацию о месяцах в боксплотах в цикле для каждого месяца\n",
    "    plt.title('Диаграмма размаха длительностей звонков в {:.0f} месяц'.format(i))#Название месяца\n",
    "    bass.loc[bass['month'] == i].boxplot(column=['sum_dur'])#Построение ящика с усами\n",
    "    plt.show()"
   ]
  },
  {
   "cell_type": "code",
   "execution_count": 61,
   "metadata": {},
   "outputs": [
    {
     "name": "stdout",
     "output_type": "stream",
     "text": [
      "Отношения количества переплат за разговоры в месяц к общему числу для пользователей тарифа смарт- 0.3381165919282511\n",
      "Отношения количества переплат за разговоры в месяц к общему числу для пользователей тарифа ультра- 0.002028397565922921\n"
     ]
    }
   ],
   "source": [
    "print('Отношения количества переплат за разговоры в месяц к общему числу для пользователей тарифа смарт-',len(bass.loc[(bass['tariff'] == 'smart') & (bass['sum_dur'] > 500)]) /  2230)#Расчет отношения количества переплат за разговоры в месяц к общему числу для пользователей тарифа смарт\n",
    "print('Отношения количества переплат за разговоры в месяц к общему числу для пользователей тарифа ультра-',len(bass.loc[(bass['tariff'] == 'ultra') & (bass['sum_dur'] > 1500)]) /  986)#Расчет отношения количества переплат за разговоры в месяц к общему числу для пользователей тарифа ультра"
   ]
  },
  {
   "cell_type": "markdown",
   "metadata": {},
   "source": [
    "Вывод: Большинство людей использует тариф смарт (скорее всего так как он дешевле).Гистограмма частоты помесячной трат минут разговоров имеет нормальный вид для пользователей обоих тарифов. 34% пользователей тарифа смарт переплачивают за превышение лимита по тарифу, при том как пользователи тарифа ультра переплачивают за разговоры гораздо реже (порядка 0,002%). Дисперсия минут пользователей тарифа Ультра гораздо больше дисперсии пользователей тарифа Смарт. По звонкам для тарифов можно сделать следующие выводы: пользователям тяжело определить тариф из-за большого различия между ними, некоторые пытаются сэкономить, взяв смарт и переплачивая за небольшие разговоры по минутам сверх тарифного плана. Пользователи тарифа Ультра более расточительны в этом плане, хоть их пик не намного больше пика пользователей смарт, они все равно выбирают тариф дороже, к тому же из-за большой дисперсии можно сказать, что они подстраховывают себя, чтоб не исчерпать лимит по разговорам. Дольше всего люди звонят в декабре, скорее всего это связано с новым годом. По медианному значению месячного использования минут разговоров можно сделать вывод что люди, использующие тариф Ульта могли бы вложиться в лимит 600 минут, а медианно люди использующие тариф смарт не превышают лимит в 500. Странная особенность- в январе и феврале люди реже всего звонят, возможно потому что они уже дома и некому звонить на выходных."
   ]
  },
  {
   "cell_type": "markdown",
   "metadata": {},
   "source": [
    "Проанализирую сообщения пользователей"
   ]
  },
  {
   "cell_type": "code",
   "execution_count": 62,
   "metadata": {},
   "outputs": [
    {
     "name": "stdout",
     "output_type": "stream",
     "text": [
      "Данные по выборке отправленных сообщений у пользователей тарифом Ультра\n",
      "Всего в выборке пользователей-  986\n",
      "Стандартное отклонение- 45.931\n",
      "Среднее значение- 61.161\n",
      "Дисперсия- 2107.0\n"
     ]
    }
   ],
   "source": [
    "print('Данные по выборке отправленных сообщений у пользователей тарифом Ультра')#Обьявляю о том какие данные будут далее\n",
    "print('Всего в выборке пользователей- ', len(bass.loc[bass['tariff'] == 'ultra']['id_count_sms']))#Подсчитываю количество сообщений\n",
    "print('Стандартное отклонение- {:.3f}'.format(bass.loc[bass['tariff'] == 'ultra']['id_count_sms'].std()))#Вывожу значение стандартного отклонения, предварительно округлив его до 3го знака после запятой\n",
    "print('Среднее значение- {:.3f}'.format(bass.loc[bass['tariff'] == 'ultra']['id_count_sms'].mean()))#Вывожу среднее значение, предварительно округлив его до 3го знака после запятой\n",
    "print('Дисперсия- {:.1f}'.format(np.var(bass.loc[bass['tariff'] == 'ultra']['id_count_sms'])))#Нахожу дисперсию количества сообщений для пользователей тарифа Ультра"
   ]
  },
  {
   "cell_type": "code",
   "execution_count": 63,
   "metadata": {},
   "outputs": [
    {
     "name": "stdout",
     "output_type": "stream",
     "text": [
      "Данные по выборке отправленных сообщений у пользователей тарифом Смарт\n",
      "Всего в выборке пользователей-  2230\n",
      "Стандартное отклонение- 26.788\n",
      "Среднее значение- 38.716\n",
      "Дисперсия- 717.2\n"
     ]
    }
   ],
   "source": [
    "print('Данные по выборке отправленных сообщений у пользователей тарифом Смарт')#Обьявляю о том какие данные будут далее\n",
    "print('Всего в выборке пользователей- ', len(bass.loc[bass['tariff'] == 'smart']['id_count_sms']))#Подсчитываю количество сообщений\n",
    "print('Стандартное отклонение- {:.3f}'.format(bass.loc[bass['tariff'] == 'smart']['id_count_sms'].std()))#Вывожу значение стандартного отклонения, предварительно округлив его до 3го знака после запятой\n",
    "print('Среднее значение- {:.3f}'.format(bass.loc[bass['tariff'] == 'smart']['id_count_sms'].mean()))#Вывожу среднее значение, предварительно округлив его до 3го знака после запятой\n",
    "print('Дисперсия- {:.1f}'.format(np.var(bass.loc[bass['tariff'] == 'smart']['id_count_sms'])))#Нахожу дисперсию количества сообщений для пользователей тарифа Смарт"
   ]
  },
  {
   "cell_type": "code",
   "execution_count": 64,
   "metadata": {},
   "outputs": [
    {
     "data": {
      "text/plain": [
       "<matplotlib.axes._subplots.AxesSubplot at 0x7f33bd94e950>"
      ]
     },
     "execution_count": 64,
     "metadata": {},
     "output_type": "execute_result"
    },
    {
     "data": {
      "image/png": "[encoded data removed]",
      "text/plain": [
       "<Figure size 1440x720 with 1 Axes>"
      ]
     },
     "metadata": {
      "needs_background": "light"
     },
     "output_type": "display_data"
    }
   ],
   "source": [
    "ax = bass.loc[bass['tariff'] == 'ultra']['id_count_sms'].plot(title = 'Гистограмма частот отправленных сообщений для пользователей', kind ='hist', grid=True, color=\"red\", alpha=0.7, label='Тарифа Ультра', bins=50, legend=True, figsize=(20,10))#Строю гистограмму частот длительности звонков для пользователей тарифа ультра (красный график)\n",
    "bass.loc[bass['tariff'] == 'smart']['id_count_sms'].plot(kind='hist', grid=True, ax=ax, alpha=0.7, label='Тарифа Смарт', bins=50, legend=True, figsize=(20,10))#Строю гистограмму частот длительности звонков для пользователей тарифа смарт"
   ]
  },
  {
   "cell_type": "code",
   "execution_count": 65,
   "metadata": {},
   "outputs": [
    {
     "data": {
      "text/plain": [
       "<matplotlib.axes._subplots.AxesSubplot at 0x7f33b8cc06d0>"
      ]
     },
     "execution_count": 65,
     "metadata": {},
     "output_type": "execute_result"
    },
    {
     "data": {
      "image/png": "[encoded data removed]",
      "text/plain": [
       "<Figure size 720x720 with 1 Axes>"
      ]
     },
     "metadata": {
      "needs_background": "light"
     },
     "output_type": "display_data"
    }
   ],
   "source": [
    "ax = (bass.loc[bass['tariff'] == 'smart']#Построю медианные значения количества сообщений для разных тарифов в разные месяцы года\n",
    "      .pivot_table(index='month', values='id_count_sms', aggfunc='mean')#Использую медиану, так как она устойчива к выбросам\n",
    "      .plot(title = 'Медианные значения количества отправленных сообщений по месяцам', grid=True, kind='bar', figsize=(10, 10),color=\"red\",alpha=0.7, legend=True, label='Тарифа Смарт'))#Пользователи с тарифом Смарт- отмечены красным\n",
    "(bass.loc[bass['tariff'] == 'ultra']\n",
    " .pivot_table(index='month', values='id_count_sms', aggfunc='mean')\n",
    " .plot(kind='bar',ax=ax, figsize=(10, 10),alpha=0.7,grid=True, legend=True, label='Тарифа Ультра'))"
   ]
  },
  {
   "cell_type": "code",
   "execution_count": 66,
   "metadata": {},
   "outputs": [
    {
     "data": {
      "image/png": "[encoded data removed]",
      "text/plain": [
       "<Figure size 432x288 with 1 Axes>"
      ]
     },
     "metadata": {
      "needs_background": "light"
     },
     "output_type": "display_data"
    },
    {
     "data": {
      "image/png": "[encoded data removed]",
      "text/plain": [
       "<Figure size 432x288 with 1 Axes>"
      ]
     },
     "metadata": {
      "needs_background": "light"
     },
     "output_type": "display_data"
    },
    {
     "data": {
      "image/png": "[encoded data removed]",
      "text/plain": [
       "<Figure size 432x288 with 1 Axes>"
      ]
     },
     "metadata": {
      "needs_background": "light"
     },
     "output_type": "display_data"
    },
    {
     "data": {
      "image/png": "[encoded data removed]",
      "text/plain": [
       "<Figure size 432x288 with 1 Axes>"
      ]
     },
     "metadata": {
      "needs_background": "light"
     },
     "output_type": "display_data"
    },
    {
     "data": {
      "image/png": "[encoded data removed]",
      "text/plain": [
       "<Figure size 432x288 with 1 Axes>"
      ]
     },
     "metadata": {
      "needs_background": "light"
     },
     "output_type": "display_data"
    },
    {
     "data": {
      "image/png": "[encoded data removed]",
      "text/plain": [
       "<Figure size 432x288 with 1 Axes>"
      ]
     },
     "metadata": {
      "needs_background": "light"
     },
     "output_type": "display_data"
    },
    {
     "data": {
      "image/png": "[encoded data removed]",
      "text/plain": [
       "<Figure size 432x288 with 1 Axes>"
      ]
     },
     "metadata": {
      "needs_background": "light"
     },
     "output_type": "display_data"
    },
    {
     "data": {
      "image/png": "[encoded data removed]",
      "text/plain": [
       "<Figure size 432x288 with 1 Axes>"
      ]
     },
     "metadata": {
      "needs_background": "light"
     },
     "output_type": "display_data"
    },
    {
     "data": {
      "image/png": "[encoded data removed]",
      "text/plain": [
       "<Figure size 432x288 with 1 Axes>"
      ]
     },
     "metadata": {
      "needs_background": "light"
     },
     "output_type": "display_data"
    },
    {
     "data": {
      "image/png": "[encoded data removed]",
      "text/plain": [
       "<Figure size 432x288 with 1 Axes>"
      ]
     },
     "metadata": {
      "needs_background": "light"
     },
     "output_type": "display_data"
    },
    {
     "data": {
      "image/png": "[encoded data removed]",
      "text/plain": [
       "<Figure size 432x288 with 1 Axes>"
      ]
     },
     "metadata": {
      "needs_background": "light"
     },
     "output_type": "display_data"
    },
    {
     "data": {
      "image/png": "[encoded data removed]",
      "text/plain": [
       "<Figure size 432x288 with 1 Axes>"
      ]
     },
     "metadata": {
      "needs_background": "light"
     },
     "output_type": "display_data"
    }
   ],
   "source": [
    "for i in range(1,13):#Добавляю информацию о месяцах в боксплотах в цикле для каждого месяца\n",
    "    plt.title('Диаграмма размаха сообщений в {:.0f} месяц'.format(i))#Название месяца\n",
    "    bass.loc[bass['month'] == i].boxplot(column=['id_count_sms'])#Построение ящика с усами\n",
    "    plt.show()"
   ]
  },
  {
   "cell_type": "markdown",
   "metadata": {},
   "source": [
    "Вывод: Пользователи тарифа Ультра никогда не превышают лимит отправленных смс, в то время как пользователи тарифа Смарт это допускают. На гистограмме частот по месяцам видно, что пользователи тарифа ультра отправляют сообщения чаще, но они никогда не отправляют сообщений больше лимита, а вот пользователи тарифа смарт- отрпавляют. Частота с которой люди отправляют сообщения имеет вид распределения Пуассона. Так же как и со звонками- в декабре люди чаще всего отправляют сообщения, но вот реже всего в марте, а не в январе или феврале как было у таблици звонков. Разные дисперсии выборок, скорее всего, говорят о том, что пользователи тарифа Смарт стараются не привысить лимитов по тарифу, а пльзователи тарифа Ультра берут траиф так сказать с запасом, чтоб не думать о лимитах и их превышении."
   ]
  },
  {
   "cell_type": "markdown",
   "metadata": {},
   "source": [
    "Проанализирую интернет-трафик пользователей"
   ]
  },
  {
   "cell_type": "code",
   "execution_count": 67,
   "metadata": {},
   "outputs": [
    {
     "name": "stdout",
     "output_type": "stream",
     "text": [
      "Данные по выборке израсходованного интернет трафика у пользователей тарифом Ультра\n",
      "Всего в выборке пользователей-  986\n",
      "Стандартное отклонение- 9943.050\n",
      "Среднее значение- 19668.485\n",
      "Дисперсия- 98762849.7\n"
     ]
    }
   ],
   "source": [
    "print('Данные по выборке израсходованного интернет трафика у пользователей тарифом Ультра')#Обьявляю о том какие данные будут далее\n",
    "print('Всего в выборке пользователей- ', len(bass.loc[bass['tariff'] == 'ultra']['mb_sum']))#Подсчитываю количество пользователей\n",
    "print('Стандартное отклонение- {:.3f}'.format(bass.loc[bass['tariff'] == 'ultra']['mb_sum'].std()))#Вывожу значение стандартного отклонения, предварительно округлив его до 3го знака после запятой\n",
    "print('Среднее значение- {:.3f}'.format(bass.loc[bass['tariff'] == 'ultra']['mb_sum'].mean()))#Вывожу среднее значение, предварительно округлив его до 3го знака после запятой\n",
    "print('Дисперсия- {:.1f}'.format(np.var(bass.loc[bass['tariff'] == 'ultra']['mb_sum'])))#Нахожу дисперсию количества сообщений для пользователей тарифа Ультра"
   ]
  },
  {
   "cell_type": "code",
   "execution_count": 68,
   "metadata": {},
   "outputs": [
    {
     "name": "stdout",
     "output_type": "stream",
     "text": [
      "Данные по выборке израсходованного интернет трафика у пользователей тарифом Смарт\n",
      "Всего в выборке пользователей-  2230\n",
      "Стандартное отклонение- 5861.736\n",
      "Среднее значение- 16215.662\n",
      "Дисперсия- 34344529.8\n"
     ]
    }
   ],
   "source": [
    "print('Данные по выборке израсходованного интернет трафика у пользователей тарифом Смарт')#Обьявляю о том какие данные будут далее\n",
    "print('Всего в выборке пользователей- ', len(bass.loc[bass['tariff'] == 'smart']['mb_sum']))#Подсчитываю количество пользователей\n",
    "print('Стандартное отклонение- {:.3f}'.format(bass.loc[bass['tariff'] == 'smart']['mb_sum'].std()))#Вывожу значение стандартного отклонения, предварительно округлив его до 3го знака после запятой\n",
    "print('Среднее значение- {:.3f}'.format(bass.loc[bass['tariff'] == 'smart']['mb_sum'].mean()))#Вывожу среднее значение, предварительно округлив его до 3го знака после запятой\n",
    "print('Дисперсия- {:.1f}'.format(np.var(bass.loc[bass['tariff'] == 'smart']['mb_sum'])))#Нахожу дисперсию количества сообщений для пользователей тарифа Ультра"
   ]
  },
  {
   "cell_type": "code",
   "execution_count": 69,
   "metadata": {},
   "outputs": [
    {
     "data": {
      "text/plain": [
       "<matplotlib.axes._subplots.AxesSubplot at 0x7f33bca8f0d0>"
      ]
     },
     "execution_count": 69,
     "metadata": {},
     "output_type": "execute_result"
    },
    {
     "data": {
      "image/png": "[encoded data removed]",
      "text/plain": [
       "<Figure size 1440x720 with 1 Axes>"
      ]
     },
     "metadata": {
      "needs_background": "light"
     },
     "output_type": "display_data"
    }
   ],
   "source": [
    "ax = bass.loc[bass['tariff'] == 'ultra']['mb_sum'].plot(title = 'Гистограмма частот израсходованного интернет трафика для пользователей', kind ='hist', grid=True, color=\"red\", alpha=0.7, label='Тарифа Ультра', bins=50, legend=True, figsize=(20,10))#Строю гистограмму частот израсходованного интернет трафика для пользователей тарифа ультра (красный график)\n",
    "bass.loc[bass['tariff'] == 'smart']['mb_sum'].plot(kind='hist', grid=True, ax=ax, alpha=0.7, label='Тарифа Смарт', bins=50, legend=True, figsize=(20,10))#Строю гистограмму частот израсходованнаго интернет трафика для пользователей тарифа смарт"
   ]
  },
  {
   "cell_type": "code",
   "execution_count": 70,
   "metadata": {},
   "outputs": [
    {
     "data": {
      "text/plain": [
       "<matplotlib.axes._subplots.AxesSubplot at 0x7f33b8aa2bd0>"
      ]
     },
     "execution_count": 70,
     "metadata": {},
     "output_type": "execute_result"
    },
    {
     "data": {
      "image/png": "[encoded data removed]",
      "text/plain": [
       "<Figure size 720x720 with 1 Axes>"
      ]
     },
     "metadata": {
      "needs_background": "light"
     },
     "output_type": "display_data"
    }
   ],
   "source": [
    "ax = (bass.loc[bass['tariff'] == 'smart']#Построю медианные значения трафика интернета для разных тарифов в разные месяцы года\n",
    "      .pivot_table(index='month', values='mb_sum', aggfunc='median')#Использую медиану, так как она устойчива к выбросам\n",
    "      .plot(title = 'Медианные значения израсходованного интернет трафика по месяцам', grid=True, kind='bar', figsize=(10, 10),color=\"red\",alpha=0.7))#Пользователи с тарифом Смарт- отмечены красным\n",
    "(bass.loc[bass['tariff'] == 'ultra']\n",
    " .pivot_table(index='month', values='mb_sum', aggfunc='median')\n",
    " .plot(grid=True,kind='bar',ax=ax, figsize=(10, 10),alpha=0.7))"
   ]
  },
  {
   "cell_type": "code",
   "execution_count": 71,
   "metadata": {
    "scrolled": true
   },
   "outputs": [
    {
     "data": {
      "image/png": "[encoded data removed]",
      "text/plain": [
       "<Figure size 432x288 with 1 Axes>"
      ]
     },
     "metadata": {
      "needs_background": "light"
     },
     "output_type": "display_data"
    },
    {
     "data": {
      "image/png": "[encoded data removed]",
      "text/plain": [
       "<Figure size 432x288 with 1 Axes>"
      ]
     },
     "metadata": {
      "needs_background": "light"
     },
     "output_type": "display_data"
    },
    {
     "data": {
      "image/png": "[encoded data removed]",
      "text/plain": [
       "<Figure size 432x288 with 1 Axes>"
      ]
     },
     "metadata": {
      "needs_background": "light"
     },
     "output_type": "display_data"
    },
    {
     "data": {
      "image/png": "[encoded data removed]",
      "text/plain": [
       "<Figure size 432x288 with 1 Axes>"
      ]
     },
     "metadata": {
      "needs_background": "light"
     },
     "output_type": "display_data"
    },
    {
     "data": {
      "image/png": "[encoded data removed]",
      "text/plain": [
       "<Figure size 432x288 with 1 Axes>"
      ]
     },
     "metadata": {
      "needs_background": "light"
     },
     "output_type": "display_data"
    },
    {
     "data": {
      "image/png": "[encoded data removed]",
      "text/plain": [
       "<Figure size 432x288 with 1 Axes>"
      ]
     },
     "metadata": {
      "needs_background": "light"
     },
     "output_type": "display_data"
    },
    {
     "data": {
      "image/png": "[encoded data removed]",
      "text/plain": [
       "<Figure size 432x288 with 1 Axes>"
      ]
     },
     "metadata": {
      "needs_background": "light"
     },
     "output_type": "display_data"
    },
    {
     "data": {
      "image/png": "[encoded data removed]",
      "text/plain": [
       "<Figure size 432x288 with 1 Axes>"
      ]
     },
     "metadata": {
      "needs_background": "light"
     },
     "output_type": "display_data"
    },
    {
     "data": {
      "image/png": "[encoded data removed]",
      "text/plain": [
       "<Figure size 432x288 with 1 Axes>"
      ]
     },
     "metadata": {
      "needs_background": "light"
     },
     "output_type": "display_data"
    },
    {
     "data": {
      "image/png": "[encoded data removed]",
      "text/plain": [
       "<Figure size 432x288 with 1 Axes>"
      ]
     },
     "metadata": {
      "needs_background": "light"
     },
     "output_type": "display_data"
    },
    {
     "data": {
      "image/png": "[encoded data removed]",
      "text/plain": [
       "<Figure size 432x288 with 1 Axes>"
      ]
     },
     "metadata": {
      "needs_background": "light"
     },
     "output_type": "display_data"
    },
    {
     "data": {
      "image/png": "[encoded data removed]",
      "text/plain": [
       "<Figure size 432x288 with 1 Axes>"
      ]
     },
     "metadata": {
      "needs_background": "light"
     },
     "output_type": "display_data"
    }
   ],
   "source": [
    "for i in range(1,13):#Добавляю информацию о месяцах в боксплотах в цикле для каждого месяца\n",
    "    plt.title('Диаграмма размаха интернет трафика {:.0f} месяц'.format(i))#Название месяца\n",
    "    bass.loc[bass['month'] == i].boxplot(column=['mb_sum'])#Построение ящика с усами\n",
    "    plt.show()"
   ]
  },
  {
   "cell_type": "code",
   "execution_count": 72,
   "metadata": {},
   "outputs": [
    {
     "name": "stdout",
     "output_type": "stream",
     "text": [
      "Отношения количества переплативших за интернет трафик к общему числу пользователей тарифа Смарт 0.5847533632286995\n",
      "Отношения количества переплативших за интернет трафик к общему числу пользователей тарифа Ультра 0.1359026369168357\n"
     ]
    }
   ],
   "source": [
    "print('Отношения количества переплативших за интернет трафик к общему числу пользователей тарифа Смарт', len(bass.loc[(bass['tariff'] == 'smart') & (bass['mb_sum'] > 15360)]) /  2230)#Расчет отношения количества переплативших за интернет трафик к общему числу пользователей тарифа в месяц \n",
    "print('Отношения количества переплативших за интернет трафик к общему числу пользователей тарифа Ультра',len(bass.loc[(bass['tariff'] == 'ultra') & (bass['mb_sum'] > 30720)]) /  986)#Расчет отношения количества переплативших за интернет трафик к общему числу пользователей тарифа  в месяц "
   ]
  },
  {
   "cell_type": "markdown",
   "metadata": {},
   "source": [
    "Вывод: Гистограма распределения использованного интернет трафика имеет нормальный вид, при чем для пользователей тарифом Ультра гистограмма сдвинута немного вправо и более растянута по краям. Среднее выборки по пользователям тарифа Ультра больше, чем среднее пользователей тарифом Смарт. Чаще всего пользователи используют интернет трафик в декабре, ареже всего- в январе, феврале, при чем в феврале пользователи траифом смарт используют интернет трафика больше нежели пользователи другим тарифом. Пользователи тарифом Смарт превышают лимит по тарифу в 58,5% случаев, тогда как пользователи тарифом ультра в 13,6%."
   ]
  },
  {
   "cell_type": "markdown",
   "metadata": {},
   "source": [
    "<div style=\"border:solid red 2px; padding: 20px\"> <h1 style=\"color:red; margin-bottom:20px\">Комментарий ревьювера</h1>\n",
    "<div class=\"alert alert-block alert-danger\">\n",
    "<b>Нужно исправить:</b> Данный шаг анализа очень важен так как помогает понять отличия  между потребительским повделением польователей для разных тарифов. Поэтому (не смотря на комментарии в ячейках кода) егое необходимо переделать, в следюущих частях:\n",
    "\n",
    "1. На гистограммах должна быть дана легенда о том какие группы представлены, также должны быть подписаны оси данных - график должен быть понятен без дополнительных комментариев.\n",
    "2. Вывод на печать статисических параметров распределений должен быть подисан и понятен при прочтении.\n",
    "3. Построение barplot для медианных помесячных значений потрбеенных ресурсов в разрезе тарифов, не очень наглядно. Более интерпретируемым и читаемы для наблюдаемых данных   мог бы быть категориальный график, например boxplot из пакета seaborn.\n",
    "\n",
    "</div>\n"
   ]
  },
  {
   "cell_type": "markdown",
   "metadata": {},
   "source": [
    "<div style=\"border:solid green 2px; padding: 20px\"> <h1 style=\"color:green; margin-bottom:20px\">Комментарий ревьювера</h1>\n",
    "\n",
    "<div class=\"alert alert-block alert-success\">\n",
    "<b>Все ОК:</b> Хорошо, теперь результаты анализа гораздо понятны\n",
    "</div>\n"
   ]
  },
  {
   "cell_type": "markdown",
   "metadata": {},
   "source": [
    "# Шаг 4. Проверьте гипотезы"
   ]
  },
  {
   "cell_type": "markdown",
   "metadata": {},
   "source": [
    "Проверка гипотезы о том, что средняя выручка пользователей тарифов «Ультра» и «Смарт» различается. Здесь я выбираю H0- гипотезу о том, что средние двух генеральных совокупностей равны, тогда H1- альтернативная гипотеза- они не равны."
   ]
  },
  {
   "cell_type": "code",
   "execution_count": 73,
   "metadata": {},
   "outputs": [
    {
     "data": {
      "text/html": [
       "<div>\n",
       "<style scoped>\n",
       "    .dataframe tbody tr th:only-of-type {\n",
       "        vertical-align: middle;\n",
       "    }\n",
       "\n",
       "    .dataframe tbody tr th {\n",
       "        vertical-align: top;\n",
       "    }\n",
       "\n",
       "    .dataframe thead th {\n",
       "        text-align: right;\n",
       "    }\n",
       "</style>\n",
       "<table border=\"1\" class=\"dataframe\">\n",
       "  <thead>\n",
       "    <tr style=\"text-align: right;\">\n",
       "      <th></th>\n",
       "      <th>user_id</th>\n",
       "      <th>month_m</th>\n",
       "      <th>tariff</th>\n",
       "      <th>month</th>\n",
       "      <th>sum_dur</th>\n",
       "      <th>cll+</th>\n",
       "      <th>id_count_sms</th>\n",
       "      <th>sms+</th>\n",
       "      <th>mb_sum</th>\n",
       "      <th>in+</th>\n",
       "      <th>sum_pay</th>\n",
       "    </tr>\n",
       "  </thead>\n",
       "  <tbody>\n",
       "    <tr>\n",
       "      <td>0</td>\n",
       "      <td>1000</td>\n",
       "      <td>2018-05-01</td>\n",
       "      <td>ultra</td>\n",
       "      <td>5</td>\n",
       "      <td>159.0</td>\n",
       "      <td>0.0</td>\n",
       "      <td>22.0</td>\n",
       "      <td>0.0</td>\n",
       "      <td>2253.49</td>\n",
       "      <td>0.0</td>\n",
       "      <td>1950.0</td>\n",
       "    </tr>\n",
       "    <tr>\n",
       "      <td>1</td>\n",
       "      <td>1000</td>\n",
       "      <td>2018-06-01</td>\n",
       "      <td>ultra</td>\n",
       "      <td>6</td>\n",
       "      <td>172.0</td>\n",
       "      <td>0.0</td>\n",
       "      <td>60.0</td>\n",
       "      <td>0.0</td>\n",
       "      <td>23233.77</td>\n",
       "      <td>0.0</td>\n",
       "      <td>1950.0</td>\n",
       "    </tr>\n",
       "    <tr>\n",
       "      <td>2</td>\n",
       "      <td>1000</td>\n",
       "      <td>2018-07-01</td>\n",
       "      <td>ultra</td>\n",
       "      <td>7</td>\n",
       "      <td>340.0</td>\n",
       "      <td>0.0</td>\n",
       "      <td>75.0</td>\n",
       "      <td>0.0</td>\n",
       "      <td>14003.64</td>\n",
       "      <td>0.0</td>\n",
       "      <td>1950.0</td>\n",
       "    </tr>\n",
       "    <tr>\n",
       "      <td>3</td>\n",
       "      <td>1000</td>\n",
       "      <td>2018-08-01</td>\n",
       "      <td>ultra</td>\n",
       "      <td>8</td>\n",
       "      <td>408.0</td>\n",
       "      <td>0.0</td>\n",
       "      <td>81.0</td>\n",
       "      <td>0.0</td>\n",
       "      <td>14055.93</td>\n",
       "      <td>0.0</td>\n",
       "      <td>1950.0</td>\n",
       "    </tr>\n",
       "    <tr>\n",
       "      <td>4</td>\n",
       "      <td>1000</td>\n",
       "      <td>2018-09-01</td>\n",
       "      <td>ultra</td>\n",
       "      <td>9</td>\n",
       "      <td>466.0</td>\n",
       "      <td>0.0</td>\n",
       "      <td>57.0</td>\n",
       "      <td>0.0</td>\n",
       "      <td>14568.91</td>\n",
       "      <td>0.0</td>\n",
       "      <td>1950.0</td>\n",
       "    </tr>\n",
       "    <tr>\n",
       "      <td>...</td>\n",
       "      <td>...</td>\n",
       "      <td>...</td>\n",
       "      <td>...</td>\n",
       "      <td>...</td>\n",
       "      <td>...</td>\n",
       "      <td>...</td>\n",
       "      <td>...</td>\n",
       "      <td>...</td>\n",
       "      <td>...</td>\n",
       "      <td>...</td>\n",
       "      <td>...</td>\n",
       "    </tr>\n",
       "    <tr>\n",
       "      <td>3211</td>\n",
       "      <td>1498</td>\n",
       "      <td>2018-10-01</td>\n",
       "      <td>smart</td>\n",
       "      <td>10</td>\n",
       "      <td>247.0</td>\n",
       "      <td>0.0</td>\n",
       "      <td>42.0</td>\n",
       "      <td>0.0</td>\n",
       "      <td>20579.36</td>\n",
       "      <td>1000.0</td>\n",
       "      <td>1550.0</td>\n",
       "    </tr>\n",
       "    <tr>\n",
       "      <td>3212</td>\n",
       "      <td>1499</td>\n",
       "      <td>2018-09-01</td>\n",
       "      <td>smart</td>\n",
       "      <td>9</td>\n",
       "      <td>70.0</td>\n",
       "      <td>0.0</td>\n",
       "      <td>11.0</td>\n",
       "      <td>0.0</td>\n",
       "      <td>1845.75</td>\n",
       "      <td>0.0</td>\n",
       "      <td>550.0</td>\n",
       "    </tr>\n",
       "    <tr>\n",
       "      <td>3213</td>\n",
       "      <td>1499</td>\n",
       "      <td>2018-10-01</td>\n",
       "      <td>smart</td>\n",
       "      <td>10</td>\n",
       "      <td>449.0</td>\n",
       "      <td>0.0</td>\n",
       "      <td>48.0</td>\n",
       "      <td>0.0</td>\n",
       "      <td>17788.51</td>\n",
       "      <td>400.0</td>\n",
       "      <td>950.0</td>\n",
       "    </tr>\n",
       "    <tr>\n",
       "      <td>3214</td>\n",
       "      <td>1499</td>\n",
       "      <td>2018-11-01</td>\n",
       "      <td>smart</td>\n",
       "      <td>11</td>\n",
       "      <td>612.0</td>\n",
       "      <td>336.0</td>\n",
       "      <td>59.0</td>\n",
       "      <td>27.0</td>\n",
       "      <td>17963.31</td>\n",
       "      <td>600.0</td>\n",
       "      <td>1513.0</td>\n",
       "    </tr>\n",
       "    <tr>\n",
       "      <td>3215</td>\n",
       "      <td>1499</td>\n",
       "      <td>2018-12-01</td>\n",
       "      <td>smart</td>\n",
       "      <td>12</td>\n",
       "      <td>492.0</td>\n",
       "      <td>0.0</td>\n",
       "      <td>66.0</td>\n",
       "      <td>48.0</td>\n",
       "      <td>13055.58</td>\n",
       "      <td>0.0</td>\n",
       "      <td>598.0</td>\n",
       "    </tr>\n",
       "  </tbody>\n",
       "</table>\n",
       "<p>3216 rows × 11 columns</p>\n",
       "</div>"
      ],
      "text/plain": [
       "      user_id    month_m tariff  month  sum_dur   cll+  id_count_sms  sms+  \\\n",
       "0        1000 2018-05-01  ultra      5    159.0    0.0          22.0   0.0   \n",
       "1        1000 2018-06-01  ultra      6    172.0    0.0          60.0   0.0   \n",
       "2        1000 2018-07-01  ultra      7    340.0    0.0          75.0   0.0   \n",
       "3        1000 2018-08-01  ultra      8    408.0    0.0          81.0   0.0   \n",
       "4        1000 2018-09-01  ultra      9    466.0    0.0          57.0   0.0   \n",
       "...       ...        ...    ...    ...      ...    ...           ...   ...   \n",
       "3211     1498 2018-10-01  smart     10    247.0    0.0          42.0   0.0   \n",
       "3212     1499 2018-09-01  smart      9     70.0    0.0          11.0   0.0   \n",
       "3213     1499 2018-10-01  smart     10    449.0    0.0          48.0   0.0   \n",
       "3214     1499 2018-11-01  smart     11    612.0  336.0          59.0  27.0   \n",
       "3215     1499 2018-12-01  smart     12    492.0    0.0          66.0  48.0   \n",
       "\n",
       "        mb_sum     in+  sum_pay  \n",
       "0      2253.49     0.0   1950.0  \n",
       "1     23233.77     0.0   1950.0  \n",
       "2     14003.64     0.0   1950.0  \n",
       "3     14055.93     0.0   1950.0  \n",
       "4     14568.91     0.0   1950.0  \n",
       "...        ...     ...      ...  \n",
       "3211  20579.36  1000.0   1550.0  \n",
       "3212   1845.75     0.0    550.0  \n",
       "3213  17788.51   400.0    950.0  \n",
       "3214  17963.31   600.0   1513.0  \n",
       "3215  13055.58     0.0    598.0  \n",
       "\n",
       "[3216 rows x 11 columns]"
      ]
     },
     "execution_count": 73,
     "metadata": {},
     "output_type": "execute_result"
    }
   ],
   "source": [
    "bass#Взглянем на таблицу"
   ]
  },
  {
   "cell_type": "code",
   "execution_count": 74,
   "metadata": {},
   "outputs": [
    {
     "name": "stdout",
     "output_type": "stream",
     "text": [
      "p-значение:  1.9523691356385837e-194\n",
      "Отвергаем нулевую гипотезу\n"
     ]
    }
   ],
   "source": [
    "from scipy import stats as st#Импортирую stats\n",
    "    \n",
    "alpha = .05#критический уровень статистической значимости\n",
    "\n",
    "k = bass.loc[bass['tariff'] == 'ultra']['sum_pay']#Присваиваю переменной k общую сумму которую платили пользователи тарифа Ультра в месяц\n",
    "j = bass.loc[bass['tariff'] == 'smart']['sum_pay']#Присваиваю переменной j общую сумму которую платили пользователи тарифа Смарт в месяц\n",
    "results = st.ttest_ind(\n",
    "    k,j)#Сравниваю средние генеральной совокупности\n",
    "    \n",
    "print('p-значение: ', results.pvalue)#Печатаю р-значение\n",
    "    \n",
    "if (results.pvalue < alpha):#Нахожу ответ на интересующий нас вопрос \n",
    "    print(\"Отвергаем нулевую гипотезу\")\n",
    "else:\n",
    "    print(\"Не получилось отвергнуть нулевую гипотезу\")"
   ]
  },
  {
   "cell_type": "code",
   "execution_count": 75,
   "metadata": {},
   "outputs": [
    {
     "data": {
      "text/plain": [
       "<matplotlib.axes._subplots.AxesSubplot at 0x7f339ae9ec50>"
      ]
     },
     "execution_count": 75,
     "metadata": {},
     "output_type": "execute_result"
    },
    {
     "data": {
      "image/png": "[encoded data removed]",
      "text/plain": [
       "<Figure size 720x720 with 1 Axes>"
      ]
     },
     "metadata": {
      "needs_background": "light"
     },
     "output_type": "display_data"
    }
   ],
   "source": [
    "bass.loc[bass['tariff'] == 'ultra']['sum_pay'].plot(kind='hist', title = 'Гистограмма частот трафика интернета для пользователей тарифа ультра', grid=True,color=\"red\", alpha=0.7, figsize=(10, 10), bins=30)#Строю гистограмму частот трафика интернета для пользователей тарифа ультра (красный график)"
   ]
  },
  {
   "cell_type": "code",
   "execution_count": 76,
   "metadata": {},
   "outputs": [
    {
     "data": {
      "text/plain": [
       "<matplotlib.axes._subplots.AxesSubplot at 0x7f33b8e91890>"
      ]
     },
     "execution_count": 76,
     "metadata": {},
     "output_type": "execute_result"
    },
    {
     "data": {
      "image/png": "[encoded data removed]",
      "text/plain": [
       "<Figure size 720x720 with 1 Axes>"
      ]
     },
     "metadata": {
      "needs_background": "light"
     },
     "output_type": "display_data"
    }
   ],
   "source": [
    "bass.loc[bass['tariff'] == 'smart']['sum_pay'].plot(kind='hist', title = 'Гистограмма частот трафика интернета для пользователей тарифа смарт', grid=True, alpha=0.7, figsize=(10, 10), bins=30)#Строю гистограмму частот трафика интернета для пользователей тарифа ультра (красный график)"
   ]
  },
  {
   "cell_type": "code",
   "execution_count": 77,
   "metadata": {},
   "outputs": [
    {
     "data": {
      "image/png": "[encoded data removed]",
      "text/plain": [
       "<Figure size 432x288 with 1 Axes>"
      ]
     },
     "metadata": {
      "needs_background": "light"
     },
     "output_type": "display_data"
    }
   ],
   "source": [
    "plt.title('Диаграмма размаха суммарной платы пользователей тарифа Ультра')#Название\n",
    "bass.loc[bass['tariff'] == 'ultra'].boxplot(column=['sum_pay'])#Построение ящика с усами\n",
    "plt.show()"
   ]
  },
  {
   "cell_type": "code",
   "execution_count": 78,
   "metadata": {},
   "outputs": [
    {
     "data": {
      "image/png": "[encoded data removed]",
      "text/plain": [
       "<Figure size 432x288 with 1 Axes>"
      ]
     },
     "metadata": {
      "needs_background": "light"
     },
     "output_type": "display_data"
    }
   ],
   "source": [
    "plt.title('Диаграмма размаха суммарной платы пользователей тарифа Смарт')#Название\n",
    "bass.loc[bass['tariff'] == 'smart'].boxplot(column=['sum_pay'])#Построение ящика с усами\n",
    "plt.show()"
   ]
  },
  {
   "cell_type": "markdown",
   "metadata": {},
   "source": [
    "Как видно из решения стат гипотезы и по гистограммам: средняя выручка пользователей тарифов «Ультра» и «Смарт» различается. И судя по диаграммам размаха: больше платят пользователи тарифом Ультра, но их меньше в данной выборке, в то время как у пользователей тарифа Смар выбросы гораздо больше и эти люди могли бы купить себе тариф Ультра, что бы не переплачивать, но возможно их пугает цена и они не следят за своими собственными расходами."
   ]
  },
  {
   "cell_type": "markdown",
   "metadata": {},
   "source": [
    "Проверка гипотезы о том, что средняя выручка пользователей из Москвы и других городов различается. Здесь я выбираю H0- гипотезу о том, что средние двух генеральных совокупностей равны, тогда H1- альтернативная гипотеза- они не равны."
   ]
  },
  {
   "cell_type": "code",
   "execution_count": 79,
   "metadata": {},
   "outputs": [
    {
     "data": {
      "text/html": [
       "<div>\n",
       "<style scoped>\n",
       "    .dataframe tbody tr th:only-of-type {\n",
       "        vertical-align: middle;\n",
       "    }\n",
       "\n",
       "    .dataframe tbody tr th {\n",
       "        vertical-align: top;\n",
       "    }\n",
       "\n",
       "    .dataframe thead th {\n",
       "        text-align: right;\n",
       "    }\n",
       "</style>\n",
       "<table border=\"1\" class=\"dataframe\">\n",
       "  <thead>\n",
       "    <tr style=\"text-align: right;\">\n",
       "      <th></th>\n",
       "      <th>user_id</th>\n",
       "      <th>month_m</th>\n",
       "      <th>tariff</th>\n",
       "      <th>month</th>\n",
       "      <th>sum_dur</th>\n",
       "      <th>cll+</th>\n",
       "      <th>id_count_sms</th>\n",
       "      <th>sms+</th>\n",
       "      <th>mb_sum</th>\n",
       "      <th>in+</th>\n",
       "      <th>sum_pay</th>\n",
       "    </tr>\n",
       "  </thead>\n",
       "  <tbody>\n",
       "    <tr>\n",
       "      <td>0</td>\n",
       "      <td>1000</td>\n",
       "      <td>2018-05-01</td>\n",
       "      <td>ultra</td>\n",
       "      <td>5</td>\n",
       "      <td>159.0</td>\n",
       "      <td>0.0</td>\n",
       "      <td>22.0</td>\n",
       "      <td>0.0</td>\n",
       "      <td>2253.49</td>\n",
       "      <td>0.0</td>\n",
       "      <td>1950.0</td>\n",
       "    </tr>\n",
       "    <tr>\n",
       "      <td>1</td>\n",
       "      <td>1000</td>\n",
       "      <td>2018-06-01</td>\n",
       "      <td>ultra</td>\n",
       "      <td>6</td>\n",
       "      <td>172.0</td>\n",
       "      <td>0.0</td>\n",
       "      <td>60.0</td>\n",
       "      <td>0.0</td>\n",
       "      <td>23233.77</td>\n",
       "      <td>0.0</td>\n",
       "      <td>1950.0</td>\n",
       "    </tr>\n",
       "    <tr>\n",
       "      <td>2</td>\n",
       "      <td>1000</td>\n",
       "      <td>2018-07-01</td>\n",
       "      <td>ultra</td>\n",
       "      <td>7</td>\n",
       "      <td>340.0</td>\n",
       "      <td>0.0</td>\n",
       "      <td>75.0</td>\n",
       "      <td>0.0</td>\n",
       "      <td>14003.64</td>\n",
       "      <td>0.0</td>\n",
       "      <td>1950.0</td>\n",
       "    </tr>\n",
       "    <tr>\n",
       "      <td>3</td>\n",
       "      <td>1000</td>\n",
       "      <td>2018-08-01</td>\n",
       "      <td>ultra</td>\n",
       "      <td>8</td>\n",
       "      <td>408.0</td>\n",
       "      <td>0.0</td>\n",
       "      <td>81.0</td>\n",
       "      <td>0.0</td>\n",
       "      <td>14055.93</td>\n",
       "      <td>0.0</td>\n",
       "      <td>1950.0</td>\n",
       "    </tr>\n",
       "    <tr>\n",
       "      <td>4</td>\n",
       "      <td>1000</td>\n",
       "      <td>2018-09-01</td>\n",
       "      <td>ultra</td>\n",
       "      <td>9</td>\n",
       "      <td>466.0</td>\n",
       "      <td>0.0</td>\n",
       "      <td>57.0</td>\n",
       "      <td>0.0</td>\n",
       "      <td>14568.91</td>\n",
       "      <td>0.0</td>\n",
       "      <td>1950.0</td>\n",
       "    </tr>\n",
       "    <tr>\n",
       "      <td>...</td>\n",
       "      <td>...</td>\n",
       "      <td>...</td>\n",
       "      <td>...</td>\n",
       "      <td>...</td>\n",
       "      <td>...</td>\n",
       "      <td>...</td>\n",
       "      <td>...</td>\n",
       "      <td>...</td>\n",
       "      <td>...</td>\n",
       "      <td>...</td>\n",
       "      <td>...</td>\n",
       "    </tr>\n",
       "    <tr>\n",
       "      <td>3211</td>\n",
       "      <td>1498</td>\n",
       "      <td>2018-10-01</td>\n",
       "      <td>smart</td>\n",
       "      <td>10</td>\n",
       "      <td>247.0</td>\n",
       "      <td>0.0</td>\n",
       "      <td>42.0</td>\n",
       "      <td>0.0</td>\n",
       "      <td>20579.36</td>\n",
       "      <td>1000.0</td>\n",
       "      <td>1550.0</td>\n",
       "    </tr>\n",
       "    <tr>\n",
       "      <td>3212</td>\n",
       "      <td>1499</td>\n",
       "      <td>2018-09-01</td>\n",
       "      <td>smart</td>\n",
       "      <td>9</td>\n",
       "      <td>70.0</td>\n",
       "      <td>0.0</td>\n",
       "      <td>11.0</td>\n",
       "      <td>0.0</td>\n",
       "      <td>1845.75</td>\n",
       "      <td>0.0</td>\n",
       "      <td>550.0</td>\n",
       "    </tr>\n",
       "    <tr>\n",
       "      <td>3213</td>\n",
       "      <td>1499</td>\n",
       "      <td>2018-10-01</td>\n",
       "      <td>smart</td>\n",
       "      <td>10</td>\n",
       "      <td>449.0</td>\n",
       "      <td>0.0</td>\n",
       "      <td>48.0</td>\n",
       "      <td>0.0</td>\n",
       "      <td>17788.51</td>\n",
       "      <td>400.0</td>\n",
       "      <td>950.0</td>\n",
       "    </tr>\n",
       "    <tr>\n",
       "      <td>3214</td>\n",
       "      <td>1499</td>\n",
       "      <td>2018-11-01</td>\n",
       "      <td>smart</td>\n",
       "      <td>11</td>\n",
       "      <td>612.0</td>\n",
       "      <td>336.0</td>\n",
       "      <td>59.0</td>\n",
       "      <td>27.0</td>\n",
       "      <td>17963.31</td>\n",
       "      <td>600.0</td>\n",
       "      <td>1513.0</td>\n",
       "    </tr>\n",
       "    <tr>\n",
       "      <td>3215</td>\n",
       "      <td>1499</td>\n",
       "      <td>2018-12-01</td>\n",
       "      <td>smart</td>\n",
       "      <td>12</td>\n",
       "      <td>492.0</td>\n",
       "      <td>0.0</td>\n",
       "      <td>66.0</td>\n",
       "      <td>48.0</td>\n",
       "      <td>13055.58</td>\n",
       "      <td>0.0</td>\n",
       "      <td>598.0</td>\n",
       "    </tr>\n",
       "  </tbody>\n",
       "</table>\n",
       "<p>3216 rows × 11 columns</p>\n",
       "</div>"
      ],
      "text/plain": [
       "      user_id    month_m tariff  month  sum_dur   cll+  id_count_sms  sms+  \\\n",
       "0        1000 2018-05-01  ultra      5    159.0    0.0          22.0   0.0   \n",
       "1        1000 2018-06-01  ultra      6    172.0    0.0          60.0   0.0   \n",
       "2        1000 2018-07-01  ultra      7    340.0    0.0          75.0   0.0   \n",
       "3        1000 2018-08-01  ultra      8    408.0    0.0          81.0   0.0   \n",
       "4        1000 2018-09-01  ultra      9    466.0    0.0          57.0   0.0   \n",
       "...       ...        ...    ...    ...      ...    ...           ...   ...   \n",
       "3211     1498 2018-10-01  smart     10    247.0    0.0          42.0   0.0   \n",
       "3212     1499 2018-09-01  smart      9     70.0    0.0          11.0   0.0   \n",
       "3213     1499 2018-10-01  smart     10    449.0    0.0          48.0   0.0   \n",
       "3214     1499 2018-11-01  smart     11    612.0  336.0          59.0  27.0   \n",
       "3215     1499 2018-12-01  smart     12    492.0    0.0          66.0  48.0   \n",
       "\n",
       "        mb_sum     in+  sum_pay  \n",
       "0      2253.49     0.0   1950.0  \n",
       "1     23233.77     0.0   1950.0  \n",
       "2     14003.64     0.0   1950.0  \n",
       "3     14055.93     0.0   1950.0  \n",
       "4     14568.91     0.0   1950.0  \n",
       "...        ...     ...      ...  \n",
       "3211  20579.36  1000.0   1550.0  \n",
       "3212   1845.75     0.0    550.0  \n",
       "3213  17788.51   400.0    950.0  \n",
       "3214  17963.31   600.0   1513.0  \n",
       "3215  13055.58     0.0    598.0  \n",
       "\n",
       "[3216 rows x 11 columns]"
      ]
     },
     "execution_count": 79,
     "metadata": {},
     "output_type": "execute_result"
    }
   ],
   "source": [
    "bass"
   ]
  },
  {
   "cell_type": "code",
   "execution_count": 80,
   "metadata": {},
   "outputs": [
    {
     "data": {
      "text/html": [
       "<div>\n",
       "<style scoped>\n",
       "    .dataframe tbody tr th:only-of-type {\n",
       "        vertical-align: middle;\n",
       "    }\n",
       "\n",
       "    .dataframe tbody tr th {\n",
       "        vertical-align: top;\n",
       "    }\n",
       "\n",
       "    .dataframe thead th {\n",
       "        text-align: right;\n",
       "    }\n",
       "</style>\n",
       "<table border=\"1\" class=\"dataframe\">\n",
       "  <thead>\n",
       "    <tr style=\"text-align: right;\">\n",
       "      <th></th>\n",
       "      <th>user_id</th>\n",
       "      <th>sum_pay</th>\n",
       "      <th>city</th>\n",
       "    </tr>\n",
       "  </thead>\n",
       "  <tbody>\n",
       "    <tr>\n",
       "      <td>0</td>\n",
       "      <td>1000</td>\n",
       "      <td>1950.0</td>\n",
       "      <td>Краснодар</td>\n",
       "    </tr>\n",
       "    <tr>\n",
       "      <td>1</td>\n",
       "      <td>1000</td>\n",
       "      <td>1950.0</td>\n",
       "      <td>Краснодар</td>\n",
       "    </tr>\n",
       "    <tr>\n",
       "      <td>2</td>\n",
       "      <td>1000</td>\n",
       "      <td>1950.0</td>\n",
       "      <td>Краснодар</td>\n",
       "    </tr>\n",
       "    <tr>\n",
       "      <td>3</td>\n",
       "      <td>1000</td>\n",
       "      <td>1950.0</td>\n",
       "      <td>Краснодар</td>\n",
       "    </tr>\n",
       "    <tr>\n",
       "      <td>4</td>\n",
       "      <td>1000</td>\n",
       "      <td>1950.0</td>\n",
       "      <td>Краснодар</td>\n",
       "    </tr>\n",
       "    <tr>\n",
       "      <td>...</td>\n",
       "      <td>...</td>\n",
       "      <td>...</td>\n",
       "      <td>...</td>\n",
       "    </tr>\n",
       "    <tr>\n",
       "      <td>3211</td>\n",
       "      <td>1498</td>\n",
       "      <td>1550.0</td>\n",
       "      <td>Владикавказ</td>\n",
       "    </tr>\n",
       "    <tr>\n",
       "      <td>3212</td>\n",
       "      <td>1499</td>\n",
       "      <td>550.0</td>\n",
       "      <td>Пермь</td>\n",
       "    </tr>\n",
       "    <tr>\n",
       "      <td>3213</td>\n",
       "      <td>1499</td>\n",
       "      <td>950.0</td>\n",
       "      <td>Пермь</td>\n",
       "    </tr>\n",
       "    <tr>\n",
       "      <td>3214</td>\n",
       "      <td>1499</td>\n",
       "      <td>1513.0</td>\n",
       "      <td>Пермь</td>\n",
       "    </tr>\n",
       "    <tr>\n",
       "      <td>3215</td>\n",
       "      <td>1499</td>\n",
       "      <td>598.0</td>\n",
       "      <td>Пермь</td>\n",
       "    </tr>\n",
       "  </tbody>\n",
       "</table>\n",
       "<p>3216 rows × 3 columns</p>\n",
       "</div>"
      ],
      "text/plain": [
       "      user_id  sum_pay         city\n",
       "0        1000   1950.0    Краснодар\n",
       "1        1000   1950.0    Краснодар\n",
       "2        1000   1950.0    Краснодар\n",
       "3        1000   1950.0    Краснодар\n",
       "4        1000   1950.0    Краснодар\n",
       "...       ...      ...          ...\n",
       "3211     1498   1550.0  Владикавказ\n",
       "3212     1499    550.0        Пермь\n",
       "3213     1499    950.0        Пермь\n",
       "3214     1499   1513.0        Пермь\n",
       "3215     1499    598.0        Пермь\n",
       "\n",
       "[3216 rows x 3 columns]"
      ]
     },
     "execution_count": 80,
     "metadata": {},
     "output_type": "execute_result"
    }
   ],
   "source": [
    "basss = bass.merge(users, on=['user_id'], how='left')#Обьединяю таблици для получения значений города\n",
    "basss = basss.loc[:, ['user_id', 'sum_pay', 'city']]#Удаляю ненужные значения\n",
    "basss#Проверяю"
   ]
  },
  {
   "cell_type": "code",
   "execution_count": 81,
   "metadata": {},
   "outputs": [
    {
     "name": "stdout",
     "output_type": "stream",
     "text": [
      "Количество пользователей из Москвы- 611\n",
      "Количество пользователей из других городов- 2605\n"
     ]
    }
   ],
   "source": [
    "print('Количество пользователей из Москвы-', len(basss.loc[basss['city'] == 'Москва']))#Так как пользователей из Москвы не много, то принимаю уровень значимости 0,1\n",
    "print('Количество пользователей из других городов-', len(basss.query('city != \"Москва\"')))"
   ]
  },
  {
   "cell_type": "markdown",
   "metadata": {},
   "source": [
    "Как видим- выборка пользователей из Москвы практически в 4 раза меньше выборки пользователей из других городов, из-за этого я принимаю решение повысить критический уровень до 0,1"
   ]
  },
  {
   "cell_type": "code",
   "execution_count": 82,
   "metadata": {},
   "outputs": [
    {
     "name": "stdout",
     "output_type": "stream",
     "text": [
      "p-значение:  0.5031712370560832\n",
      "Не получилось отвергнуть нулевую гипотезу\n"
     ]
    }
   ],
   "source": [
    "alpha = .1#критический уровень статистической значимости\n",
    "\n",
    "k = basss.loc[basss['city'] == 'Москва']['sum_pay']#Присваиваю переменной k общую сумму которую платили пользователи из Москвы в месяц\n",
    "j = basss.loc[basss['city'] != 'Москва']['sum_pay']#Присваиваю переменной j общую сумму которую платили пользователи не из Москвы в месяц\n",
    "results = st.ttest_ind(\n",
    "    k,j)\n",
    "    \n",
    "print('p-значение: ', results.pvalue)#Печатаю р-значение\n",
    "    \n",
    "if (results.pvalue < alpha):#Нахожу ответ на интересующий нас вопрос \n",
    "    print(\"Отвергаем нулевую гипотезу\")\n",
    "else:\n",
    "    print(\"Не получилось отвергнуть нулевую гипотезу\")"
   ]
  },
  {
   "cell_type": "code",
   "execution_count": 83,
   "metadata": {},
   "outputs": [
    {
     "data": {
      "text/plain": [
       "<matplotlib.axes._subplots.AxesSubplot at 0x7f339a8ebad0>"
      ]
     },
     "execution_count": 83,
     "metadata": {},
     "output_type": "execute_result"
    },
    {
     "data": {
      "image/png": "[encoded data removed]",
      "text/plain": [
       "<Figure size 720x720 with 1 Axes>"
      ]
     },
     "metadata": {
      "needs_background": "light"
     },
     "output_type": "display_data"
    }
   ],
   "source": [
    "#Строю гистограмму частот суммарной платы для пользователей тарифа ультра (красный график)\n",
    "basss.loc[basss['city'] == 'Москва']['sum_pay'].plot(kind='hist', title = 'Гистограмма частот суммарной платы для пользователей из Москвы', grid=True, alpha=0.7, figsize=(10, 10), bins=30,color=\"red\")"
   ]
  },
  {
   "cell_type": "code",
   "execution_count": 84,
   "metadata": {},
   "outputs": [
    {
     "data": {
      "text/plain": [
       "<matplotlib.axes._subplots.AxesSubplot at 0x7f33b832f290>"
      ]
     },
     "execution_count": 84,
     "metadata": {},
     "output_type": "execute_result"
    },
    {
     "data": {
      "image/png": "[encoded data removed]",
      "text/plain": [
       "<Figure size 720x720 with 1 Axes>"
      ]
     },
     "metadata": {
      "needs_background": "light"
     },
     "output_type": "display_data"
    }
   ],
   "source": [
    "#Строю гистограмму частот суммарной платы для пользователей тарифа ультра (красный график)\n",
    "basss.loc[basss['city'] != 'Москва']['sum_pay'].plot(kind='hist', title = 'Гистограмма частот суммарной платы для пользователей из других городов', grid=True, alpha=0.7, figsize=(10, 10), bins=30)"
   ]
  },
  {
   "cell_type": "markdown",
   "metadata": {},
   "source": [
    "Считаю данное решение стат гипотезы имеет высокую вероятность ошибки 2-го рода, так как судя по гистограммам у пользователей из Москвы людей с тарифным планом Ультра немного больше нежели пользователей со Смарт тарифом- это означает о тенденции к увеличению средней платы. Так же стоит учесть, что выборка пользователей из Москвы практически в 4 раза меньше альтернативной и у пользователей тарифом Смарт есть выбросы по плате, существенно превышающие выбросы у пользователей тарифом Ультра."
   ]
  },
  {
   "cell_type": "markdown",
   "metadata": {},
   "source": [
    "Я решил проверить п- значение, если избавится от выбросов у пользователей тарифом Смарт."
   ]
  },
  {
   "cell_type": "code",
   "execution_count": 86,
   "metadata": {},
   "outputs": [
    {
     "name": "stdout",
     "output_type": "stream",
     "text": [
      "p-значение:  0.33618823607924386\n",
      "Не получилось отвергнуть нулевую гипотезу\n"
     ]
    }
   ],
   "source": [
    "alpha = .1#критический уровень статистической значимости\n",
    "\n",
    "k = basss.loc[basss['city'] == 'Москва']['sum_pay']#Присваиваю переменной k общую сумму которую платили пользователи из Москвы в месяц\n",
    "j = basss.loc[(basss['city'] != 'Москва')&(basss['sum_pay'] < 5001)]['sum_pay']#Присваиваю переменной j общую сумму которую платили пользователи не из Москвы в месяц\n",
    "results = st.ttest_ind(k,j)\n",
    "    \n",
    "print('p-значение: ', results.pvalue)#Печатаю р-значение\n",
    "    \n",
    "if (results.pvalue < alpha):#Нахожу ответ на интересующий нас вопрос \n",
    "    print(\"Отвергаем нулевую гипотезу\")\n",
    "else:\n",
    "    print(\"Не получилось отвергнуть нулевую гипотезу\")"
   ]
  },
  {
   "cell_type": "markdown",
   "metadata": {},
   "source": [
    "Как видим п-значение уменьшилось в 1,5 раза! Но разница между размерами выборок все еще велика"
   ]
  },
  {
   "cell_type": "markdown",
   "metadata": {},
   "source": [
    "<div style=\"border:solid yellow 2px; padding: 20px\"> <h1 style=\"color:orange; margin-bottom:20px\">Комментарий ревьювера</h1>\n",
    "    \n",
    "<div class=\"alert alert-block alert-warning\">\n",
    "<b>Можно улучшить:</b> Проверка статистических гипотез выполнена. Однако хотелось  бы увидить пояснени, почему были выбраны разные разные критические уровни для разных гипотез. Использование гистограм для визуализации сравниваемых выборок при проведение статистического теста, очень полезная практика, однако не забывай что даже в этом случае график не должен быть лишен атриутов облегчающих его чтение.\n",
    "</div>\n"
   ]
  },
  {
   "cell_type": "markdown",
   "metadata": {},
   "source": [
    "<div style=\"border:solid green 2px; padding: 20px\"> <h1 style=\"color:green; margin-bottom:20px\">Комментарий ревьювера</h1>\n",
    "\n",
    "<div class=\"alert alert-block alert-success\">\n",
    "<b>Все ОК:</b> Интересные результаты. А если убрать фильтрацию выбросов p-value будет еще больше. Кажется что в прошлый раз выручка была расчитана, не совсем верно...\n",
    "</div>\n"
   ]
  },
  {
   "cell_type": "markdown",
   "metadata": {},
   "source": [
    "# Шаг 5. Общий вывод"
   ]
  },
  {
   "cell_type": "markdown",
   "metadata": {},
   "source": [
    "Принятые допущения при расчете: платы по тарифному плану рассчитывались согласно дате подключения тарифа и дате прекращения пользования тарифом из таблици users. Все пропуски (нсовпадения данных по звонкам, интернет трафику, сообщениям с базовой таблицей users)- то есть переплаты по ним никак не обрабатывались, в сумму шла только плата по тарифу в месяц пользования.  "
   ]
  },
  {
   "cell_type": "markdown",
   "metadata": {},
   "source": [
    "Вывод:Были проанализированные данные пользователей телеком компании. В ходе анализа были выявлены следующие зависимости:\n",
    "        - пользователи тарифом Смарт чаще других превышают лимиты своего тарифного плана,\n",
    "        - самым часто используемым способом общения пользователей является интернет (лимиты трафика превышаются чаще других), на 2м месте звонки и люди реже всего используют смс,\n",
    "        - дисперсия использованных ресурсов,- больше у пользователей тарифа Ультра, видимо они так сказать, берут тариф про запас,\n",
    "        - самый загруженный месяц- декабрь. А самые разгруженные месяцы немного отличаются, в зависимости сообщения это или интернет травик, но все они приходятся на первый квартал года,\n",
    "        - пользователи тарифом Ультра тратят больше денег на тариф, нежели пользователи тарифом Смарт так как их средние не равны и это видно на диаграммах,\n",
    "        - пользователи из Москвы тратят денег столько же, сколько и пользователи из других городов, но из-за несоразмерности выборок и выбросов у пользователей тарифом Смарт есть вероятность ошибки второго рода.\n",
    "    Рекомендации:\n",
    "        - можно оптимизировать работу серверов по звонкам, сообщениям, интернет трафику в соответствии с сезонной нагруженностью,\n",
    "        - можно добавить еще один тарифный план, так как из-за большой дисперсии в тарифе Ультра, скорее всего есть сегмент пользователей нуждающихся в чем-то по середине между двух тарифов,\n",
    "        - можно сделать упор на пользователей из Москвы.\n",
    "Итак: самый прибыльный тариф- Ультра, что в принципе очевидно, но не каждый пользователь готов платить такие большие деньги, что можно учеть и изменить данный дарифный план или создать промежуточный."
   ]
  },
  {
   "cell_type": "markdown",
   "metadata": {},
   "source": [
    "<div style=\"border:solid yellow 2px; padding: 20px\"> <h1 style=\"color:orange; margin-bottom:20px\">Итоговый комментарий</h1>\n",
    "    \n",
    "<div class=\"alert alert-block alert-warning\">\n",
    "<b>Можно улучшить:</b> Молодец! ты справился с этим задание, однако есть моменты которые можно улучшить:\n",
    "1. Попробуй пересмотреть расчеты выручки и сделать их немного проще, большое количество создаваемых тобой переменных и попарное сращивание таблиц, является не очень хорошей практикой. В реальных проектах когда тебе будет необходимо работать с большими наборами данных, такой код будет очень расточителен по отношению к вычислительным ресурсам. \n",
    "2. Использыуемые в работе визуализации плохо читаемы, так как в них часто не хватает допонительной атрибутивной информации, ты пытаешься это компенсировать комментарифми в коде, но это не очень хорошо, так как люди не знакомые с кодом (например менеджеры, с которыми анаитикам и DS приходиться часто общаться не имеют привычки читать код и подобные графики остануться для них не понятными как и то чт ты пытался для них донести.\n",
    "3. С проверкой статистчиеских гипотез ты справился хорошо! Складывается впечатление, что тебе понятны теоретические основы данной процедуры, однако  выбор различных критических уровней значимости для разных гипотез на талкивает на мысл что результаты были подогнаны под желаемый! Надеюсь это не так)) Иначе это переобучение )) На всякий случай проверь корректность расчетов выручки возможно где-то есть погрешность.\n",
    "    \n",
    "    \n",
    "Я отправлю работу тебе на доработку, не переживай в этом нет ничего сложного и страшного, тебе будет необходимо немного \"причесать\" работу, что бы она выглядела более солидно, не забывай что один из главных софтскился для DS - это уменее презентовать результаты своей работы.\n",
    "</div>\n"
   ]
  }
 ],
 "metadata": {
  "kernelspec": {
   "display_name": "Python 3",
   "language": "python",
   "name": "python3"
  },
  "language_info": {
   "codemirror_mode": {
    "name": "ipython",
    "version": 3
   },
   "file_extension": ".py",
   "mimetype": "text/x-python",
   "name": "python",
   "nbconvert_exporter": "python",
   "pygments_lexer": "ipython3",
   "version": "3.7.8"
  },
  "toc": {
   "base_numbering": 1,
   "nav_menu": {},
   "number_sections": true,
   "sideBar": true,
   "skip_h1_title": true,
   "title_cell": "Table of Contents",
   "title_sidebar": "Contents",
   "toc_cell": false,
   "toc_position": {},
   "toc_section_display": true,
   "toc_window_display": false
  }
 },
 "nbformat": 4,
 "nbformat_minor": 2
}
